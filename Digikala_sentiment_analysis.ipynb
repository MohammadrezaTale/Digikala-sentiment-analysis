{
  "nbformat": 4,
  "nbformat_minor": 0,
  "metadata": {
    "colab": {
      "provenance": [],
      "include_colab_link": true
    },
    "kernelspec": {
      "name": "python3",
      "display_name": "Python 3"
    },
    "language_info": {
      "name": "python"
    }
  },
  "cells": [
    {
      "cell_type": "markdown",
      "metadata": {
        "id": "view-in-github",
        "colab_type": "text"
      },
      "source": [
        "<a href=\"https://colab.research.google.com/github/MohammadrezaTale/Digikala-sentiment-analysis/blob/master/Digikala_sentiment_analysis.ipynb\" target=\"_parent\"><img src=\"https://colab.research.google.com/assets/colab-badge.svg\" alt=\"Open In Colab\"/></a>"
      ]
    },
    {
      "cell_type": "markdown",
      "source": [
        "# Digikala comments sentiment analysis"
      ],
      "metadata": {
        "id": "lyRolJI68NTh"
      }
    },
    {
      "cell_type": "markdown",
      "source": [
        "## Step1) Loading Data from Google drive\n"
      ],
      "metadata": {
        "id": "rPGhssJv8WUW"
      }
    },
    {
      "cell_type": "code",
      "source": [
        "import numpy as np\n",
        "import pandas as pd\n",
        "import matplotlib.pyplot as plt\n",
        "import re\n",
        "from sklearn.model_selection import train_test_split\n",
        "from sklearn.metrics import classification_report\n",
        "from sklearn.linear_model import LogisticRegression\n",
        "from sklearn.svm import SVC\n",
        "from sklearn.naive_bayes import MultinomialNB\n",
        "from sklearn.naive_bayes import BernoulliNB\n",
        "from tqdm import tqdm"
      ],
      "metadata": {
        "id": "bH15RhcH-o0Z"
      },
      "execution_count": null,
      "outputs": []
    },
    {
      "cell_type": "code",
      "source": [
        "!gdown --id 17TXDYfMka__XHUrC30Khxn63614ZEN01"
      ],
      "metadata": {
        "colab": {
          "base_uri": "https://localhost:8080/"
        },
        "id": "JAoYUCY08LLz",
        "outputId": "a1cfa879-d107-425a-f4e6-c4775818a71a"
      },
      "execution_count": null,
      "outputs": [
        {
          "output_type": "stream",
          "name": "stdout",
          "text": [
            "/usr/local/lib/python3.9/dist-packages/gdown/cli.py:121: FutureWarning: Option `--id` was deprecated in version 4.3.1 and will be removed in 5.0. You don't need to pass it anymore to use a file ID.\n",
            "  warnings.warn(\n",
            "Downloading...\n",
            "From: https://drive.google.com/uc?id=17TXDYfMka__XHUrC30Khxn63614ZEN01\n",
            "To: /content/Digikala.csv\n",
            "100% 1.44M/1.44M [00:00<00:00, 33.4MB/s]\n"
          ]
        }
      ]
    },
    {
      "cell_type": "code",
      "execution_count": null,
      "metadata": {
        "id": "Wl3RSRP16dlS"
      },
      "outputs": [],
      "source": [
        "df = pd.read_csv('Digikala.csv')\n"
      ]
    },
    {
      "cell_type": "markdown",
      "source": [
        "## Step2) Dataframe Preprocessing"
      ],
      "metadata": {
        "id": "YZM7jG2nGFxh"
      }
    },
    {
      "cell_type": "code",
      "source": [
        "df.head()"
      ],
      "metadata": {
        "colab": {
          "base_uri": "https://localhost:8080/",
          "height": 206
        },
        "id": "Lag9LlKpDx1L",
        "outputId": "d38dd31b-01fb-46ec-ad88-3739a9461dfe"
      },
      "execution_count": null,
      "outputs": [
        {
          "output_type": "execute_result",
          "data": {
            "text/plain": [
              "                                                Text  Score  Suggestion\n",
              "0  این اولین تجربه من برای خرید ایفون هست   امروز...    100           1\n",
              "1                     خرید این محصول رو توصیه میکنم      84           1\n",
              "2  1 ساله این گوشی رو دارم   هیچ نقطه ضعفی ازش ند...     60           1\n",
              "3  سلام خدمت دوستان این گوشی از همه نظر عالی  کیف...     96           1\n",
              "4  سلام دوستانی که نگران شکستن صفحه نمایش هستند ا...     92           1"
            ],
            "text/html": [
              "\n",
              "  <div id=\"df-b1317d23-b189-47e3-b817-49ad7d95517e\">\n",
              "    <div class=\"colab-df-container\">\n",
              "      <div>\n",
              "<style scoped>\n",
              "    .dataframe tbody tr th:only-of-type {\n",
              "        vertical-align: middle;\n",
              "    }\n",
              "\n",
              "    .dataframe tbody tr th {\n",
              "        vertical-align: top;\n",
              "    }\n",
              "\n",
              "    .dataframe thead th {\n",
              "        text-align: right;\n",
              "    }\n",
              "</style>\n",
              "<table border=\"1\" class=\"dataframe\">\n",
              "  <thead>\n",
              "    <tr style=\"text-align: right;\">\n",
              "      <th></th>\n",
              "      <th>Text</th>\n",
              "      <th>Score</th>\n",
              "      <th>Suggestion</th>\n",
              "    </tr>\n",
              "  </thead>\n",
              "  <tbody>\n",
              "    <tr>\n",
              "      <th>0</th>\n",
              "      <td>این اولین تجربه من برای خرید ایفون هست   امروز...</td>\n",
              "      <td>100</td>\n",
              "      <td>1</td>\n",
              "    </tr>\n",
              "    <tr>\n",
              "      <th>1</th>\n",
              "      <td>خرید این محصول رو توصیه میکنم</td>\n",
              "      <td>84</td>\n",
              "      <td>1</td>\n",
              "    </tr>\n",
              "    <tr>\n",
              "      <th>2</th>\n",
              "      <td>1 ساله این گوشی رو دارم   هیچ نقطه ضعفی ازش ند...</td>\n",
              "      <td>60</td>\n",
              "      <td>1</td>\n",
              "    </tr>\n",
              "    <tr>\n",
              "      <th>3</th>\n",
              "      <td>سلام خدمت دوستان این گوشی از همه نظر عالی  کیف...</td>\n",
              "      <td>96</td>\n",
              "      <td>1</td>\n",
              "    </tr>\n",
              "    <tr>\n",
              "      <th>4</th>\n",
              "      <td>سلام دوستانی که نگران شکستن صفحه نمایش هستند ا...</td>\n",
              "      <td>92</td>\n",
              "      <td>1</td>\n",
              "    </tr>\n",
              "  </tbody>\n",
              "</table>\n",
              "</div>\n",
              "      <button class=\"colab-df-convert\" onclick=\"convertToInteractive('df-b1317d23-b189-47e3-b817-49ad7d95517e')\"\n",
              "              title=\"Convert this dataframe to an interactive table.\"\n",
              "              style=\"display:none;\">\n",
              "        \n",
              "  <svg xmlns=\"http://www.w3.org/2000/svg\" height=\"24px\"viewBox=\"0 0 24 24\"\n",
              "       width=\"24px\">\n",
              "    <path d=\"M0 0h24v24H0V0z\" fill=\"none\"/>\n",
              "    <path d=\"M18.56 5.44l.94 2.06.94-2.06 2.06-.94-2.06-.94-.94-2.06-.94 2.06-2.06.94zm-11 1L8.5 8.5l.94-2.06 2.06-.94-2.06-.94L8.5 2.5l-.94 2.06-2.06.94zm10 10l.94 2.06.94-2.06 2.06-.94-2.06-.94-.94-2.06-.94 2.06-2.06.94z\"/><path d=\"M17.41 7.96l-1.37-1.37c-.4-.4-.92-.59-1.43-.59-.52 0-1.04.2-1.43.59L10.3 9.45l-7.72 7.72c-.78.78-.78 2.05 0 2.83L4 21.41c.39.39.9.59 1.41.59.51 0 1.02-.2 1.41-.59l7.78-7.78 2.81-2.81c.8-.78.8-2.07 0-2.86zM5.41 20L4 18.59l7.72-7.72 1.47 1.35L5.41 20z\"/>\n",
              "  </svg>\n",
              "      </button>\n",
              "      \n",
              "  <style>\n",
              "    .colab-df-container {\n",
              "      display:flex;\n",
              "      flex-wrap:wrap;\n",
              "      gap: 12px;\n",
              "    }\n",
              "\n",
              "    .colab-df-convert {\n",
              "      background-color: #E8F0FE;\n",
              "      border: none;\n",
              "      border-radius: 50%;\n",
              "      cursor: pointer;\n",
              "      display: none;\n",
              "      fill: #1967D2;\n",
              "      height: 32px;\n",
              "      padding: 0 0 0 0;\n",
              "      width: 32px;\n",
              "    }\n",
              "\n",
              "    .colab-df-convert:hover {\n",
              "      background-color: #E2EBFA;\n",
              "      box-shadow: 0px 1px 2px rgba(60, 64, 67, 0.3), 0px 1px 3px 1px rgba(60, 64, 67, 0.15);\n",
              "      fill: #174EA6;\n",
              "    }\n",
              "\n",
              "    [theme=dark] .colab-df-convert {\n",
              "      background-color: #3B4455;\n",
              "      fill: #D2E3FC;\n",
              "    }\n",
              "\n",
              "    [theme=dark] .colab-df-convert:hover {\n",
              "      background-color: #434B5C;\n",
              "      box-shadow: 0px 1px 3px 1px rgba(0, 0, 0, 0.15);\n",
              "      filter: drop-shadow(0px 1px 2px rgba(0, 0, 0, 0.3));\n",
              "      fill: #FFFFFF;\n",
              "    }\n",
              "  </style>\n",
              "\n",
              "      <script>\n",
              "        const buttonEl =\n",
              "          document.querySelector('#df-b1317d23-b189-47e3-b817-49ad7d95517e button.colab-df-convert');\n",
              "        buttonEl.style.display =\n",
              "          google.colab.kernel.accessAllowed ? 'block' : 'none';\n",
              "\n",
              "        async function convertToInteractive(key) {\n",
              "          const element = document.querySelector('#df-b1317d23-b189-47e3-b817-49ad7d95517e');\n",
              "          const dataTable =\n",
              "            await google.colab.kernel.invokeFunction('convertToInteractive',\n",
              "                                                     [key], {});\n",
              "          if (!dataTable) return;\n",
              "\n",
              "          const docLinkHtml = 'Like what you see? Visit the ' +\n",
              "            '<a target=\"_blank\" href=https://colab.research.google.com/notebooks/data_table.ipynb>data table notebook</a>'\n",
              "            + ' to learn more about interactive tables.';\n",
              "          element.innerHTML = '';\n",
              "          dataTable['output_type'] = 'display_data';\n",
              "          await google.colab.output.renderOutput(dataTable, element);\n",
              "          const docLink = document.createElement('div');\n",
              "          docLink.innerHTML = docLinkHtml;\n",
              "          element.appendChild(docLink);\n",
              "        }\n",
              "      </script>\n",
              "    </div>\n",
              "  </div>\n",
              "  "
            ]
          },
          "metadata": {},
          "execution_count": 82
        }
      ]
    },
    {
      "cell_type": "code",
      "source": [
        "df.shape"
      ],
      "metadata": {
        "colab": {
          "base_uri": "https://localhost:8080/"
        },
        "id": "TMIJispdD39i",
        "outputId": "3ce42db4-6f28-4255-f62f-df2083f43dfe"
      },
      "execution_count": null,
      "outputs": [
        {
          "output_type": "execute_result",
          "data": {
            "text/plain": [
              "(3261, 3)"
            ]
          },
          "metadata": {},
          "execution_count": 319
        }
      ]
    },
    {
      "cell_type": "code",
      "source": [
        "df.isnull().sum()"
      ],
      "metadata": {
        "colab": {
          "base_uri": "https://localhost:8080/"
        },
        "id": "MZZrKumnESFj",
        "outputId": "8a1b5675-6099-4f71-8084-75ad8ad65892"
      },
      "execution_count": null,
      "outputs": [
        {
          "output_type": "execute_result",
          "data": {
            "text/plain": [
              "Text          0\n",
              "Score         0\n",
              "Suggestion    0\n",
              "dtype: int64"
            ]
          },
          "metadata": {},
          "execution_count": 320
        }
      ]
    },
    {
      "cell_type": "code",
      "source": [
        "#drop suggestion column\n",
        "df.drop('Suggestion',axis=1, inplace = True)"
      ],
      "metadata": {
        "id": "mkUEY1fYD67G"
      },
      "execution_count": null,
      "outputs": []
    },
    {
      "cell_type": "code",
      "source": [
        "df['Score'] = (df['Score']/10).astype('int')"
      ],
      "metadata": {
        "id": "b2FpiWdEFnfy"
      },
      "execution_count": null,
      "outputs": []
    },
    {
      "cell_type": "code",
      "source": [
        "df.sort_values(by='Score',ascending= False).head()"
      ],
      "metadata": {
        "colab": {
          "base_uri": "https://localhost:8080/",
          "height": 206
        },
        "id": "bw_qiAosG4b3",
        "outputId": "5f829434-86a4-47c2-fee7-d70e8d7d7b0f"
      },
      "execution_count": null,
      "outputs": [
        {
          "output_type": "execute_result",
          "data": {
            "text/plain": [
              "                                                   Text  Score\n",
              "0     این اولین تجربه من برای خرید ایفون هست   امروز...     10\n",
              "2364  کیفیت عالی  سریع آماده استفاده میشه همین ک می ...     10\n",
              "2014  واقعا زیباست که البته سلیقه ها متفاوته  قطعات ...     10\n",
              "2013      دسته فوق العادس حتما بخرید بی شک بهترین دستش      10\n",
              "866                                   لطفاًموجودش کنید      10"
            ],
            "text/html": [
              "\n",
              "  <div id=\"df-dfd0d63c-43c6-4a18-a61f-ff92d88e86af\">\n",
              "    <div class=\"colab-df-container\">\n",
              "      <div>\n",
              "<style scoped>\n",
              "    .dataframe tbody tr th:only-of-type {\n",
              "        vertical-align: middle;\n",
              "    }\n",
              "\n",
              "    .dataframe tbody tr th {\n",
              "        vertical-align: top;\n",
              "    }\n",
              "\n",
              "    .dataframe thead th {\n",
              "        text-align: right;\n",
              "    }\n",
              "</style>\n",
              "<table border=\"1\" class=\"dataframe\">\n",
              "  <thead>\n",
              "    <tr style=\"text-align: right;\">\n",
              "      <th></th>\n",
              "      <th>Text</th>\n",
              "      <th>Score</th>\n",
              "    </tr>\n",
              "  </thead>\n",
              "  <tbody>\n",
              "    <tr>\n",
              "      <th>0</th>\n",
              "      <td>این اولین تجربه من برای خرید ایفون هست   امروز...</td>\n",
              "      <td>10</td>\n",
              "    </tr>\n",
              "    <tr>\n",
              "      <th>2364</th>\n",
              "      <td>کیفیت عالی  سریع آماده استفاده میشه همین ک می ...</td>\n",
              "      <td>10</td>\n",
              "    </tr>\n",
              "    <tr>\n",
              "      <th>2014</th>\n",
              "      <td>واقعا زیباست که البته سلیقه ها متفاوته  قطعات ...</td>\n",
              "      <td>10</td>\n",
              "    </tr>\n",
              "    <tr>\n",
              "      <th>2013</th>\n",
              "      <td>دسته فوق العادس حتما بخرید بی شک بهترین دستش</td>\n",
              "      <td>10</td>\n",
              "    </tr>\n",
              "    <tr>\n",
              "      <th>866</th>\n",
              "      <td>لطفاًموجودش کنید</td>\n",
              "      <td>10</td>\n",
              "    </tr>\n",
              "  </tbody>\n",
              "</table>\n",
              "</div>\n",
              "      <button class=\"colab-df-convert\" onclick=\"convertToInteractive('df-dfd0d63c-43c6-4a18-a61f-ff92d88e86af')\"\n",
              "              title=\"Convert this dataframe to an interactive table.\"\n",
              "              style=\"display:none;\">\n",
              "        \n",
              "  <svg xmlns=\"http://www.w3.org/2000/svg\" height=\"24px\"viewBox=\"0 0 24 24\"\n",
              "       width=\"24px\">\n",
              "    <path d=\"M0 0h24v24H0V0z\" fill=\"none\"/>\n",
              "    <path d=\"M18.56 5.44l.94 2.06.94-2.06 2.06-.94-2.06-.94-.94-2.06-.94 2.06-2.06.94zm-11 1L8.5 8.5l.94-2.06 2.06-.94-2.06-.94L8.5 2.5l-.94 2.06-2.06.94zm10 10l.94 2.06.94-2.06 2.06-.94-2.06-.94-.94-2.06-.94 2.06-2.06.94z\"/><path d=\"M17.41 7.96l-1.37-1.37c-.4-.4-.92-.59-1.43-.59-.52 0-1.04.2-1.43.59L10.3 9.45l-7.72 7.72c-.78.78-.78 2.05 0 2.83L4 21.41c.39.39.9.59 1.41.59.51 0 1.02-.2 1.41-.59l7.78-7.78 2.81-2.81c.8-.78.8-2.07 0-2.86zM5.41 20L4 18.59l7.72-7.72 1.47 1.35L5.41 20z\"/>\n",
              "  </svg>\n",
              "      </button>\n",
              "      \n",
              "  <style>\n",
              "    .colab-df-container {\n",
              "      display:flex;\n",
              "      flex-wrap:wrap;\n",
              "      gap: 12px;\n",
              "    }\n",
              "\n",
              "    .colab-df-convert {\n",
              "      background-color: #E8F0FE;\n",
              "      border: none;\n",
              "      border-radius: 50%;\n",
              "      cursor: pointer;\n",
              "      display: none;\n",
              "      fill: #1967D2;\n",
              "      height: 32px;\n",
              "      padding: 0 0 0 0;\n",
              "      width: 32px;\n",
              "    }\n",
              "\n",
              "    .colab-df-convert:hover {\n",
              "      background-color: #E2EBFA;\n",
              "      box-shadow: 0px 1px 2px rgba(60, 64, 67, 0.3), 0px 1px 3px 1px rgba(60, 64, 67, 0.15);\n",
              "      fill: #174EA6;\n",
              "    }\n",
              "\n",
              "    [theme=dark] .colab-df-convert {\n",
              "      background-color: #3B4455;\n",
              "      fill: #D2E3FC;\n",
              "    }\n",
              "\n",
              "    [theme=dark] .colab-df-convert:hover {\n",
              "      background-color: #434B5C;\n",
              "      box-shadow: 0px 1px 3px 1px rgba(0, 0, 0, 0.15);\n",
              "      filter: drop-shadow(0px 1px 2px rgba(0, 0, 0, 0.3));\n",
              "      fill: #FFFFFF;\n",
              "    }\n",
              "  </style>\n",
              "\n",
              "      <script>\n",
              "        const buttonEl =\n",
              "          document.querySelector('#df-dfd0d63c-43c6-4a18-a61f-ff92d88e86af button.colab-df-convert');\n",
              "        buttonEl.style.display =\n",
              "          google.colab.kernel.accessAllowed ? 'block' : 'none';\n",
              "\n",
              "        async function convertToInteractive(key) {\n",
              "          const element = document.querySelector('#df-dfd0d63c-43c6-4a18-a61f-ff92d88e86af');\n",
              "          const dataTable =\n",
              "            await google.colab.kernel.invokeFunction('convertToInteractive',\n",
              "                                                     [key], {});\n",
              "          if (!dataTable) return;\n",
              "\n",
              "          const docLinkHtml = 'Like what you see? Visit the ' +\n",
              "            '<a target=\"_blank\" href=https://colab.research.google.com/notebooks/data_table.ipynb>data table notebook</a>'\n",
              "            + ' to learn more about interactive tables.';\n",
              "          element.innerHTML = '';\n",
              "          dataTable['output_type'] = 'display_data';\n",
              "          await google.colab.output.renderOutput(dataTable, element);\n",
              "          const docLink = document.createElement('div');\n",
              "          docLink.innerHTML = docLinkHtml;\n",
              "          element.appendChild(docLink);\n",
              "        }\n",
              "      </script>\n",
              "    </div>\n",
              "  </div>\n",
              "  "
            ]
          },
          "metadata": {},
          "execution_count": 364
        }
      ]
    },
    {
      "cell_type": "code",
      "source": [
        "df = df.loc[(df['Score']<6) | (df['Score']>7)]"
      ],
      "metadata": {
        "id": "TscooCnRJUgj"
      },
      "execution_count": null,
      "outputs": []
    },
    {
      "cell_type": "code",
      "source": [
        "df['Score'].value_counts().sort_values()"
      ],
      "metadata": {
        "colab": {
          "base_uri": "https://localhost:8080/"
        },
        "id": "0AZwblmMJw3B",
        "outputId": "b59d85a7-3507-48da-e19d-e1126a28977b"
      },
      "execution_count": null,
      "outputs": [
        {
          "output_type": "execute_result",
          "data": {
            "text/plain": [
              "1      22\n",
              "3      54\n",
              "0      55\n",
              "2      64\n",
              "4     149\n",
              "5     155\n",
              "9     443\n",
              "10    492\n",
              "8     752\n",
              "Name: Score, dtype: int64"
            ]
          },
          "metadata": {},
          "execution_count": 408
        }
      ]
    },
    {
      "cell_type": "code",
      "source": [
        "df.loc[:,'label'] = df['Score'].apply(lambda Score:1 if Score>7 else 0)"
      ],
      "metadata": {
        "id": "tTIwId_3HH66"
      },
      "execution_count": null,
      "outputs": []
    },
    {
      "cell_type": "code",
      "source": [
        "df['label'].value_counts().sort_values()"
      ],
      "metadata": {
        "colab": {
          "base_uri": "https://localhost:8080/"
        },
        "id": "GJPuoOqySs8U",
        "outputId": "0822fe00-1ebf-4df0-9c6e-398f37935730"
      },
      "execution_count": null,
      "outputs": [
        {
          "output_type": "execute_result",
          "data": {
            "text/plain": [
              "0     499\n",
              "1    1687\n",
              "Name: label, dtype: int64"
            ]
          },
          "metadata": {},
          "execution_count": 416
        }
      ]
    },
    {
      "cell_type": "code",
      "source": [
        "df.info()"
      ],
      "metadata": {
        "colab": {
          "base_uri": "https://localhost:8080/"
        },
        "id": "hlV4P_wETkow",
        "outputId": "718b2158-9e88-48d0-9811-03911bd1bbff"
      },
      "execution_count": null,
      "outputs": [
        {
          "output_type": "stream",
          "name": "stdout",
          "text": [
            "<class 'pandas.core.frame.DataFrame'>\n",
            "Int64Index: 2186 entries, 0 to 3260\n",
            "Data columns (total 3 columns):\n",
            " #   Column  Non-Null Count  Dtype \n",
            "---  ------  --------------  ----- \n",
            " 0   Text    2186 non-null   object\n",
            " 1   Score   2186 non-null   int64 \n",
            " 2   label   2186 non-null   int64 \n",
            "dtypes: int64(2), object(1)\n",
            "memory usage: 68.3+ KB\n"
          ]
        }
      ]
    },
    {
      "cell_type": "code",
      "source": [
        "plt.bar(['Positive','Negative'], df['label'].value_counts())"
      ],
      "metadata": {
        "id": "AdGruQQtIhyW",
        "colab": {
          "base_uri": "https://localhost:8080/",
          "height": 447
        },
        "outputId": "5554c13a-d29b-4808-99e4-a06dfde5ff6d"
      },
      "execution_count": null,
      "outputs": [
        {
          "output_type": "execute_result",
          "data": {
            "text/plain": [
              "<BarContainer object of 2 artists>"
            ]
          },
          "metadata": {},
          "execution_count": 418
        },
        {
          "output_type": "display_data",
          "data": {
            "text/plain": [
              "<Figure size 640x480 with 1 Axes>"
            ],
            "image/png": "[encoded data removed]"
          },
          "metadata": {}
        }
      ]
    },
    {
      "cell_type": "markdown",
      "source": [
        "## Text Preprocessing"
      ],
      "metadata": {
        "id": "LNAAHZJdt8DD"
      }
    },
    {
      "cell_type": "code",
      "source": [
        "df['Text'].iloc[20]"
      ],
      "metadata": {
        "colab": {
          "base_uri": "https://localhost:8080/",
          "height": 105
        },
        "id": "whcTAla2pHFj",
        "outputId": "68663bf4-6dff-4862-f2f4-fc6592a6ae3b"
      },
      "execution_count": null,
      "outputs": [
        {
          "output_type": "execute_result",
          "data": {
            "text/plain": [
              "'سلام من تقریبا دو ماهی میشه که این گوشی رو خریدم و خدا رو شکر هیچ عیب قابل توجهی نداشته که بخواد اذیت کنه از لحاظ ظاهری خیلی پشت گوشی قشنگه و تو چشمه و همون اول که میبینیش خود نمایی میکنه توی قدرت همه جور بازی رو اجرا میکنه پس نگران قدرت و عملکردش نباشید من  خودم بازی های مختلفی رو روش اجرا کردم مثل Mortal kombat X که واقها بازی سنگینیه ولی بدون کوچکترین مشکلی اجراش کرد گوشی همون اول Android 7 با رابط کاربری EMUI 5 1 اما به Android 8 و رابط کاربری EMUI 8 اپدیت میشه تو اپدیت قابلیت Game suit هم اضافه شده که میتونید قدرت گوشی رو تو اجرای بازی کنترل کنید و اگه اون رو روی حالت Gaming mode بزارید بازی مثل asfalt 8 رو تو پس زمینه حتی بعد از چند ساعت باز نگه میداره و این خبر خوبیه برای گیمرا توی دوربین هم هواوی چیزی کم نزاشته و واقعا امکانات عالی داره تو شب و محیط های کم نور میتونید از حالت Night mode استفاده کنید  توی این حالت عکس ها بدون نویز ثبت میشه ولی نیاز به پایه دارید توی روز هم که خودتون میدونید عالیه خود رابط کاربری توی اپدیت جدید بحبود هایی رو داشته و گزینه تشخیص چهره  Face unlock  هم بهش اضافه شده توی باطری هم نه میشه گفت بد و نه عالی اما خوبه توی یک ساعت و ده دقیقه کامل شارژ میشه و در استفاده ترکیبی از گوشی 1 روز کامل رو شارژ داره توی بازی های انلاین هم مثل Clash of Clans تو 1 ساعت بازی کردن با نت 4G باطری 6 درصد و توی Asfalt 8 تو 1 ساعت بازی 11 درصد کم شد در کل توی همه چیزش عالیه شک نکنید بخریدش اما اگه به دوربین اهمیت میدیید پیشنهاد من به شما Huawei P10 هست درضمن من این گوشی رو از دیجیکالا خریدم وتو 2 بدستم رسید شما هم اگه میخواید این گوشی رو بخرید از دیجی کالا بخرید که خیلی توپه ممنون از شما که نظر من رو درباره ی این گوشی خواندید '"
            ],
            "application/vnd.google.colaboratory.intrinsic+json": {
              "type": "string"
            }
          },
          "metadata": {},
          "execution_count": 419
        }
      ]
    },
    {
      "cell_type": "code",
      "source": [
        "corpus =df.copy()"
      ],
      "metadata": {
        "id": "0i2BdBV6wgsF"
      },
      "execution_count": null,
      "outputs": []
    },
    {
      "cell_type": "code",
      "source": [
        "#hazm\n",
        "!pip install hazm\n",
        "from hazm import *"
      ],
      "metadata": {
        "id": "am1ZW1pDzn5U",
        "colab": {
          "base_uri": "https://localhost:8080/"
        },
        "outputId": "f3b9cf83-33fb-4636-ea2a-56a33ca1ee57"
      },
      "execution_count": null,
      "outputs": [
        {
          "output_type": "stream",
          "name": "stdout",
          "text": [
            "Looking in indexes: https://pypi.org/simple, https://us-python.pkg.dev/colab-wheels/public/simple/\n",
            "Requirement already satisfied: hazm in /usr/local/lib/python3.9/dist-packages (0.7.0)\n",
            "Requirement already satisfied: libwapiti>=0.2.1 in /usr/local/lib/python3.9/dist-packages (from hazm) (0.2.1)\n",
            "Requirement already satisfied: nltk==3.3 in /usr/local/lib/python3.9/dist-packages (from hazm) (3.3)\n",
            "Requirement already satisfied: six in /usr/local/lib/python3.9/dist-packages (from nltk==3.3->hazm) (1.16.0)\n"
          ]
        }
      ]
    },
    {
      "cell_type": "code",
      "source": [
        "stemmer = Stemmer()\n",
        "lemma = Lemmatizer()"
      ],
      "metadata": {
        "id": "4BCQZWpUEF2Z"
      },
      "execution_count": null,
      "outputs": []
    },
    {
      "cell_type": "code",
      "source": [
        "stopword = stopwords_list()\n",
        "unwanted_num = {'هستند','عالی','نیستند','نبود','نمی شود', 'است', 'می شود', 'شد', 'شده', 'بود' ,'نیست', 'خوبی', 'خوب' ,'بهترین', 'بهتر', 'متاسفانه'} \n",
        "stopwords = [item for item in stopword if item not in unwanted_num]"
      ],
      "metadata": {
        "id": "JnT-uimeEY0C"
      },
      "execution_count": null,
      "outputs": []
    },
    {
      "cell_type": "code",
      "source": [
        "stopword"
      ],
      "metadata": {
        "id": "C2jVboGyGB6s",
        "colab": {
          "base_uri": "https://localhost:8080/"
        },
        "outputId": "20567eb0-11b3-462b-d7db-aa89c10c3441"
      },
      "execution_count": null,
      "outputs": [
        {
          "output_type": "execute_result",
          "data": {
            "text/plain": [
              "['و',\n",
              " 'در',\n",
              " 'به',\n",
              " 'از',\n",
              " 'که',\n",
              " 'این',\n",
              " 'را',\n",
              " 'با',\n",
              " 'است',\n",
              " 'برای',\n",
              " 'آن',\n",
              " 'یک',\n",
              " 'خود',\n",
              " 'تا',\n",
              " 'کرد',\n",
              " 'بر',\n",
              " 'هم',\n",
              " 'نیز',\n",
              " 'گفت',\n",
              " 'می\\u200cشود',\n",
              " 'وی',\n",
              " 'شد',\n",
              " 'دارد',\n",
              " 'ما',\n",
              " 'اما',\n",
              " 'یا',\n",
              " 'شده',\n",
              " 'باید',\n",
              " 'هر',\n",
              " 'آنها',\n",
              " 'بود',\n",
              " 'او',\n",
              " 'دیگر',\n",
              " 'دو',\n",
              " 'مورد',\n",
              " 'می\\u200cکند',\n",
              " 'شود',\n",
              " 'کند',\n",
              " 'وجود',\n",
              " 'بین',\n",
              " 'پیش',\n",
              " 'شده_است',\n",
              " 'پس',\n",
              " 'نظر',\n",
              " 'اگر',\n",
              " 'همه',\n",
              " 'یکی',\n",
              " 'حال',\n",
              " 'هستند',\n",
              " 'من',\n",
              " 'کنند',\n",
              " 'نیست',\n",
              " 'باشد',\n",
              " 'چه',\n",
              " 'بی',\n",
              " 'می',\n",
              " 'بخش',\n",
              " 'می\\u200cکنند',\n",
              " 'همین',\n",
              " 'افزود',\n",
              " 'هایی',\n",
              " 'دارند',\n",
              " 'راه',\n",
              " 'همچنین',\n",
              " 'روی',\n",
              " 'داد',\n",
              " 'بیشتر',\n",
              " 'بسیار',\n",
              " 'سه',\n",
              " 'داشت',\n",
              " 'چند',\n",
              " 'سوی',\n",
              " 'تنها',\n",
              " 'هیچ',\n",
              " 'میان',\n",
              " 'اینکه',\n",
              " 'شدن',\n",
              " 'بعد',\n",
              " 'جدید',\n",
              " 'ولی',\n",
              " 'حتی',\n",
              " 'کردن',\n",
              " 'برخی',\n",
              " 'کردند',\n",
              " 'می\\u200cدهد',\n",
              " 'اول',\n",
              " 'نه',\n",
              " 'کرده_است',\n",
              " 'نسبت',\n",
              " 'بیش',\n",
              " 'شما',\n",
              " 'چنین',\n",
              " 'طور',\n",
              " 'افراد',\n",
              " 'تمام',\n",
              " 'درباره',\n",
              " 'بار',\n",
              " 'بسیاری',\n",
              " 'می\\u200cتواند',\n",
              " 'کرده',\n",
              " 'چون',\n",
              " 'ندارد',\n",
              " 'دوم',\n",
              " 'بزرگ',\n",
              " 'طی',\n",
              " 'حدود',\n",
              " 'همان',\n",
              " 'بدون',\n",
              " 'البته',\n",
              " 'آنان',\n",
              " 'می\\u200cگوید',\n",
              " 'دیگری',\n",
              " 'خواهد_شد',\n",
              " 'کنیم',\n",
              " 'قابل',\n",
              " 'یعنی',\n",
              " 'رشد',\n",
              " 'می\\u200cتوان',\n",
              " 'وارد',\n",
              " 'کل',\n",
              " 'ویژه',\n",
              " 'قبل',\n",
              " 'براساس',\n",
              " 'نیاز',\n",
              " 'گذاری',\n",
              " 'هنوز',\n",
              " 'لازم',\n",
              " 'سازی',\n",
              " 'بوده_است',\n",
              " 'چرا',\n",
              " 'می\\u200cشوند',\n",
              " 'وقتی',\n",
              " 'گرفت',\n",
              " 'کم',\n",
              " 'جای',\n",
              " 'حالی',\n",
              " 'تغییر',\n",
              " 'پیدا',\n",
              " 'اکنون',\n",
              " 'تحت',\n",
              " 'باعث',\n",
              " 'مدت',\n",
              " 'فقط',\n",
              " 'زیادی',\n",
              " 'تعداد',\n",
              " 'آیا',\n",
              " 'بیان',\n",
              " 'رو',\n",
              " 'شدند',\n",
              " 'عدم',\n",
              " 'کرده_اند',\n",
              " 'بودن',\n",
              " 'نوع',\n",
              " 'بلکه',\n",
              " 'جاری',\n",
              " 'دهد',\n",
              " 'برابر',\n",
              " 'مهم',\n",
              " 'بوده',\n",
              " 'اخیر',\n",
              " 'مربوط',\n",
              " 'امر',\n",
              " 'زیر',\n",
              " 'گیری',\n",
              " 'شاید',\n",
              " 'خصوص',\n",
              " 'آقای',\n",
              " 'اثر',\n",
              " 'کننده',\n",
              " 'بودند',\n",
              " 'فکر',\n",
              " 'کنار',\n",
              " 'اولین',\n",
              " 'سوم',\n",
              " 'سایر',\n",
              " 'کنید',\n",
              " 'ضمن',\n",
              " 'مانند',\n",
              " 'باز',\n",
              " 'می\\u200cگیرد',\n",
              " 'ممکن',\n",
              " 'حل',\n",
              " 'دارای',\n",
              " 'پی',\n",
              " 'مثل',\n",
              " 'می\\u200cرسد',\n",
              " 'اجرا',\n",
              " 'دور',\n",
              " 'منظور',\n",
              " 'کسی',\n",
              " 'موجب',\n",
              " 'طول',\n",
              " 'امکان',\n",
              " 'آنچه',\n",
              " 'تعیین',\n",
              " 'گفته',\n",
              " 'شوند',\n",
              " 'جمع',\n",
              " 'خیلی',\n",
              " 'علاوه',\n",
              " 'گونه',\n",
              " 'تاکنون',\n",
              " 'رسید',\n",
              " 'ساله',\n",
              " 'گرفته',\n",
              " 'شده_اند',\n",
              " 'علت',\n",
              " 'چهار',\n",
              " 'داشته_باشد',\n",
              " 'خواهد_بود',\n",
              " 'طرف',\n",
              " 'تهیه',\n",
              " 'تبدیل',\n",
              " 'مناسب',\n",
              " 'زیرا',\n",
              " 'مشخص',\n",
              " 'می\\u200cتوانند',\n",
              " 'نزدیک',\n",
              " 'جریان',\n",
              " 'روند',\n",
              " 'بنابراین',\n",
              " 'می\\u200cدهند',\n",
              " 'یافت',\n",
              " 'نخستین',\n",
              " 'بالا',\n",
              " 'پنج',\n",
              " 'ریزی',\n",
              " 'عالی',\n",
              " 'چیزی',\n",
              " 'نخست',\n",
              " 'بیشتری',\n",
              " 'ترتیب',\n",
              " 'شده_بود',\n",
              " 'خاص',\n",
              " 'خوبی',\n",
              " 'خوب',\n",
              " 'شروع',\n",
              " 'فرد',\n",
              " 'کامل',\n",
              " 'غیر',\n",
              " 'می\\u200cرود',\n",
              " 'دهند',\n",
              " 'آخرین',\n",
              " 'دادن',\n",
              " 'جدی',\n",
              " 'بهترین',\n",
              " 'شامل',\n",
              " 'گیرد',\n",
              " 'بخشی',\n",
              " 'باشند',\n",
              " 'تمامی',\n",
              " 'بهتر',\n",
              " 'داده_است',\n",
              " 'حد',\n",
              " 'نبود',\n",
              " 'کسانی',\n",
              " 'می\\u200cکرد',\n",
              " 'داریم',\n",
              " 'علیه',\n",
              " 'می\\u200cباشد',\n",
              " 'دانست',\n",
              " 'ناشی',\n",
              " 'داشتند',\n",
              " 'دهه',\n",
              " 'می\\u200cشد',\n",
              " 'ایشان',\n",
              " 'آنجا',\n",
              " 'گرفته_است',\n",
              " 'دچار',\n",
              " 'می\\u200cآید',\n",
              " 'لحاظ',\n",
              " 'آنکه',\n",
              " 'داده',\n",
              " 'بعضی',\n",
              " 'هستیم',\n",
              " 'اند',\n",
              " 'برداری',\n",
              " 'نباید',\n",
              " 'می\\u200cکنیم',\n",
              " 'نشست',\n",
              " 'سهم',\n",
              " 'همیشه',\n",
              " 'آمد',\n",
              " 'اش',\n",
              " 'وگو',\n",
              " 'می\\u200cکنم',\n",
              " 'حداقل',\n",
              " 'طبق',\n",
              " 'جا',\n",
              " 'خواهد_کرد',\n",
              " 'نوعی',\n",
              " 'چگونه',\n",
              " 'رفت',\n",
              " 'هنگام',\n",
              " 'فوق',\n",
              " 'روش',\n",
              " 'ندارند',\n",
              " 'سعی',\n",
              " 'بندی',\n",
              " 'شمار',\n",
              " 'کلی',\n",
              " 'کافی',\n",
              " 'مواجه',\n",
              " 'همچنان',\n",
              " 'زیاد',\n",
              " 'سمت',\n",
              " 'کوچک',\n",
              " 'داشته_است',\n",
              " 'چیز',\n",
              " 'پشت',\n",
              " 'آورد',\n",
              " 'حالا',\n",
              " 'روبه',\n",
              " 'سال\\u200cهای',\n",
              " 'دادند',\n",
              " 'می\\u200cکردند',\n",
              " 'عهده',\n",
              " 'نیمه',\n",
              " 'جایی',\n",
              " 'دیگران',\n",
              " 'سی',\n",
              " 'بروز',\n",
              " 'یکدیگر',\n",
              " 'آمده_است',\n",
              " 'جز',\n",
              " 'کنم',\n",
              " 'سپس',\n",
              " 'کنندگان',\n",
              " 'خودش',\n",
              " 'همواره',\n",
              " 'یافته',\n",
              " 'شان',\n",
              " 'صرف',\n",
              " 'نمی\\u200cشود',\n",
              " 'رسیدن',\n",
              " 'چهارم',\n",
              " 'یابد',\n",
              " 'متر',\n",
              " 'ساز',\n",
              " 'داشته',\n",
              " 'کرده_بود',\n",
              " 'باره',\n",
              " 'نحوه',\n",
              " 'کردم',\n",
              " 'تو',\n",
              " 'شخصی',\n",
              " 'داشته_باشند',\n",
              " 'محسوب',\n",
              " 'پخش',\n",
              " 'کمی',\n",
              " 'متفاوت',\n",
              " 'سراسر',\n",
              " 'کاملا',\n",
              " 'داشتن',\n",
              " 'نظیر',\n",
              " 'آمده',\n",
              " 'گروهی',\n",
              " 'فردی',\n",
              " 'ع',\n",
              " 'همچون',\n",
              " 'خطر',\n",
              " 'خویش',\n",
              " 'کدام',\n",
              " 'دسته',\n",
              " 'سبب',\n",
              " 'عین',\n",
              " 'آوری',\n",
              " 'متاسفانه',\n",
              " 'بیرون',\n",
              " 'دار',\n",
              " 'ابتدا',\n",
              " 'شش',\n",
              " 'افرادی',\n",
              " 'می\\u200cگویند',\n",
              " 'سالهای',\n",
              " 'درون',\n",
              " 'نیستند',\n",
              " 'یافته_است',\n",
              " 'پر',\n",
              " 'خاطرنشان',\n",
              " 'گاه',\n",
              " 'جمعی',\n",
              " 'اغلب',\n",
              " 'دوباره',\n",
              " 'می\\u200cیابد',\n",
              " 'لذا',\n",
              " 'زاده',\n",
              " 'گردد',\n",
              " 'اینجا']"
            ]
          },
          "metadata": {},
          "execution_count": 424
        }
      ]
    },
    {
      "cell_type": "code",
      "source": [
        "len(stopwords_list())"
      ],
      "metadata": {
        "colab": {
          "base_uri": "https://localhost:8080/"
        },
        "id": "yTQvTksOFo8P",
        "outputId": "7f7fb0ef-6790-49c0-96a0-326dfcd13f37"
      },
      "execution_count": null,
      "outputs": [
        {
          "output_type": "execute_result",
          "data": {
            "text/plain": [
              "389"
            ]
          },
          "metadata": {},
          "execution_count": 425
        }
      ]
    },
    {
      "cell_type": "code",
      "source": [
        "len(stopwords)"
      ],
      "metadata": {
        "colab": {
          "base_uri": "https://localhost:8080/"
        },
        "id": "-fyB29sJFjI4",
        "outputId": "0724b1c9-976a-4fc1-fc0f-f4f0c5a96b7c"
      },
      "execution_count": null,
      "outputs": [
        {
          "output_type": "execute_result",
          "data": {
            "text/plain": [
              "375"
            ]
          },
          "metadata": {},
          "execution_count": 426
        }
      ]
    },
    {
      "cell_type": "code",
      "source": [
        "def preprocess(review_text):\n",
        "  review_text = re.sub('https\\S+','',review_text)\n",
        "  review_text = re.sub('[a-zA-z]','',review_text)\n",
        "  review_text = re.sub(r'[!”#$%&’()*+,-/:;<=>?@[\\]^_`{|}~0-9۱۲۳۴۵۶۷۸۹۰]','',review_text)\n",
        "  review_text = re.sub(r'[\\s]{2,}', ' ',review_text)\n",
        "  review_text = re.sub(r'(\\w)\\1{2,}', r'\\1',review_text)\n",
        "  # review_text = sent_tokenize(review_text)\n",
        "  review_text = word_tokenize(review_text)\n",
        "  review_text = [item for item in review_text if item not in stopwords]\n",
        "  review_text = [stemmer.stem(i) for i in review_text]\n",
        "  review_text = [lemma.lemmatize(word=w, pos='v') for w in review_text]\n",
        "  review_text = [i for i in review_text if len(i) > 1]\n",
        "  review_text = ' '.join(review_text)\n",
        "  if re.search(r'[\\u0600-\\u06FF]', review_text):\n",
        "    return review_text\n",
        "  else:\n",
        "    return None"
      ],
      "metadata": {
        "id": "y7fItcGOocnA"
      },
      "execution_count": null,
      "outputs": []
    },
    {
      "cell_type": "code",
      "source": [
        "tqdm.pandas()"
      ],
      "metadata": {
        "id": "1OAK3_NqV_YD"
      },
      "execution_count": null,
      "outputs": []
    },
    {
      "cell_type": "code",
      "source": [
        "corpus['CleanText'] = df['Text'].progress_apply(preprocess)"
      ],
      "metadata": {
        "colab": {
          "base_uri": "https://localhost:8080/"
        },
        "id": "7hA01unUpZNE",
        "outputId": "c953b270-8538-48e6-9ab1-0be9c144cc7a"
      },
      "execution_count": null,
      "outputs": [
        {
          "output_type": "stream",
          "name": "stderr",
          "text": [
            "100%|██████████| 2186/2186 [00:00<00:00, 2318.52it/s]\n"
          ]
        }
      ]
    },
    {
      "cell_type": "code",
      "source": [
        "corpus['CleanText'].iloc[20]\n",
        "# df['Text'].iloc[30]"
      ],
      "metadata": {
        "colab": {
          "base_uri": "https://localhost:8080/",
          "height": 87
        },
        "id": "ciUPXX6XQOgn",
        "outputId": "4e4a5dff-114d-4815-dc38-ae35c1df8a0c"
      },
      "execution_count": null,
      "outputs": [
        {
          "output_type": "execute_result",
          "data": {
            "text/plain": [
              "'سلا تقریبا ماه میشه گوش خرید خدا شکر عیب توجه نداشته بخواد اذ کنه ظاهر گوش قشنگه چشمه همون میبین نما میکنه تو قدر جور باز میکنه نگر قدر عملکرد نباشید خود باز مختلف واق باز سنگینیه کوچک مشکل اجرا گوش همون رابط کاربر رابط کاربر اپد میشه اپد قابل اضافه شده میتونید قدر گوش اجرا باز کنترل اگه اون حال بزارید باز زمینه ساع نگه میداره خبر خوبیه گیمرا تو دوربین هواو نزاشته واقعا امک عال داره شب محیط نور میتونید حال استفاده تو حال عکس نویز ثب میشه پایه دارید تو روز خودتون میدونید عالیه رابط کاربر تو اپد بحبود گزینه تشخیص چهره به اضافه شده تو باطر میشه بد عال خوبه تو ساع ده دقیقه شارژ میشه استفاده ترکیب گوش روز شارژ داره تو باز انلاین ساع باز باطر درصد تو ساع باز درصد شد تو چیز عالیه شک نکنید بخرید اگه دوربین اهم میدیید پیشنهاد هس درضمن گوش دیجیکالا خرید وتو بدس اگه میخواید گوش بخرید دیج کالا بخرید توپه ممنون گوش خواندید'"
            ],
            "application/vnd.google.colaboratory.intrinsic+json": {
              "type": "string"
            }
          },
          "metadata": {},
          "execution_count": 647
        }
      ]
    },
    {
      "cell_type": "code",
      "source": [
        "corpus.head()"
      ],
      "metadata": {
        "colab": {
          "base_uri": "https://localhost:8080/",
          "height": 206
        },
        "id": "b8AdhDJxqyAd",
        "outputId": "804b443c-2a3f-4e7c-dca2-4b25a2f2b139"
      },
      "execution_count": null,
      "outputs": [
        {
          "output_type": "execute_result",
          "data": {
            "text/plain": [
              "                                                Text  Score  label  \\\n",
              "0  این اولین تجربه من برای خرید ایفون هست   امروز...     10      1   \n",
              "1                     خرید این محصول رو توصیه میکنم       8      1   \n",
              "3  سلام خدمت دوستان این گوشی از همه نظر عالی  کیف...      9      1   \n",
              "4  سلام دوستانی که نگران شکستن صفحه نمایش هستند ا...      9      1   \n",
              "6  اول از همه خوشحالم که بالاخره نسخه های 128 گیگ...      9      1   \n",
              "\n",
              "                                           CleanText  \n",
              "0  تجربه خرید ایفون هس امروز دس رسیده اس طلا هس د...  \n",
              "1                              خرید محصول توصیه میکن  \n",
              "3  سلا خدم دوس گوش عال کیف ساخ سرع کیف صدا تصویر ...  \n",
              "4  سلا دوستان نگر شکستن صفحه نما هستند بدونند صفح...  \n",
              "6  خوشحال بالاخره نسخه گیگابایت فرو قرار حافظه گو...  "
            ],
            "text/html": [
              "\n",
              "  <div id=\"df-dd355856-42dc-4177-88fe-fb144d9c82d9\">\n",
              "    <div class=\"colab-df-container\">\n",
              "      <div>\n",
              "<style scoped>\n",
              "    .dataframe tbody tr th:only-of-type {\n",
              "        vertical-align: middle;\n",
              "    }\n",
              "\n",
              "    .dataframe tbody tr th {\n",
              "        vertical-align: top;\n",
              "    }\n",
              "\n",
              "    .dataframe thead th {\n",
              "        text-align: right;\n",
              "    }\n",
              "</style>\n",
              "<table border=\"1\" class=\"dataframe\">\n",
              "  <thead>\n",
              "    <tr style=\"text-align: right;\">\n",
              "      <th></th>\n",
              "      <th>Text</th>\n",
              "      <th>Score</th>\n",
              "      <th>label</th>\n",
              "      <th>CleanText</th>\n",
              "    </tr>\n",
              "  </thead>\n",
              "  <tbody>\n",
              "    <tr>\n",
              "      <th>0</th>\n",
              "      <td>این اولین تجربه من برای خرید ایفون هست   امروز...</td>\n",
              "      <td>10</td>\n",
              "      <td>1</td>\n",
              "      <td>تجربه خرید ایفون هس امروز دس رسیده اس طلا هس د...</td>\n",
              "    </tr>\n",
              "    <tr>\n",
              "      <th>1</th>\n",
              "      <td>خرید این محصول رو توصیه میکنم</td>\n",
              "      <td>8</td>\n",
              "      <td>1</td>\n",
              "      <td>خرید محصول توصیه میکن</td>\n",
              "    </tr>\n",
              "    <tr>\n",
              "      <th>3</th>\n",
              "      <td>سلام خدمت دوستان این گوشی از همه نظر عالی  کیف...</td>\n",
              "      <td>9</td>\n",
              "      <td>1</td>\n",
              "      <td>سلا خدم دوس گوش عال کیف ساخ سرع کیف صدا تصویر ...</td>\n",
              "    </tr>\n",
              "    <tr>\n",
              "      <th>4</th>\n",
              "      <td>سلام دوستانی که نگران شکستن صفحه نمایش هستند ا...</td>\n",
              "      <td>9</td>\n",
              "      <td>1</td>\n",
              "      <td>سلا دوستان نگر شکستن صفحه نما هستند بدونند صفح...</td>\n",
              "    </tr>\n",
              "    <tr>\n",
              "      <th>6</th>\n",
              "      <td>اول از همه خوشحالم که بالاخره نسخه های 128 گیگ...</td>\n",
              "      <td>9</td>\n",
              "      <td>1</td>\n",
              "      <td>خوشحال بالاخره نسخه گیگابایت فرو قرار حافظه گو...</td>\n",
              "    </tr>\n",
              "  </tbody>\n",
              "</table>\n",
              "</div>\n",
              "      <button class=\"colab-df-convert\" onclick=\"convertToInteractive('df-dd355856-42dc-4177-88fe-fb144d9c82d9')\"\n",
              "              title=\"Convert this dataframe to an interactive table.\"\n",
              "              style=\"display:none;\">\n",
              "        \n",
              "  <svg xmlns=\"http://www.w3.org/2000/svg\" height=\"24px\"viewBox=\"0 0 24 24\"\n",
              "       width=\"24px\">\n",
              "    <path d=\"M0 0h24v24H0V0z\" fill=\"none\"/>\n",
              "    <path d=\"M18.56 5.44l.94 2.06.94-2.06 2.06-.94-2.06-.94-.94-2.06-.94 2.06-2.06.94zm-11 1L8.5 8.5l.94-2.06 2.06-.94-2.06-.94L8.5 2.5l-.94 2.06-2.06.94zm10 10l.94 2.06.94-2.06 2.06-.94-2.06-.94-.94-2.06-.94 2.06-2.06.94z\"/><path d=\"M17.41 7.96l-1.37-1.37c-.4-.4-.92-.59-1.43-.59-.52 0-1.04.2-1.43.59L10.3 9.45l-7.72 7.72c-.78.78-.78 2.05 0 2.83L4 21.41c.39.39.9.59 1.41.59.51 0 1.02-.2 1.41-.59l7.78-7.78 2.81-2.81c.8-.78.8-2.07 0-2.86zM5.41 20L4 18.59l7.72-7.72 1.47 1.35L5.41 20z\"/>\n",
              "  </svg>\n",
              "      </button>\n",
              "      \n",
              "  <style>\n",
              "    .colab-df-container {\n",
              "      display:flex;\n",
              "      flex-wrap:wrap;\n",
              "      gap: 12px;\n",
              "    }\n",
              "\n",
              "    .colab-df-convert {\n",
              "      background-color: #E8F0FE;\n",
              "      border: none;\n",
              "      border-radius: 50%;\n",
              "      cursor: pointer;\n",
              "      display: none;\n",
              "      fill: #1967D2;\n",
              "      height: 32px;\n",
              "      padding: 0 0 0 0;\n",
              "      width: 32px;\n",
              "    }\n",
              "\n",
              "    .colab-df-convert:hover {\n",
              "      background-color: #E2EBFA;\n",
              "      box-shadow: 0px 1px 2px rgba(60, 64, 67, 0.3), 0px 1px 3px 1px rgba(60, 64, 67, 0.15);\n",
              "      fill: #174EA6;\n",
              "    }\n",
              "\n",
              "    [theme=dark] .colab-df-convert {\n",
              "      background-color: #3B4455;\n",
              "      fill: #D2E3FC;\n",
              "    }\n",
              "\n",
              "    [theme=dark] .colab-df-convert:hover {\n",
              "      background-color: #434B5C;\n",
              "      box-shadow: 0px 1px 3px 1px rgba(0, 0, 0, 0.15);\n",
              "      filter: drop-shadow(0px 1px 2px rgba(0, 0, 0, 0.3));\n",
              "      fill: #FFFFFF;\n",
              "    }\n",
              "  </style>\n",
              "\n",
              "      <script>\n",
              "        const buttonEl =\n",
              "          document.querySelector('#df-dd355856-42dc-4177-88fe-fb144d9c82d9 button.colab-df-convert');\n",
              "        buttonEl.style.display =\n",
              "          google.colab.kernel.accessAllowed ? 'block' : 'none';\n",
              "\n",
              "        async function convertToInteractive(key) {\n",
              "          const element = document.querySelector('#df-dd355856-42dc-4177-88fe-fb144d9c82d9');\n",
              "          const dataTable =\n",
              "            await google.colab.kernel.invokeFunction('convertToInteractive',\n",
              "                                                     [key], {});\n",
              "          if (!dataTable) return;\n",
              "\n",
              "          const docLinkHtml = 'Like what you see? Visit the ' +\n",
              "            '<a target=\"_blank\" href=https://colab.research.google.com/notebooks/data_table.ipynb>data table notebook</a>'\n",
              "            + ' to learn more about interactive tables.';\n",
              "          element.innerHTML = '';\n",
              "          dataTable['output_type'] = 'display_data';\n",
              "          await google.colab.output.renderOutput(dataTable, element);\n",
              "          const docLink = document.createElement('div');\n",
              "          docLink.innerHTML = docLinkHtml;\n",
              "          element.appendChild(docLink);\n",
              "        }\n",
              "      </script>\n",
              "    </div>\n",
              "  </div>\n",
              "  "
            ]
          },
          "metadata": {},
          "execution_count": 648
        }
      ]
    },
    {
      "cell_type": "code",
      "source": [
        "corpus.info()"
      ],
      "metadata": {
        "colab": {
          "base_uri": "https://localhost:8080/"
        },
        "id": "ousMMblILMiq",
        "outputId": "0a6b9ed3-389d-452f-eed1-242d1e166ede"
      },
      "execution_count": null,
      "outputs": [
        {
          "output_type": "stream",
          "name": "stdout",
          "text": [
            "<class 'pandas.core.frame.DataFrame'>\n",
            "Int64Index: 2186 entries, 0 to 3260\n",
            "Data columns (total 4 columns):\n",
            " #   Column     Non-Null Count  Dtype \n",
            "---  ------     --------------  ----- \n",
            " 0   Text       2186 non-null   object\n",
            " 1   Score      2186 non-null   int64 \n",
            " 2   label      2186 non-null   int64 \n",
            " 3   CleanText  2186 non-null   object\n",
            "dtypes: int64(2), object(2)\n",
            "memory usage: 85.4+ KB\n"
          ]
        }
      ]
    },
    {
      "cell_type": "code",
      "source": [
        "corpus.isnull().sum()"
      ],
      "metadata": {
        "colab": {
          "base_uri": "https://localhost:8080/"
        },
        "id": "bCIvJR5DxcKs",
        "outputId": "24acc296-23ff-478c-8996-9c772bcd984d"
      },
      "execution_count": null,
      "outputs": [
        {
          "output_type": "execute_result",
          "data": {
            "text/plain": [
              "Text         0\n",
              "Score        0\n",
              "label        0\n",
              "CleanText    0\n",
              "dtype: int64"
            ]
          },
          "metadata": {},
          "execution_count": 650
        }
      ]
    },
    {
      "cell_type": "code",
      "source": [
        "corpus = corpus.dropna(axis=0)"
      ],
      "metadata": {
        "id": "H-w_dDrzxf_p"
      },
      "execution_count": null,
      "outputs": []
    },
    {
      "cell_type": "code",
      "source": [
        "corpus.shape"
      ],
      "metadata": {
        "colab": {
          "base_uri": "https://localhost:8080/"
        },
        "id": "tuMwPLxZxm4L",
        "outputId": "2cf7e06f-b853-4d7b-8dd3-abe547773b52"
      },
      "execution_count": null,
      "outputs": [
        {
          "output_type": "execute_result",
          "data": {
            "text/plain": [
              "(2186, 4)"
            ]
          },
          "metadata": {},
          "execution_count": 652
        }
      ]
    },
    {
      "cell_type": "code",
      "source": [
        "corpus.head(10)"
      ],
      "metadata": {
        "colab": {
          "base_uri": "https://localhost:8080/",
          "height": 363
        },
        "id": "Z_UdZJYOxq1h",
        "outputId": "2b0326a5-1f21-45a4-ebfd-a6fd9957686d"
      },
      "execution_count": null,
      "outputs": [
        {
          "output_type": "execute_result",
          "data": {
            "text/plain": [
              "                                                 Text  Score  label  \\\n",
              "0   این اولین تجربه من برای خرید ایفون هست   امروز...     10      1   \n",
              "1                      خرید این محصول رو توصیه میکنم       8      1   \n",
              "3   سلام خدمت دوستان این گوشی از همه نظر عالی  کیف...      9      1   \n",
              "4   سلام دوستانی که نگران شکستن صفحه نمایش هستند ا...      9      1   \n",
              "6   اول از همه خوشحالم که بالاخره نسخه های 128 گیگ...      9      1   \n",
              "7   من دو ماهه خریدم واقعا راضیم  دوربینشم عالیه  ...     10      1   \n",
              "8   بنظر من گوشی خوب و مقرون به صرفه ای بود توی ای...     10      1   \n",
              "9   از خریدم راضی ام و گوشی بینظیریه  منتهی یه ایر...      9      1   \n",
              "11  همه چیز این گوشی عالیه بجز قیمت که البته بیشتر...      9      1   \n",
              "12  من و خانواده ام گوشی های متفاوتی رو داشتیم چه ...      5      0   \n",
              "\n",
              "                                            CleanText  \n",
              "0   تجربه خرید ایفون هس امروز دس رسیده اس طلا هس د...  \n",
              "1                               خرید محصول توصیه میکن  \n",
              "3   سلا خدم دوس گوش عال کیف ساخ سرع کیف صدا تصویر ...  \n",
              "4   سلا دوستان نگر شکستن صفحه نما هستند بدونند صفح...  \n",
              "6   خوشحال بالاخره نسخه گیگابایت فرو قرار حافظه گو...  \n",
              "7   ماهه خرید واقعا راض دوربین عالیه به گوش رنج قی...  \n",
              "8   بنظر گوش خوب مقرون صرفه بود تو دوسال داشتم جور...  \n",
              "9   خرید راض گوش بینظیریه منته یه ایراد داره برنام...  \n",
              "11  گوش عالیه بجز قیم بخاطر گرون دلاره گوش گلکس دا...  \n",
              "12  خانواده گوش متفاوت داشت سامسونگ مثلا آیفون مدل...  "
            ],
            "text/html": [
              "\n",
              "  <div id=\"df-40af4f88-af50-4e27-9a7a-3ce5fa697ab6\">\n",
              "    <div class=\"colab-df-container\">\n",
              "      <div>\n",
              "<style scoped>\n",
              "    .dataframe tbody tr th:only-of-type {\n",
              "        vertical-align: middle;\n",
              "    }\n",
              "\n",
              "    .dataframe tbody tr th {\n",
              "        vertical-align: top;\n",
              "    }\n",
              "\n",
              "    .dataframe thead th {\n",
              "        text-align: right;\n",
              "    }\n",
              "</style>\n",
              "<table border=\"1\" class=\"dataframe\">\n",
              "  <thead>\n",
              "    <tr style=\"text-align: right;\">\n",
              "      <th></th>\n",
              "      <th>Text</th>\n",
              "      <th>Score</th>\n",
              "      <th>label</th>\n",
              "      <th>CleanText</th>\n",
              "    </tr>\n",
              "  </thead>\n",
              "  <tbody>\n",
              "    <tr>\n",
              "      <th>0</th>\n",
              "      <td>این اولین تجربه من برای خرید ایفون هست   امروز...</td>\n",
              "      <td>10</td>\n",
              "      <td>1</td>\n",
              "      <td>تجربه خرید ایفون هس امروز دس رسیده اس طلا هس د...</td>\n",
              "    </tr>\n",
              "    <tr>\n",
              "      <th>1</th>\n",
              "      <td>خرید این محصول رو توصیه میکنم</td>\n",
              "      <td>8</td>\n",
              "      <td>1</td>\n",
              "      <td>خرید محصول توصیه میکن</td>\n",
              "    </tr>\n",
              "    <tr>\n",
              "      <th>3</th>\n",
              "      <td>سلام خدمت دوستان این گوشی از همه نظر عالی  کیف...</td>\n",
              "      <td>9</td>\n",
              "      <td>1</td>\n",
              "      <td>سلا خدم دوس گوش عال کیف ساخ سرع کیف صدا تصویر ...</td>\n",
              "    </tr>\n",
              "    <tr>\n",
              "      <th>4</th>\n",
              "      <td>سلام دوستانی که نگران شکستن صفحه نمایش هستند ا...</td>\n",
              "      <td>9</td>\n",
              "      <td>1</td>\n",
              "      <td>سلا دوستان نگر شکستن صفحه نما هستند بدونند صفح...</td>\n",
              "    </tr>\n",
              "    <tr>\n",
              "      <th>6</th>\n",
              "      <td>اول از همه خوشحالم که بالاخره نسخه های 128 گیگ...</td>\n",
              "      <td>9</td>\n",
              "      <td>1</td>\n",
              "      <td>خوشحال بالاخره نسخه گیگابایت فرو قرار حافظه گو...</td>\n",
              "    </tr>\n",
              "    <tr>\n",
              "      <th>7</th>\n",
              "      <td>من دو ماهه خریدم واقعا راضیم  دوربینشم عالیه  ...</td>\n",
              "      <td>10</td>\n",
              "      <td>1</td>\n",
              "      <td>ماهه خرید واقعا راض دوربین عالیه به گوش رنج قی...</td>\n",
              "    </tr>\n",
              "    <tr>\n",
              "      <th>8</th>\n",
              "      <td>بنظر من گوشی خوب و مقرون به صرفه ای بود توی ای...</td>\n",
              "      <td>10</td>\n",
              "      <td>1</td>\n",
              "      <td>بنظر گوش خوب مقرون صرفه بود تو دوسال داشتم جور...</td>\n",
              "    </tr>\n",
              "    <tr>\n",
              "      <th>9</th>\n",
              "      <td>از خریدم راضی ام و گوشی بینظیریه  منتهی یه ایر...</td>\n",
              "      <td>9</td>\n",
              "      <td>1</td>\n",
              "      <td>خرید راض گوش بینظیریه منته یه ایراد داره برنام...</td>\n",
              "    </tr>\n",
              "    <tr>\n",
              "      <th>11</th>\n",
              "      <td>همه چیز این گوشی عالیه بجز قیمت که البته بیشتر...</td>\n",
              "      <td>9</td>\n",
              "      <td>1</td>\n",
              "      <td>گوش عالیه بجز قیم بخاطر گرون دلاره گوش گلکس دا...</td>\n",
              "    </tr>\n",
              "    <tr>\n",
              "      <th>12</th>\n",
              "      <td>من و خانواده ام گوشی های متفاوتی رو داشتیم چه ...</td>\n",
              "      <td>5</td>\n",
              "      <td>0</td>\n",
              "      <td>خانواده گوش متفاوت داشت سامسونگ مثلا آیفون مدل...</td>\n",
              "    </tr>\n",
              "  </tbody>\n",
              "</table>\n",
              "</div>\n",
              "      <button class=\"colab-df-convert\" onclick=\"convertToInteractive('df-40af4f88-af50-4e27-9a7a-3ce5fa697ab6')\"\n",
              "              title=\"Convert this dataframe to an interactive table.\"\n",
              "              style=\"display:none;\">\n",
              "        \n",
              "  <svg xmlns=\"http://www.w3.org/2000/svg\" height=\"24px\"viewBox=\"0 0 24 24\"\n",
              "       width=\"24px\">\n",
              "    <path d=\"M0 0h24v24H0V0z\" fill=\"none\"/>\n",
              "    <path d=\"M18.56 5.44l.94 2.06.94-2.06 2.06-.94-2.06-.94-.94-2.06-.94 2.06-2.06.94zm-11 1L8.5 8.5l.94-2.06 2.06-.94-2.06-.94L8.5 2.5l-.94 2.06-2.06.94zm10 10l.94 2.06.94-2.06 2.06-.94-2.06-.94-.94-2.06-.94 2.06-2.06.94z\"/><path d=\"M17.41 7.96l-1.37-1.37c-.4-.4-.92-.59-1.43-.59-.52 0-1.04.2-1.43.59L10.3 9.45l-7.72 7.72c-.78.78-.78 2.05 0 2.83L4 21.41c.39.39.9.59 1.41.59.51 0 1.02-.2 1.41-.59l7.78-7.78 2.81-2.81c.8-.78.8-2.07 0-2.86zM5.41 20L4 18.59l7.72-7.72 1.47 1.35L5.41 20z\"/>\n",
              "  </svg>\n",
              "      </button>\n",
              "      \n",
              "  <style>\n",
              "    .colab-df-container {\n",
              "      display:flex;\n",
              "      flex-wrap:wrap;\n",
              "      gap: 12px;\n",
              "    }\n",
              "\n",
              "    .colab-df-convert {\n",
              "      background-color: #E8F0FE;\n",
              "      border: none;\n",
              "      border-radius: 50%;\n",
              "      cursor: pointer;\n",
              "      display: none;\n",
              "      fill: #1967D2;\n",
              "      height: 32px;\n",
              "      padding: 0 0 0 0;\n",
              "      width: 32px;\n",
              "    }\n",
              "\n",
              "    .colab-df-convert:hover {\n",
              "      background-color: #E2EBFA;\n",
              "      box-shadow: 0px 1px 2px rgba(60, 64, 67, 0.3), 0px 1px 3px 1px rgba(60, 64, 67, 0.15);\n",
              "      fill: #174EA6;\n",
              "    }\n",
              "\n",
              "    [theme=dark] .colab-df-convert {\n",
              "      background-color: #3B4455;\n",
              "      fill: #D2E3FC;\n",
              "    }\n",
              "\n",
              "    [theme=dark] .colab-df-convert:hover {\n",
              "      background-color: #434B5C;\n",
              "      box-shadow: 0px 1px 3px 1px rgba(0, 0, 0, 0.15);\n",
              "      filter: drop-shadow(0px 1px 2px rgba(0, 0, 0, 0.3));\n",
              "      fill: #FFFFFF;\n",
              "    }\n",
              "  </style>\n",
              "\n",
              "      <script>\n",
              "        const buttonEl =\n",
              "          document.querySelector('#df-40af4f88-af50-4e27-9a7a-3ce5fa697ab6 button.colab-df-convert');\n",
              "        buttonEl.style.display =\n",
              "          google.colab.kernel.accessAllowed ? 'block' : 'none';\n",
              "\n",
              "        async function convertToInteractive(key) {\n",
              "          const element = document.querySelector('#df-40af4f88-af50-4e27-9a7a-3ce5fa697ab6');\n",
              "          const dataTable =\n",
              "            await google.colab.kernel.invokeFunction('convertToInteractive',\n",
              "                                                     [key], {});\n",
              "          if (!dataTable) return;\n",
              "\n",
              "          const docLinkHtml = 'Like what you see? Visit the ' +\n",
              "            '<a target=\"_blank\" href=https://colab.research.google.com/notebooks/data_table.ipynb>data table notebook</a>'\n",
              "            + ' to learn more about interactive tables.';\n",
              "          element.innerHTML = '';\n",
              "          dataTable['output_type'] = 'display_data';\n",
              "          await google.colab.output.renderOutput(dataTable, element);\n",
              "          const docLink = document.createElement('div');\n",
              "          docLink.innerHTML = docLinkHtml;\n",
              "          element.appendChild(docLink);\n",
              "        }\n",
              "      </script>\n",
              "    </div>\n",
              "  </div>\n",
              "  "
            ]
          },
          "metadata": {},
          "execution_count": 653
        }
      ]
    },
    {
      "cell_type": "code",
      "source": [
        "corpus['CleanText'].iloc[3]"
      ],
      "metadata": {
        "colab": {
          "base_uri": "https://localhost:8080/",
          "height": 35
        },
        "id": "Z8EcbSd9NhH4",
        "outputId": "4b7cb25a-450a-437f-edb9-a3bb058668eb"
      },
      "execution_count": null,
      "outputs": [
        {
          "output_type": "execute_result",
          "data": {
            "text/plain": [
              "'سلا دوستان نگر شکستن صفحه نما هستند بدونند صفحه گوریلا گلس محافظ میشه خد سامسونگ شرایط صفحه گوش ایراد بشه هزار تو صفحه براتون تعویض میکنند امک گوش عالیه خرید خود راض'"
            ],
            "application/vnd.google.colaboratory.intrinsic+json": {
              "type": "string"
            }
          },
          "metadata": {},
          "execution_count": 654
        }
      ]
    },
    {
      "cell_type": "code",
      "source": [
        "from sklearn.feature_extraction.text import TfidfVectorizer\n",
        "tf = TfidfVectorizer(min_df=2, max_features= 10000)\n",
        "X_tfidf = tf.fit_transform(corpus['CleanText']).todense()"
      ],
      "metadata": {
        "id": "tPPhbWLMHT14"
      },
      "execution_count": null,
      "outputs": []
    },
    {
      "cell_type": "code",
      "source": [
        "labels = corpus['label'].values"
      ],
      "metadata": {
        "id": "eRJw55bDOMda"
      },
      "execution_count": null,
      "outputs": []
    },
    {
      "cell_type": "code",
      "source": [
        "X_tfidf = np.squeeze(np.asarray(X_tfidf))"
      ],
      "metadata": {
        "id": "ub_ss29G5Lzn"
      },
      "execution_count": null,
      "outputs": []
    },
    {
      "cell_type": "code",
      "source": [
        "#balancing\n",
        "from imblearn.over_sampling import SMOTE\n",
        "\n",
        "# X is your text data and y is the corresponding labels\n",
        "smote = SMOTE()\n",
        "X_res, y_res = smote.fit_resample(X_tfidf, labels)\n"
      ],
      "metadata": {
        "id": "DAXUf-aHL2pB"
      },
      "execution_count": null,
      "outputs": []
    },
    {
      "cell_type": "code",
      "source": [
        "X_tfidf_train, X_tfidf_test, y_tfidf_train, y_tfidf_test = train_test_split(X_res, y_res, test_size=0.2, random_state=42)"
      ],
      "metadata": {
        "id": "qFvKFWphOaqp"
      },
      "execution_count": null,
      "outputs": []
    },
    {
      "cell_type": "code",
      "source": [
        "# X_tfidf_train = np.squeeze(np.asarray(X_tfidf_train))\n",
        "# X_tfidf_test = np.squeeze(np.asarray(X_tfidf_test))"
      ],
      "metadata": {
        "id": "oFFlEotOSM4g"
      },
      "execution_count": null,
      "outputs": []
    },
    {
      "cell_type": "code",
      "source": [
        "X_tfidf_train.shape, X_tfidf_test.shape, y_tfidf_train.shape, y_tfidf_test.shape"
      ],
      "metadata": {
        "colab": {
          "base_uri": "https://localhost:8080/"
        },
        "id": "IwsASjQiOpEg",
        "outputId": "d9cb1213-580c-4776-fc03-4d4cf0f3e4c7"
      },
      "execution_count": null,
      "outputs": [
        {
          "output_type": "execute_result",
          "data": {
            "text/plain": [
              "((2699, 3436), (675, 3436), (2699,), (675,))"
            ]
          },
          "metadata": {},
          "execution_count": 661
        }
      ]
    },
    {
      "cell_type": "markdown",
      "source": [
        "# LogisticResgression"
      ],
      "metadata": {
        "id": "7_fdYo1MXTtb"
      }
    },
    {
      "cell_type": "code",
      "source": [
        "import warnings\n",
        "warnings.filterwarnings(\"ignore\")"
      ],
      "metadata": {
        "id": "DEnFhHW2DVt1"
      },
      "execution_count": null,
      "outputs": []
    },
    {
      "cell_type": "code",
      "source": [
        "from sklearn.model_selection import GridSearchCV"
      ],
      "metadata": {
        "id": "sogPTIVFEg7S"
      },
      "execution_count": null,
      "outputs": []
    },
    {
      "cell_type": "code",
      "source": [
        "# LR = LogisticRegression()\n",
        "# grid = {'C': [0.001, 0.01, 0.1, 1, 10, 100],\n",
        "#         'penalty': ['l1', 'l2'],\n",
        "#         'solver': ['lbfgs', 'liblinear']}\n",
        "\n",
        "# # perform grid search cross-validation to find the best hyperparameters\n",
        "# grid_search = GridSearchCV(estimator=LR, param_grid=grid, cv=5, n_jobs=-1, scoring='accuracy',verbose=4)\n",
        "# grid_search.fit(X_tfidf_train, y_tfidf_train)\n",
        "\n",
        "# # print the best hyperparameters and the corresponding mean cross-validation score\n",
        "# print(\"Best Hyperparameters: \", grid_search.best_params_)\n",
        "# print(\"Best Accuracy Score: \", grid_search.best_score_)"
      ],
      "metadata": {
        "id": "iU8YJn6xBeK3"
      },
      "execution_count": null,
      "outputs": []
    },
    {
      "cell_type": "code",
      "source": [
        "#logisticregression\n",
        "from sklearn.linear_model import LogisticRegression\n",
        "from time import perf_counter\n",
        "start_tra = perf_counter()\n",
        "\n",
        "LR = LogisticRegression(C=10, penalty='l2', solver='lbfgs', random_state=42)\n",
        "LR.fit(X_tfidf_train,y_tfidf_train)\n",
        "\n",
        "end_tra = perf_counter()\n",
        "print(f'train phase time: ', round((end_tra-start_tra), 1))\n",
        "\n",
        "score = LR.score(X_tfidf_test, y_tfidf_test)\n",
        "print(\"Accuracy:\", score)\n",
        "y_pred = LR.predict(X_tfidf_test)\n",
        "print(classification_report(y_tfidf_test, y_pred))"
      ],
      "metadata": {
        "colab": {
          "base_uri": "https://localhost:8080/"
        },
        "id": "V8g_MPMsOv98",
        "outputId": "89c012f4-af29-4575-c619-ec04814f0632"
      },
      "execution_count": null,
      "outputs": [
        {
          "output_type": "stream",
          "name": "stdout",
          "text": [
            "train phase time:  2.8\n",
            "Accuracy: 0.8918518518518519\n",
            "              precision    recall  f1-score   support\n",
            "\n",
            "           0       0.85      0.94      0.89       323\n",
            "           1       0.94      0.85      0.89       352\n",
            "\n",
            "    accuracy                           0.89       675\n",
            "   macro avg       0.89      0.89      0.89       675\n",
            "weighted avg       0.90      0.89      0.89       675\n",
            "\n"
          ]
        }
      ]
    },
    {
      "cell_type": "markdown",
      "source": [
        "# Naive Bayes"
      ],
      "metadata": {
        "id": "FGGUf5Z_XYGZ"
      }
    },
    {
      "cell_type": "code",
      "source": [
        "# params = {'alpha': [0.01, 0.1, 0.5, 1.0, 10.0],\n",
        "#           'fit_prior': [True, False],\n",
        "#           'class_prior': [None, [0.1,]* 2, ],\n",
        "#          }\n",
        "\n",
        "# nb_grid = GridSearchCV(MultinomialNB(), param_grid=params, n_jobs=-1, cv=5, verbose=5)\n",
        "# nb_grid.fit(X_tfidf_train,y_tfidf_train)\n",
        "\n",
        "# print('Best Parameters : {}'.format(nb_grid.best_params_))\n",
        "# print('Best Accuracy Through Grid Search : {:.3f}\\n'.format(nb_grid.best_score_))"
      ],
      "metadata": {
        "id": "KKKMdH3CY9Rn"
      },
      "execution_count": null,
      "outputs": []
    },
    {
      "cell_type": "code",
      "source": [
        "start_tra = perf_counter()\n",
        "\n",
        "NB = MultinomialNB(alpha=0.01, class_prior= None, fit_prior= True)\n",
        "NB.fit(X_tfidf_train,y_tfidf_train)\n",
        "\n",
        "end_tra = perf_counter()\n",
        "print(f'train phase time: ', round((end_tra-start_tra), 1))\n",
        "\n",
        "\n",
        "score = NB.score(X_tfidf_test, y_tfidf_test)\n",
        "print(\"Accuracy:\", score)\n",
        "y_pred_NB = NB.predict(X_tfidf_test)\n",
        "print(classification_report(y_tfidf_test, y_pred_NB))"
      ],
      "metadata": {
        "colab": {
          "base_uri": "https://localhost:8080/"
        },
        "id": "dK2u_4F9ULFY",
        "outputId": "3e0eda7b-94ce-4fd5-c397-5e6d121d2565"
      },
      "execution_count": null,
      "outputs": [
        {
          "output_type": "stream",
          "name": "stdout",
          "text": [
            "train phase time:  0.1\n",
            "Accuracy: 0.917037037037037\n",
            "              precision    recall  f1-score   support\n",
            "\n",
            "           0       0.90      0.93      0.91       323\n",
            "           1       0.93      0.91      0.92       352\n",
            "\n",
            "    accuracy                           0.92       675\n",
            "   macro avg       0.92      0.92      0.92       675\n",
            "weighted avg       0.92      0.92      0.92       675\n",
            "\n"
          ]
        }
      ]
    },
    {
      "cell_type": "markdown",
      "source": [
        "# SVM"
      ],
      "metadata": {
        "id": "kS0zdjnqXdIn"
      }
    },
    {
      "cell_type": "code",
      "source": [
        "# param_grid = {'C': [1, 100, 1000], 'kernel': ['rbf','linear']}\n",
        "# svc = SVC()\n",
        "# grid_search = GridSearchCV(svc, param_grid, cv=5, verbose=1)\n",
        "# grid_search.fit(X_tfidf_train, y_tfidf_train)\n",
        "# # print best parameter after tuning\n",
        "# print(grid_search.best_params_)\n",
        "  \n",
        "# # print how our model looks after hyper-parameter tuning\n",
        "# print(grid_search.best_estimator_)"
      ],
      "metadata": {
        "id": "OE8k11NHUNgn"
      },
      "execution_count": null,
      "outputs": []
    },
    {
      "cell_type": "code",
      "source": [
        "start_tra = perf_counter()\n",
        "\n",
        "SVM = SVC(C=100, kernel='rbf')\n",
        "SVM.fit(X_tfidf_train,y_tfidf_train)\n",
        "\n",
        "end_tra = perf_counter()\n",
        "print(f'train phase time: ', round((end_tra-start_tra), 1))\n",
        "\n",
        "score = SVM.score(X_tfidf_test, y_tfidf_test)\n",
        "print(\"Accuracy:\", score)\n",
        "y_pred_svm = SVM.predict(X_tfidf_test)\n",
        "print(classification_report(y_tfidf_test, y_pred_svm))"
      ],
      "metadata": {
        "colab": {
          "base_uri": "https://localhost:8080/"
        },
        "id": "pCxF_CeIWzp-",
        "outputId": "c40f42b9-9768-41c6-c455-7c2534b47395"
      },
      "execution_count": null,
      "outputs": [
        {
          "output_type": "stream",
          "name": "stdout",
          "text": [
            "train phase time:  23.7\n",
            "Accuracy: 0.9303703703703704\n",
            "              precision    recall  f1-score   support\n",
            "\n",
            "           0       0.95      0.90      0.93       323\n",
            "           1       0.91      0.96      0.93       352\n",
            "\n",
            "    accuracy                           0.93       675\n",
            "   macro avg       0.93      0.93      0.93       675\n",
            "weighted avg       0.93      0.93      0.93       675\n",
            "\n"
          ]
        }
      ]
    },
    {
      "cell_type": "markdown",
      "source": [
        "## Test Sentence"
      ],
      "metadata": {
        "id": "BRu2VGZJdwyn"
      }
    },
    {
      "cell_type": "code",
      "source": [
        "# LogisticRegression\n",
        "X_pred = tf.transform([preprocess('دوست داشتم')]).todense()\n",
        "X_pred = np.asarray(X_pred)\n",
        "y_new = LR.predict(X_pred)\n",
        "if y_new[0] == 1:\n",
        "  print('Positive')\n",
        "else:\n",
        "  print('Negative')"
      ],
      "metadata": {
        "id": "-lgA-sinl-j6",
        "colab": {
          "base_uri": "https://localhost:8080/"
        },
        "outputId": "e8a10bec-8bd5-4856-edbc-fccde6efd9cf"
      },
      "execution_count": null,
      "outputs": [
        {
          "output_type": "stream",
          "name": "stdout",
          "text": [
            "Negative\n"
          ]
        }
      ]
    },
    {
      "cell_type": "code",
      "source": [
        "# SVM\n",
        "X_pred = tf.transform([preprocess('دوست نداشتم')]).todense()\n",
        "X_pred = np.asarray(X_pred)\n",
        "y_new = SVM.predict(X_pred)\n",
        "if y_new[0] == 1:\n",
        "  print('Positive')\n",
        "else:\n",
        "  print('Negative')"
      ],
      "metadata": {
        "colab": {
          "base_uri": "https://localhost:8080/"
        },
        "id": "mN0bKMKrdkJu",
        "outputId": "2d10083f-8d42-4baa-8c8a-8984afb10b42"
      },
      "execution_count": null,
      "outputs": [
        {
          "output_type": "stream",
          "name": "stdout",
          "text": [
            "Positive\n"
          ]
        }
      ]
    },
    {
      "cell_type": "code",
      "source": [
        "# Naive Bayes\n",
        "X_pred = tf.transform([preprocess('دوست داشتم')]).todense()\n",
        "X_pred = np.asarray(X_pred)\n",
        "y_new = NB.predict(X_pred)\n",
        "if y_new[0] == 1:\n",
        "  print('Positive')\n",
        "else:\n",
        "  print('Negative')"
      ],
      "metadata": {
        "colab": {
          "base_uri": "https://localhost:8080/"
        },
        "id": "IDRAGtLHdoC9",
        "outputId": "3370e20e-0fa8-4d52-a2dc-616c2d60b5d4"
      },
      "execution_count": null,
      "outputs": [
        {
          "output_type": "stream",
          "name": "stdout",
          "text": [
            "Negative\n"
          ]
        }
      ]
    }
  ]
}