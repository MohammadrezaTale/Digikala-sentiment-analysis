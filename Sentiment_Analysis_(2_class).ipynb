{
  "nbformat": 4,
  "nbformat_minor": 0,
  "metadata": {
    "colab": {
      "provenance": [],
      "authorship_tag": "ABX9TyOMbzyjcBArF3yFMFrHoqLR",
      "include_colab_link": true
    },
    "kernelspec": {
      "name": "python3",
      "display_name": "Python 3"
    },
    "language_info": {
      "name": "python"
    }
  },
  "cells": [
    {
      "cell_type": "markdown",
      "metadata": {
        "id": "view-in-github",
        "colab_type": "text"
      },
      "source": [
        "<a href=\"https://colab.research.google.com/github/MohammadrezaTale/Digikala-sentiment-analysis/blob/master/Sentiment_Analysis_(2_class).ipynb\" target=\"_parent\"><img src=\"https://colab.research.google.com/assets/colab-badge.svg\" alt=\"Open In Colab\"/></a>"
      ]
    },
    {
      "cell_type": "markdown",
      "source": [
        "## Import packages"
      ],
      "metadata": {
        "id": "1HTzUfqdSWdP"
      }
    },
    {
      "cell_type": "code",
      "execution_count": 3,
      "metadata": {
        "id": "R0vsCfYClA2C"
      },
      "outputs": [],
      "source": [
        "import numpy as np\n",
        "import pandas as pd\n",
        "import matplotlib.pyplot as plt\n",
        "import re\n",
        "from sklearn.model_selection import train_test_split\n",
        "from sklearn.linear_model import LogisticRegression\n",
        "from sklearn.naive_bayes import MultinomialNB\n",
        "from sklearn.svm import SVC\n",
        "from tqdm import tqdm\n",
        "from sklearn.metrics import classification_report\n"
      ]
    },
    {
      "cell_type": "markdown",
      "source": [
        "## Import Dataset"
      ],
      "metadata": {
        "id": "S4_j9BkkSdQY"
      }
    },
    {
      "cell_type": "code",
      "source": [
        "!gdown --id 1iC_2Bfnw2xp7x5xod4TfU6zUL8JYjkRM"
      ],
      "metadata": {
        "colab": {
          "base_uri": "https://localhost:8080/"
        },
        "id": "EUBfZH6Zoznn",
        "outputId": "bf488bb3-4ec9-4ac4-ea97-1735f969756c"
      },
      "execution_count": 4,
      "outputs": [
        {
          "output_type": "stream",
          "name": "stdout",
          "text": [
            "/usr/local/lib/python3.10/dist-packages/gdown/cli.py:121: FutureWarning: Option `--id` was deprecated in version 4.3.1 and will be removed in 5.0. You don't need to pass it anymore to use a file ID.\n",
            "  warnings.warn(\n",
            "Downloading...\n",
            "From: https://drive.google.com/uc?id=1iC_2Bfnw2xp7x5xod4TfU6zUL8JYjkRM\n",
            "To: /content/100k digikala.xlsx\n",
            "100% 19.7M/19.7M [00:00<00:00, 71.1MB/s]\n"
          ]
        }
      ]
    },
    {
      "cell_type": "code",
      "source": [
        "df = pd.read_excel('100k digikala.xlsx')"
      ],
      "metadata": {
        "id": "yHBcnzLGpP33"
      },
      "execution_count": 5,
      "outputs": []
    },
    {
      "cell_type": "code",
      "source": [
        "df.shape"
      ],
      "metadata": {
        "colab": {
          "base_uri": "https://localhost:8080/"
        },
        "id": "ED8-qK1DqCPW",
        "outputId": "558f09fd-2ce8-41eb-8d81-7399296fcc4e"
      },
      "execution_count": 6,
      "outputs": [
        {
          "output_type": "execute_result",
          "data": {
            "text/plain": [
              "(100000, 12)"
            ]
          },
          "metadata": {},
          "execution_count": 6
        }
      ]
    },
    {
      "cell_type": "code",
      "source": [
        "df.head()"
      ],
      "metadata": {
        "colab": {
          "base_uri": "https://localhost:8080/",
          "height": 504
        },
        "id": "vB7prBumujSh",
        "outputId": "8995917a-4baf-42b8-ad89-672d9b3e03ff"
      },
      "execution_count": 7,
      "outputs": [
        {
          "output_type": "execute_result",
          "data": {
            "text/plain": [
              "   product_id                                      product_title title_en  \\\n",
              "0        3692                        ماوس بی‌سیم لاجیتک مدل M325       IT   \n",
              "1       90213  شارژر همراه شیاومی مدل NDY-02-AN با ظرفیت 1000...       AC   \n",
              "2       59473              یدک پولیشر میکروفایبر مهسان مدل 20119       HW   \n",
              "3      120499   گوشی موبایل هوآوی آنر مدل 5X KIW-L21 دو سیم‌کارت       MO   \n",
              "4       67200  شارژر همراه شیائومی مدل Mi ظرفیت 5000 میلی آمپ...       AC   \n",
              "\n",
              "   user_id  likes  dislikes verification_status        recommend  \\\n",
              "0   989472      0         0            verified               \\N   \n",
              "1  3862150      4         1            verified      recommended   \n",
              "2   626843      1         0            verified  not_recommended   \n",
              "3   786887      6        11            verified          no_idea   \n",
              "4   854531     19         4            verified          no_idea   \n",
              "\n",
              "                                 title  \\\n",
              "0                                  NaN   \n",
              "1                         واقعاً عالیه   \n",
              "2             خیلی سخت حوله اش در میاد   \n",
              "3                   گوشی مقرون به صرفه   \n",
              "4  ابعاد، استحکام و نگهداری شارژ مناسب   \n",
              "\n",
              "                                             comment  \\\n",
              "0                  واقعا عالیه. من که ازش خیلی راضیم   \n",
              "1  سلام، قبل اینکه نظرم رو بگم میخواستم به یک موض...   \n",
              "2  گیره های فلزی خیلی سخت تا میشوند و لذا حوله را...   \n",
              "3  همه چیز در رابطه با ظاهر این گوشی بسیار خوب اس...   \n",
              "4  اگر ظرفیتش براتون کافیه حتما بخرید._x000D_\\nیه...   \n",
              "\n",
              "                                          advantages  \\\n",
              "0                                                NaN   \n",
              "1  [\"عمر طولانی\\r\",\"افت بسیار کم میزان شارژ\\r\",\"ا...   \n",
              "2                                                NaN   \n",
              "3  [\"صفحه نمایش پرنور و با کیفیت\\r\",\"کیفیت بالای ...   \n",
              "4    [\"ظریف و زیبا و باریک\\r\",\"بدنه محکم و با دوام\"]   \n",
              "\n",
              "                                       disadvantages  \n",
              "0                                                NaN  \n",
              "1                                          [\"ندارد\"]  \n",
              "2                                                NaN  \n",
              "3  [\"کیفیت پایین اسپیکر\\r\",\"حاشیه خالی زیر صفحه ن...  \n",
              "4                                    [\"ظرفیت متوسط\"]  "
            ],
            "text/html": [
              "\n",
              "  <div id=\"df-09d74179-8bee-410f-a836-9b9167b2481b\" class=\"colab-df-container\">\n",
              "    <div>\n",
              "<style scoped>\n",
              "    .dataframe tbody tr th:only-of-type {\n",
              "        vertical-align: middle;\n",
              "    }\n",
              "\n",
              "    .dataframe tbody tr th {\n",
              "        vertical-align: top;\n",
              "    }\n",
              "\n",
              "    .dataframe thead th {\n",
              "        text-align: right;\n",
              "    }\n",
              "</style>\n",
              "<table border=\"1\" class=\"dataframe\">\n",
              "  <thead>\n",
              "    <tr style=\"text-align: right;\">\n",
              "      <th></th>\n",
              "      <th>product_id</th>\n",
              "      <th>product_title</th>\n",
              "      <th>title_en</th>\n",
              "      <th>user_id</th>\n",
              "      <th>likes</th>\n",
              "      <th>dislikes</th>\n",
              "      <th>verification_status</th>\n",
              "      <th>recommend</th>\n",
              "      <th>title</th>\n",
              "      <th>comment</th>\n",
              "      <th>advantages</th>\n",
              "      <th>disadvantages</th>\n",
              "    </tr>\n",
              "  </thead>\n",
              "  <tbody>\n",
              "    <tr>\n",
              "      <th>0</th>\n",
              "      <td>3692</td>\n",
              "      <td>ماوس بی‌سیم لاجیتک مدل M325</td>\n",
              "      <td>IT</td>\n",
              "      <td>989472</td>\n",
              "      <td>0</td>\n",
              "      <td>0</td>\n",
              "      <td>verified</td>\n",
              "      <td>\\N</td>\n",
              "      <td>NaN</td>\n",
              "      <td>واقعا عالیه. من که ازش خیلی راضیم</td>\n",
              "      <td>NaN</td>\n",
              "      <td>NaN</td>\n",
              "    </tr>\n",
              "    <tr>\n",
              "      <th>1</th>\n",
              "      <td>90213</td>\n",
              "      <td>شارژر همراه شیاومی مدل NDY-02-AN با ظرفیت 1000...</td>\n",
              "      <td>AC</td>\n",
              "      <td>3862150</td>\n",
              "      <td>4</td>\n",
              "      <td>1</td>\n",
              "      <td>verified</td>\n",
              "      <td>recommended</td>\n",
              "      <td>واقعاً عالیه</td>\n",
              "      <td>سلام، قبل اینکه نظرم رو بگم میخواستم به یک موض...</td>\n",
              "      <td>[\"عمر طولانی\\r\",\"افت بسیار کم میزان شارژ\\r\",\"ا...</td>\n",
              "      <td>[\"ندارد\"]</td>\n",
              "    </tr>\n",
              "    <tr>\n",
              "      <th>2</th>\n",
              "      <td>59473</td>\n",
              "      <td>یدک پولیشر میکروفایبر مهسان مدل 20119</td>\n",
              "      <td>HW</td>\n",
              "      <td>626843</td>\n",
              "      <td>1</td>\n",
              "      <td>0</td>\n",
              "      <td>verified</td>\n",
              "      <td>not_recommended</td>\n",
              "      <td>خیلی سخت حوله اش در میاد</td>\n",
              "      <td>گیره های فلزی خیلی سخت تا میشوند و لذا حوله را...</td>\n",
              "      <td>NaN</td>\n",
              "      <td>NaN</td>\n",
              "    </tr>\n",
              "    <tr>\n",
              "      <th>3</th>\n",
              "      <td>120499</td>\n",
              "      <td>گوشی موبایل هوآوی آنر مدل 5X KIW-L21 دو سیم‌کارت</td>\n",
              "      <td>MO</td>\n",
              "      <td>786887</td>\n",
              "      <td>6</td>\n",
              "      <td>11</td>\n",
              "      <td>verified</td>\n",
              "      <td>no_idea</td>\n",
              "      <td>گوشی مقرون به صرفه</td>\n",
              "      <td>همه چیز در رابطه با ظاهر این گوشی بسیار خوب اس...</td>\n",
              "      <td>[\"صفحه نمایش پرنور و با کیفیت\\r\",\"کیفیت بالای ...</td>\n",
              "      <td>[\"کیفیت پایین اسپیکر\\r\",\"حاشیه خالی زیر صفحه ن...</td>\n",
              "    </tr>\n",
              "    <tr>\n",
              "      <th>4</th>\n",
              "      <td>67200</td>\n",
              "      <td>شارژر همراه شیائومی مدل Mi ظرفیت 5000 میلی آمپ...</td>\n",
              "      <td>AC</td>\n",
              "      <td>854531</td>\n",
              "      <td>19</td>\n",
              "      <td>4</td>\n",
              "      <td>verified</td>\n",
              "      <td>no_idea</td>\n",
              "      <td>ابعاد، استحکام و نگهداری شارژ مناسب</td>\n",
              "      <td>اگر ظرفیتش براتون کافیه حتما بخرید._x000D_\\nیه...</td>\n",
              "      <td>[\"ظریف و زیبا و باریک\\r\",\"بدنه محکم و با دوام\"]</td>\n",
              "      <td>[\"ظرفیت متوسط\"]</td>\n",
              "    </tr>\n",
              "  </tbody>\n",
              "</table>\n",
              "</div>\n",
              "    <div class=\"colab-df-buttons\">\n",
              "\n",
              "  <div class=\"colab-df-container\">\n",
              "    <button class=\"colab-df-convert\" onclick=\"convertToInteractive('df-09d74179-8bee-410f-a836-9b9167b2481b')\"\n",
              "            title=\"Convert this dataframe to an interactive table.\"\n",
              "            style=\"display:none;\">\n",
              "\n",
              "  <svg xmlns=\"http://www.w3.org/2000/svg\" height=\"24px\" viewBox=\"0 -960 960 960\">\n",
              "    <path d=\"M120-120v-720h720v720H120Zm60-500h600v-160H180v160Zm220 220h160v-160H400v160Zm0 220h160v-160H400v160ZM180-400h160v-160H180v160Zm440 0h160v-160H620v160ZM180-180h160v-160H180v160Zm440 0h160v-160H620v160Z\"/>\n",
              "  </svg>\n",
              "    </button>\n",
              "\n",
              "  <style>\n",
              "    .colab-df-container {\n",
              "      display:flex;\n",
              "      gap: 12px;\n",
              "    }\n",
              "\n",
              "    .colab-df-convert {\n",
              "      background-color: #E8F0FE;\n",
              "      border: none;\n",
              "      border-radius: 50%;\n",
              "      cursor: pointer;\n",
              "      display: none;\n",
              "      fill: #1967D2;\n",
              "      height: 32px;\n",
              "      padding: 0 0 0 0;\n",
              "      width: 32px;\n",
              "    }\n",
              "\n",
              "    .colab-df-convert:hover {\n",
              "      background-color: #E2EBFA;\n",
              "      box-shadow: 0px 1px 2px rgba(60, 64, 67, 0.3), 0px 1px 3px 1px rgba(60, 64, 67, 0.15);\n",
              "      fill: #174EA6;\n",
              "    }\n",
              "\n",
              "    .colab-df-buttons div {\n",
              "      margin-bottom: 4px;\n",
              "    }\n",
              "\n",
              "    [theme=dark] .colab-df-convert {\n",
              "      background-color: #3B4455;\n",
              "      fill: #D2E3FC;\n",
              "    }\n",
              "\n",
              "    [theme=dark] .colab-df-convert:hover {\n",
              "      background-color: #434B5C;\n",
              "      box-shadow: 0px 1px 3px 1px rgba(0, 0, 0, 0.15);\n",
              "      filter: drop-shadow(0px 1px 2px rgba(0, 0, 0, 0.3));\n",
              "      fill: #FFFFFF;\n",
              "    }\n",
              "  </style>\n",
              "\n",
              "    <script>\n",
              "      const buttonEl =\n",
              "        document.querySelector('#df-09d74179-8bee-410f-a836-9b9167b2481b button.colab-df-convert');\n",
              "      buttonEl.style.display =\n",
              "        google.colab.kernel.accessAllowed ? 'block' : 'none';\n",
              "\n",
              "      async function convertToInteractive(key) {\n",
              "        const element = document.querySelector('#df-09d74179-8bee-410f-a836-9b9167b2481b');\n",
              "        const dataTable =\n",
              "          await google.colab.kernel.invokeFunction('convertToInteractive',\n",
              "                                                    [key], {});\n",
              "        if (!dataTable) return;\n",
              "\n",
              "        const docLinkHtml = 'Like what you see? Visit the ' +\n",
              "          '<a target=\"_blank\" href=https://colab.research.google.com/notebooks/data_table.ipynb>data table notebook</a>'\n",
              "          + ' to learn more about interactive tables.';\n",
              "        element.innerHTML = '';\n",
              "        dataTable['output_type'] = 'display_data';\n",
              "        await google.colab.output.renderOutput(dataTable, element);\n",
              "        const docLink = document.createElement('div');\n",
              "        docLink.innerHTML = docLinkHtml;\n",
              "        element.appendChild(docLink);\n",
              "      }\n",
              "    </script>\n",
              "  </div>\n",
              "\n",
              "\n",
              "<div id=\"df-a4f826f1-352f-4ff9-be72-a7354b3f2e11\">\n",
              "  <button class=\"colab-df-quickchart\" onclick=\"quickchart('df-a4f826f1-352f-4ff9-be72-a7354b3f2e11')\"\n",
              "            title=\"Suggest charts.\"\n",
              "            style=\"display:none;\">\n",
              "\n",
              "<svg xmlns=\"http://www.w3.org/2000/svg\" height=\"24px\"viewBox=\"0 0 24 24\"\n",
              "     width=\"24px\">\n",
              "    <g>\n",
              "        <path d=\"M19 3H5c-1.1 0-2 .9-2 2v14c0 1.1.9 2 2 2h14c1.1 0 2-.9 2-2V5c0-1.1-.9-2-2-2zM9 17H7v-7h2v7zm4 0h-2V7h2v10zm4 0h-2v-4h2v4z\"/>\n",
              "    </g>\n",
              "</svg>\n",
              "  </button>\n",
              "\n",
              "<style>\n",
              "  .colab-df-quickchart {\n",
              "    background-color: #E8F0FE;\n",
              "    border: none;\n",
              "    border-radius: 50%;\n",
              "    cursor: pointer;\n",
              "    display: none;\n",
              "    fill: #1967D2;\n",
              "    height: 32px;\n",
              "    padding: 0 0 0 0;\n",
              "    width: 32px;\n",
              "  }\n",
              "\n",
              "  .colab-df-quickchart:hover {\n",
              "    background-color: #E2EBFA;\n",
              "    box-shadow: 0px 1px 2px rgba(60, 64, 67, 0.3), 0px 1px 3px 1px rgba(60, 64, 67, 0.15);\n",
              "    fill: #174EA6;\n",
              "  }\n",
              "\n",
              "  [theme=dark] .colab-df-quickchart {\n",
              "    background-color: #3B4455;\n",
              "    fill: #D2E3FC;\n",
              "  }\n",
              "\n",
              "  [theme=dark] .colab-df-quickchart:hover {\n",
              "    background-color: #434B5C;\n",
              "    box-shadow: 0px 1px 3px 1px rgba(0, 0, 0, 0.15);\n",
              "    filter: drop-shadow(0px 1px 2px rgba(0, 0, 0, 0.3));\n",
              "    fill: #FFFFFF;\n",
              "  }\n",
              "</style>\n",
              "\n",
              "  <script>\n",
              "    async function quickchart(key) {\n",
              "      const charts = await google.colab.kernel.invokeFunction(\n",
              "          'suggestCharts', [key], {});\n",
              "    }\n",
              "    (() => {\n",
              "      let quickchartButtonEl =\n",
              "        document.querySelector('#df-a4f826f1-352f-4ff9-be72-a7354b3f2e11 button');\n",
              "      quickchartButtonEl.style.display =\n",
              "        google.colab.kernel.accessAllowed ? 'block' : 'none';\n",
              "    })();\n",
              "  </script>\n",
              "</div>\n",
              "    </div>\n",
              "  </div>\n"
            ]
          },
          "metadata": {},
          "execution_count": 7
        }
      ]
    },
    {
      "cell_type": "code",
      "source": [
        "df.drop(['product_id','likes','dislikes'], axis=1, inplace = True)"
      ],
      "metadata": {
        "id": "cBIjGQ0lwFGU"
      },
      "execution_count": 13,
      "outputs": []
    },
    {
      "cell_type": "code",
      "source": [
        "df.head()"
      ],
      "metadata": {
        "colab": {
          "base_uri": "https://localhost:8080/",
          "height": 397
        },
        "id": "fJQ-Bz1aw7uo",
        "outputId": "a55f91c0-0c66-4253-f47a-36f50aa11c5b"
      },
      "execution_count": 14,
      "outputs": [
        {
          "output_type": "execute_result",
          "data": {
            "text/plain": [
              "                                       product_title title_en  user_id  \\\n",
              "0                        ماوس بی‌سیم لاجیتک مدل M325       IT   989472   \n",
              "1  شارژر همراه شیاومی مدل NDY-02-AN با ظرفیت 1000...       AC  3862150   \n",
              "2              یدک پولیشر میکروفایبر مهسان مدل 20119       HW   626843   \n",
              "3   گوشی موبایل هوآوی آنر مدل 5X KIW-L21 دو سیم‌کارت       MO   786887   \n",
              "4  شارژر همراه شیائومی مدل Mi ظرفیت 5000 میلی آمپ...       AC   854531   \n",
              "\n",
              "  verification_status        recommend                                title  \\\n",
              "0            verified               \\N                                  NaN   \n",
              "1            verified      recommended                         واقعاً عالیه   \n",
              "2            verified  not_recommended             خیلی سخت حوله اش در میاد   \n",
              "3            verified          no_idea                   گوشی مقرون به صرفه   \n",
              "4            verified          no_idea  ابعاد، استحکام و نگهداری شارژ مناسب   \n",
              "\n",
              "                                             comment  \\\n",
              "0                  واقعا عالیه. من که ازش خیلی راضیم   \n",
              "1  سلام، قبل اینکه نظرم رو بگم میخواستم به یک موض...   \n",
              "2  گیره های فلزی خیلی سخت تا میشوند و لذا حوله را...   \n",
              "3  همه چیز در رابطه با ظاهر این گوشی بسیار خوب اس...   \n",
              "4  اگر ظرفیتش براتون کافیه حتما بخرید._x000D_\\nیه...   \n",
              "\n",
              "                                          advantages  \\\n",
              "0                                                NaN   \n",
              "1  [\"عمر طولانی\\r\",\"افت بسیار کم میزان شارژ\\r\",\"ا...   \n",
              "2                                                NaN   \n",
              "3  [\"صفحه نمایش پرنور و با کیفیت\\r\",\"کیفیت بالای ...   \n",
              "4    [\"ظریف و زیبا و باریک\\r\",\"بدنه محکم و با دوام\"]   \n",
              "\n",
              "                                       disadvantages  \n",
              "0                                                NaN  \n",
              "1                                          [\"ندارد\"]  \n",
              "2                                                NaN  \n",
              "3  [\"کیفیت پایین اسپیکر\\r\",\"حاشیه خالی زیر صفحه ن...  \n",
              "4                                    [\"ظرفیت متوسط\"]  "
            ],
            "text/html": [
              "\n",
              "  <div id=\"df-f580f559-c2e0-4600-b1a4-741b1199003b\" class=\"colab-df-container\">\n",
              "    <div>\n",
              "<style scoped>\n",
              "    .dataframe tbody tr th:only-of-type {\n",
              "        vertical-align: middle;\n",
              "    }\n",
              "\n",
              "    .dataframe tbody tr th {\n",
              "        vertical-align: top;\n",
              "    }\n",
              "\n",
              "    .dataframe thead th {\n",
              "        text-align: right;\n",
              "    }\n",
              "</style>\n",
              "<table border=\"1\" class=\"dataframe\">\n",
              "  <thead>\n",
              "    <tr style=\"text-align: right;\">\n",
              "      <th></th>\n",
              "      <th>product_title</th>\n",
              "      <th>title_en</th>\n",
              "      <th>user_id</th>\n",
              "      <th>verification_status</th>\n",
              "      <th>recommend</th>\n",
              "      <th>title</th>\n",
              "      <th>comment</th>\n",
              "      <th>advantages</th>\n",
              "      <th>disadvantages</th>\n",
              "    </tr>\n",
              "  </thead>\n",
              "  <tbody>\n",
              "    <tr>\n",
              "      <th>0</th>\n",
              "      <td>ماوس بی‌سیم لاجیتک مدل M325</td>\n",
              "      <td>IT</td>\n",
              "      <td>989472</td>\n",
              "      <td>verified</td>\n",
              "      <td>\\N</td>\n",
              "      <td>NaN</td>\n",
              "      <td>واقعا عالیه. من که ازش خیلی راضیم</td>\n",
              "      <td>NaN</td>\n",
              "      <td>NaN</td>\n",
              "    </tr>\n",
              "    <tr>\n",
              "      <th>1</th>\n",
              "      <td>شارژر همراه شیاومی مدل NDY-02-AN با ظرفیت 1000...</td>\n",
              "      <td>AC</td>\n",
              "      <td>3862150</td>\n",
              "      <td>verified</td>\n",
              "      <td>recommended</td>\n",
              "      <td>واقعاً عالیه</td>\n",
              "      <td>سلام، قبل اینکه نظرم رو بگم میخواستم به یک موض...</td>\n",
              "      <td>[\"عمر طولانی\\r\",\"افت بسیار کم میزان شارژ\\r\",\"ا...</td>\n",
              "      <td>[\"ندارد\"]</td>\n",
              "    </tr>\n",
              "    <tr>\n",
              "      <th>2</th>\n",
              "      <td>یدک پولیشر میکروفایبر مهسان مدل 20119</td>\n",
              "      <td>HW</td>\n",
              "      <td>626843</td>\n",
              "      <td>verified</td>\n",
              "      <td>not_recommended</td>\n",
              "      <td>خیلی سخت حوله اش در میاد</td>\n",
              "      <td>گیره های فلزی خیلی سخت تا میشوند و لذا حوله را...</td>\n",
              "      <td>NaN</td>\n",
              "      <td>NaN</td>\n",
              "    </tr>\n",
              "    <tr>\n",
              "      <th>3</th>\n",
              "      <td>گوشی موبایل هوآوی آنر مدل 5X KIW-L21 دو سیم‌کارت</td>\n",
              "      <td>MO</td>\n",
              "      <td>786887</td>\n",
              "      <td>verified</td>\n",
              "      <td>no_idea</td>\n",
              "      <td>گوشی مقرون به صرفه</td>\n",
              "      <td>همه چیز در رابطه با ظاهر این گوشی بسیار خوب اس...</td>\n",
              "      <td>[\"صفحه نمایش پرنور و با کیفیت\\r\",\"کیفیت بالای ...</td>\n",
              "      <td>[\"کیفیت پایین اسپیکر\\r\",\"حاشیه خالی زیر صفحه ن...</td>\n",
              "    </tr>\n",
              "    <tr>\n",
              "      <th>4</th>\n",
              "      <td>شارژر همراه شیائومی مدل Mi ظرفیت 5000 میلی آمپ...</td>\n",
              "      <td>AC</td>\n",
              "      <td>854531</td>\n",
              "      <td>verified</td>\n",
              "      <td>no_idea</td>\n",
              "      <td>ابعاد، استحکام و نگهداری شارژ مناسب</td>\n",
              "      <td>اگر ظرفیتش براتون کافیه حتما بخرید._x000D_\\nیه...</td>\n",
              "      <td>[\"ظریف و زیبا و باریک\\r\",\"بدنه محکم و با دوام\"]</td>\n",
              "      <td>[\"ظرفیت متوسط\"]</td>\n",
              "    </tr>\n",
              "  </tbody>\n",
              "</table>\n",
              "</div>\n",
              "    <div class=\"colab-df-buttons\">\n",
              "\n",
              "  <div class=\"colab-df-container\">\n",
              "    <button class=\"colab-df-convert\" onclick=\"convertToInteractive('df-f580f559-c2e0-4600-b1a4-741b1199003b')\"\n",
              "            title=\"Convert this dataframe to an interactive table.\"\n",
              "            style=\"display:none;\">\n",
              "\n",
              "  <svg xmlns=\"http://www.w3.org/2000/svg\" height=\"24px\" viewBox=\"0 -960 960 960\">\n",
              "    <path d=\"M120-120v-720h720v720H120Zm60-500h600v-160H180v160Zm220 220h160v-160H400v160Zm0 220h160v-160H400v160ZM180-400h160v-160H180v160Zm440 0h160v-160H620v160ZM180-180h160v-160H180v160Zm440 0h160v-160H620v160Z\"/>\n",
              "  </svg>\n",
              "    </button>\n",
              "\n",
              "  <style>\n",
              "    .colab-df-container {\n",
              "      display:flex;\n",
              "      gap: 12px;\n",
              "    }\n",
              "\n",
              "    .colab-df-convert {\n",
              "      background-color: #E8F0FE;\n",
              "      border: none;\n",
              "      border-radius: 50%;\n",
              "      cursor: pointer;\n",
              "      display: none;\n",
              "      fill: #1967D2;\n",
              "      height: 32px;\n",
              "      padding: 0 0 0 0;\n",
              "      width: 32px;\n",
              "    }\n",
              "\n",
              "    .colab-df-convert:hover {\n",
              "      background-color: #E2EBFA;\n",
              "      box-shadow: 0px 1px 2px rgba(60, 64, 67, 0.3), 0px 1px 3px 1px rgba(60, 64, 67, 0.15);\n",
              "      fill: #174EA6;\n",
              "    }\n",
              "\n",
              "    .colab-df-buttons div {\n",
              "      margin-bottom: 4px;\n",
              "    }\n",
              "\n",
              "    [theme=dark] .colab-df-convert {\n",
              "      background-color: #3B4455;\n",
              "      fill: #D2E3FC;\n",
              "    }\n",
              "\n",
              "    [theme=dark] .colab-df-convert:hover {\n",
              "      background-color: #434B5C;\n",
              "      box-shadow: 0px 1px 3px 1px rgba(0, 0, 0, 0.15);\n",
              "      filter: drop-shadow(0px 1px 2px rgba(0, 0, 0, 0.3));\n",
              "      fill: #FFFFFF;\n",
              "    }\n",
              "  </style>\n",
              "\n",
              "    <script>\n",
              "      const buttonEl =\n",
              "        document.querySelector('#df-f580f559-c2e0-4600-b1a4-741b1199003b button.colab-df-convert');\n",
              "      buttonEl.style.display =\n",
              "        google.colab.kernel.accessAllowed ? 'block' : 'none';\n",
              "\n",
              "      async function convertToInteractive(key) {\n",
              "        const element = document.querySelector('#df-f580f559-c2e0-4600-b1a4-741b1199003b');\n",
              "        const dataTable =\n",
              "          await google.colab.kernel.invokeFunction('convertToInteractive',\n",
              "                                                    [key], {});\n",
              "        if (!dataTable) return;\n",
              "\n",
              "        const docLinkHtml = 'Like what you see? Visit the ' +\n",
              "          '<a target=\"_blank\" href=https://colab.research.google.com/notebooks/data_table.ipynb>data table notebook</a>'\n",
              "          + ' to learn more about interactive tables.';\n",
              "        element.innerHTML = '';\n",
              "        dataTable['output_type'] = 'display_data';\n",
              "        await google.colab.output.renderOutput(dataTable, element);\n",
              "        const docLink = document.createElement('div');\n",
              "        docLink.innerHTML = docLinkHtml;\n",
              "        element.appendChild(docLink);\n",
              "      }\n",
              "    </script>\n",
              "  </div>\n",
              "\n",
              "\n",
              "<div id=\"df-d05e15ac-f8e6-4df2-865f-7bdf347de1eb\">\n",
              "  <button class=\"colab-df-quickchart\" onclick=\"quickchart('df-d05e15ac-f8e6-4df2-865f-7bdf347de1eb')\"\n",
              "            title=\"Suggest charts.\"\n",
              "            style=\"display:none;\">\n",
              "\n",
              "<svg xmlns=\"http://www.w3.org/2000/svg\" height=\"24px\"viewBox=\"0 0 24 24\"\n",
              "     width=\"24px\">\n",
              "    <g>\n",
              "        <path d=\"M19 3H5c-1.1 0-2 .9-2 2v14c0 1.1.9 2 2 2h14c1.1 0 2-.9 2-2V5c0-1.1-.9-2-2-2zM9 17H7v-7h2v7zm4 0h-2V7h2v10zm4 0h-2v-4h2v4z\"/>\n",
              "    </g>\n",
              "</svg>\n",
              "  </button>\n",
              "\n",
              "<style>\n",
              "  .colab-df-quickchart {\n",
              "    background-color: #E8F0FE;\n",
              "    border: none;\n",
              "    border-radius: 50%;\n",
              "    cursor: pointer;\n",
              "    display: none;\n",
              "    fill: #1967D2;\n",
              "    height: 32px;\n",
              "    padding: 0 0 0 0;\n",
              "    width: 32px;\n",
              "  }\n",
              "\n",
              "  .colab-df-quickchart:hover {\n",
              "    background-color: #E2EBFA;\n",
              "    box-shadow: 0px 1px 2px rgba(60, 64, 67, 0.3), 0px 1px 3px 1px rgba(60, 64, 67, 0.15);\n",
              "    fill: #174EA6;\n",
              "  }\n",
              "\n",
              "  [theme=dark] .colab-df-quickchart {\n",
              "    background-color: #3B4455;\n",
              "    fill: #D2E3FC;\n",
              "  }\n",
              "\n",
              "  [theme=dark] .colab-df-quickchart:hover {\n",
              "    background-color: #434B5C;\n",
              "    box-shadow: 0px 1px 3px 1px rgba(0, 0, 0, 0.15);\n",
              "    filter: drop-shadow(0px 1px 2px rgba(0, 0, 0, 0.3));\n",
              "    fill: #FFFFFF;\n",
              "  }\n",
              "</style>\n",
              "\n",
              "  <script>\n",
              "    async function quickchart(key) {\n",
              "      const charts = await google.colab.kernel.invokeFunction(\n",
              "          'suggestCharts', [key], {});\n",
              "    }\n",
              "    (() => {\n",
              "      let quickchartButtonEl =\n",
              "        document.querySelector('#df-d05e15ac-f8e6-4df2-865f-7bdf347de1eb button');\n",
              "      quickchartButtonEl.style.display =\n",
              "        google.colab.kernel.accessAllowed ? 'block' : 'none';\n",
              "    })();\n",
              "  </script>\n",
              "</div>\n",
              "    </div>\n",
              "  </div>\n"
            ]
          },
          "metadata": {},
          "execution_count": 14
        }
      ]
    },
    {
      "cell_type": "code",
      "source": [
        "df['title_en'].value_counts().sort_values()"
      ],
      "metadata": {
        "colab": {
          "base_uri": "https://localhost:8080/"
        },
        "id": "9FGzGyJjxnlK",
        "outputId": "ac9744ef-2ae5-466f-911d-2ba720a6c150"
      },
      "execution_count": 15,
      "outputs": [
        {
          "output_type": "execute_result",
          "data": {
            "text/plain": [
              "GC        2\n",
              "GF        4\n",
              "FF       60\n",
              "BC      524\n",
              "HC     1063\n",
              "DF     1348\n",
              "MO     2254\n",
              "AV     3865\n",
              "HA     4207\n",
              "PA     5751\n",
              "MA     6395\n",
              "IT     6999\n",
              "TS     7915\n",
              "TC     9846\n",
              "FA    10465\n",
              "HW    10483\n",
              "PC    12443\n",
              "AC    16376\n",
              "Name: title_en, dtype: int64"
            ]
          },
          "metadata": {},
          "execution_count": 15
        }
      ]
    },
    {
      "cell_type": "code",
      "source": [
        "df[df['title_en'] == 'IT']"
      ],
      "metadata": {
        "colab": {
          "base_uri": "https://localhost:8080/",
          "height": 753
        },
        "id": "h5wQkchPRD2N",
        "outputId": "f25b71b8-c335-4fb8-cd4b-2d0c8509d7df"
      },
      "execution_count": 16,
      "outputs": [
        {
          "output_type": "execute_result",
          "data": {
            "text/plain": [
              "                                           product_title title_en  user_id  \\\n",
              "0                            ماوس بی‌سیم لاجیتک مدل M325       IT   989472   \n",
              "5                   لپ تاپ 15 اینچی ایسوس مدل N501VW - A       IT   497032   \n",
              "6                 اسپیکر بلوتوثی دیووم مدل Bluetune bean       IT   574130   \n",
              "10     هارددیسک اکسترنال سیگیت مدل Backup Plus Deskto...       IT   794316   \n",
              "21     هارددیسک اکسترنال ترنسند مدل StoreJet 25H3 ظرف...       IT   714216   \n",
              "...                                                  ...      ...      ...   \n",
              "99945               لپ تاپ 15 اینچی ایسوس مدل X541UV - I       IT  3934338   \n",
              "99955                   ماوس مخصوص بازی ای فورتک مدل N50       IT  8084906   \n",
              "99966                                 تونر الوان مدل 05A       IT  1463329   \n",
              "99971                اسپیکر بلوتوثی قابل حمل میفا مدل F6       IT   981594   \n",
              "99982            پرینتر لیزری کانن مدل i-SENSYS LBP252dw       IT  1463329   \n",
              "\n",
              "      verification_status        recommend                           title  \\\n",
              "0                verified               \\N                             NaN   \n",
              "5                verified      recommended  اقرار بیش از حد در ایراد گرفتن   \n",
              "6                verified      recommended                       بسیار خوب   \n",
              "10               verified      recommended        هارد با کیفیت و ظاهر شیک   \n",
              "21               verified               \\N                     هارد ترنسند   \n",
              "...                   ...              ...                             ...   \n",
              "99945            verified               \\N            در خصوص قیمت و کیفیت   \n",
              "99955            verified          no_idea                      موس a4tech   \n",
              "99966            verified  not_recommended                درام یک بار مصرف   \n",
              "99971            verified      recommended                            سلام   \n",
              "99982            verified      recommended          از خریدش پشیمون نمیشید   \n",
              "\n",
              "                                                 comment  \\\n",
              "0                      واقعا عالیه. من که ازش خیلی راضیم   \n",
              "5      سلام دوستان،،_x000D_\\nمنم مثه بعضی از دوستان ق...   \n",
              "6      من چند سالی هست که این اسپیکرو خریدم و واقعا ح...   \n",
              "10     نزدیک به دو ساله که این هارد رو خریدم. استفاده...   \n",
              "21     با سلام..منم اینو از دیجی گرفتم ..تو نگاه اول ...   \n",
              "...                                                  ...   \n",
              "99945                  قیمت مناسب با توجه به وضعیت بازار   \n",
              "99955  من یکی از این موس ها گرفتم وقتی دابل کلیک می ک...   \n",
              "99966  درام جهت شارژ مجدد افت کیفیت زیادی دارد و به ش...   \n",
              "99971                                              عالیه   \n",
              "99982  از 2035 به مراتب امکانات بیشتری داره_x000D_\\nد...   \n",
              "\n",
              "                                              advantages  \\\n",
              "0                                                    NaN   \n",
              "5        [\"همه چیز که تو مشخصات اومده بجز 3 مورد کوچیک\"]   \n",
              "6      [\"کیفیت ساخت بسیار خوب\\r\",\"کیفیت صدا بسیار عال...   \n",
              "10     [\"کیفیت ساخت خوب\\r\",\"ظاهر ساده و زیبا\\r\",\"صدای...   \n",
              "21                                                   NaN   \n",
              "...                                                  ...   \n",
              "99945                                                NaN   \n",
              "99955                                                NaN   \n",
              "99966                                                NaN   \n",
              "99971                                                NaN   \n",
              "99982                                                NaN   \n",
              "\n",
              "                                           disadvantages  \n",
              "0                                                    NaN  \n",
              "5      [\"تاچ پدش میتونست بهتر باشه از نظر سرعت پاسخ گ...  \n",
              "6                                              [\"ندارد\"]  \n",
              "10     [\"عدم مقاومت در برابر ضربه\\r\",\"عدم سهولت جا به...  \n",
              "21                                                   NaN  \n",
              "...                                                  ...  \n",
              "99945                                                NaN  \n",
              "99955                                                NaN  \n",
              "99966                                                NaN  \n",
              "99971                                                NaN  \n",
              "99982                                                NaN  \n",
              "\n",
              "[6999 rows x 9 columns]"
            ],
            "text/html": [
              "\n",
              "  <div id=\"df-a44bdb22-3ed3-434a-812c-eb08aaa8f4c8\" class=\"colab-df-container\">\n",
              "    <div>\n",
              "<style scoped>\n",
              "    .dataframe tbody tr th:only-of-type {\n",
              "        vertical-align: middle;\n",
              "    }\n",
              "\n",
              "    .dataframe tbody tr th {\n",
              "        vertical-align: top;\n",
              "    }\n",
              "\n",
              "    .dataframe thead th {\n",
              "        text-align: right;\n",
              "    }\n",
              "</style>\n",
              "<table border=\"1\" class=\"dataframe\">\n",
              "  <thead>\n",
              "    <tr style=\"text-align: right;\">\n",
              "      <th></th>\n",
              "      <th>product_title</th>\n",
              "      <th>title_en</th>\n",
              "      <th>user_id</th>\n",
              "      <th>verification_status</th>\n",
              "      <th>recommend</th>\n",
              "      <th>title</th>\n",
              "      <th>comment</th>\n",
              "      <th>advantages</th>\n",
              "      <th>disadvantages</th>\n",
              "    </tr>\n",
              "  </thead>\n",
              "  <tbody>\n",
              "    <tr>\n",
              "      <th>0</th>\n",
              "      <td>ماوس بی‌سیم لاجیتک مدل M325</td>\n",
              "      <td>IT</td>\n",
              "      <td>989472</td>\n",
              "      <td>verified</td>\n",
              "      <td>\\N</td>\n",
              "      <td>NaN</td>\n",
              "      <td>واقعا عالیه. من که ازش خیلی راضیم</td>\n",
              "      <td>NaN</td>\n",
              "      <td>NaN</td>\n",
              "    </tr>\n",
              "    <tr>\n",
              "      <th>5</th>\n",
              "      <td>لپ تاپ 15 اینچی ایسوس مدل N501VW - A</td>\n",
              "      <td>IT</td>\n",
              "      <td>497032</td>\n",
              "      <td>verified</td>\n",
              "      <td>recommended</td>\n",
              "      <td>اقرار بیش از حد در ایراد گرفتن</td>\n",
              "      <td>سلام دوستان،،_x000D_\\nمنم مثه بعضی از دوستان ق...</td>\n",
              "      <td>[\"همه چیز که تو مشخصات اومده بجز 3 مورد کوچیک\"]</td>\n",
              "      <td>[\"تاچ پدش میتونست بهتر باشه از نظر سرعت پاسخ گ...</td>\n",
              "    </tr>\n",
              "    <tr>\n",
              "      <th>6</th>\n",
              "      <td>اسپیکر بلوتوثی دیووم مدل Bluetune bean</td>\n",
              "      <td>IT</td>\n",
              "      <td>574130</td>\n",
              "      <td>verified</td>\n",
              "      <td>recommended</td>\n",
              "      <td>بسیار خوب</td>\n",
              "      <td>من چند سالی هست که این اسپیکرو خریدم و واقعا ح...</td>\n",
              "      <td>[\"کیفیت ساخت بسیار خوب\\r\",\"کیفیت صدا بسیار عال...</td>\n",
              "      <td>[\"ندارد\"]</td>\n",
              "    </tr>\n",
              "    <tr>\n",
              "      <th>10</th>\n",
              "      <td>هارددیسک اکسترنال سیگیت مدل Backup Plus Deskto...</td>\n",
              "      <td>IT</td>\n",
              "      <td>794316</td>\n",
              "      <td>verified</td>\n",
              "      <td>recommended</td>\n",
              "      <td>هارد با کیفیت و ظاهر شیک</td>\n",
              "      <td>نزدیک به دو ساله که این هارد رو خریدم. استفاده...</td>\n",
              "      <td>[\"کیفیت ساخت خوب\\r\",\"ظاهر ساده و زیبا\\r\",\"صدای...</td>\n",
              "      <td>[\"عدم مقاومت در برابر ضربه\\r\",\"عدم سهولت جا به...</td>\n",
              "    </tr>\n",
              "    <tr>\n",
              "      <th>21</th>\n",
              "      <td>هارددیسک اکسترنال ترنسند مدل StoreJet 25H3 ظرف...</td>\n",
              "      <td>IT</td>\n",
              "      <td>714216</td>\n",
              "      <td>verified</td>\n",
              "      <td>\\N</td>\n",
              "      <td>هارد ترنسند</td>\n",
              "      <td>با سلام..منم اینو از دیجی گرفتم ..تو نگاه اول ...</td>\n",
              "      <td>NaN</td>\n",
              "      <td>NaN</td>\n",
              "    </tr>\n",
              "    <tr>\n",
              "      <th>...</th>\n",
              "      <td>...</td>\n",
              "      <td>...</td>\n",
              "      <td>...</td>\n",
              "      <td>...</td>\n",
              "      <td>...</td>\n",
              "      <td>...</td>\n",
              "      <td>...</td>\n",
              "      <td>...</td>\n",
              "      <td>...</td>\n",
              "    </tr>\n",
              "    <tr>\n",
              "      <th>99945</th>\n",
              "      <td>لپ تاپ 15 اینچی ایسوس مدل X541UV - I</td>\n",
              "      <td>IT</td>\n",
              "      <td>3934338</td>\n",
              "      <td>verified</td>\n",
              "      <td>\\N</td>\n",
              "      <td>در خصوص قیمت و کیفیت</td>\n",
              "      <td>قیمت مناسب با توجه به وضعیت بازار</td>\n",
              "      <td>NaN</td>\n",
              "      <td>NaN</td>\n",
              "    </tr>\n",
              "    <tr>\n",
              "      <th>99955</th>\n",
              "      <td>ماوس مخصوص بازی ای فورتک مدل N50</td>\n",
              "      <td>IT</td>\n",
              "      <td>8084906</td>\n",
              "      <td>verified</td>\n",
              "      <td>no_idea</td>\n",
              "      <td>موس a4tech</td>\n",
              "      <td>من یکی از این موس ها گرفتم وقتی دابل کلیک می ک...</td>\n",
              "      <td>NaN</td>\n",
              "      <td>NaN</td>\n",
              "    </tr>\n",
              "    <tr>\n",
              "      <th>99966</th>\n",
              "      <td>تونر الوان مدل 05A</td>\n",
              "      <td>IT</td>\n",
              "      <td>1463329</td>\n",
              "      <td>verified</td>\n",
              "      <td>not_recommended</td>\n",
              "      <td>درام یک بار مصرف</td>\n",
              "      <td>درام جهت شارژ مجدد افت کیفیت زیادی دارد و به ش...</td>\n",
              "      <td>NaN</td>\n",
              "      <td>NaN</td>\n",
              "    </tr>\n",
              "    <tr>\n",
              "      <th>99971</th>\n",
              "      <td>اسپیکر بلوتوثی قابل حمل میفا مدل F6</td>\n",
              "      <td>IT</td>\n",
              "      <td>981594</td>\n",
              "      <td>verified</td>\n",
              "      <td>recommended</td>\n",
              "      <td>سلام</td>\n",
              "      <td>عالیه</td>\n",
              "      <td>NaN</td>\n",
              "      <td>NaN</td>\n",
              "    </tr>\n",
              "    <tr>\n",
              "      <th>99982</th>\n",
              "      <td>پرینتر لیزری کانن مدل i-SENSYS LBP252dw</td>\n",
              "      <td>IT</td>\n",
              "      <td>1463329</td>\n",
              "      <td>verified</td>\n",
              "      <td>recommended</td>\n",
              "      <td>از خریدش پشیمون نمیشید</td>\n",
              "      <td>از 2035 به مراتب امکانات بیشتری داره_x000D_\\nد...</td>\n",
              "      <td>NaN</td>\n",
              "      <td>NaN</td>\n",
              "    </tr>\n",
              "  </tbody>\n",
              "</table>\n",
              "<p>6999 rows × 9 columns</p>\n",
              "</div>\n",
              "    <div class=\"colab-df-buttons\">\n",
              "\n",
              "  <div class=\"colab-df-container\">\n",
              "    <button class=\"colab-df-convert\" onclick=\"convertToInteractive('df-a44bdb22-3ed3-434a-812c-eb08aaa8f4c8')\"\n",
              "            title=\"Convert this dataframe to an interactive table.\"\n",
              "            style=\"display:none;\">\n",
              "\n",
              "  <svg xmlns=\"http://www.w3.org/2000/svg\" height=\"24px\" viewBox=\"0 -960 960 960\">\n",
              "    <path d=\"M120-120v-720h720v720H120Zm60-500h600v-160H180v160Zm220 220h160v-160H400v160Zm0 220h160v-160H400v160ZM180-400h160v-160H180v160Zm440 0h160v-160H620v160ZM180-180h160v-160H180v160Zm440 0h160v-160H620v160Z\"/>\n",
              "  </svg>\n",
              "    </button>\n",
              "\n",
              "  <style>\n",
              "    .colab-df-container {\n",
              "      display:flex;\n",
              "      gap: 12px;\n",
              "    }\n",
              "\n",
              "    .colab-df-convert {\n",
              "      background-color: #E8F0FE;\n",
              "      border: none;\n",
              "      border-radius: 50%;\n",
              "      cursor: pointer;\n",
              "      display: none;\n",
              "      fill: #1967D2;\n",
              "      height: 32px;\n",
              "      padding: 0 0 0 0;\n",
              "      width: 32px;\n",
              "    }\n",
              "\n",
              "    .colab-df-convert:hover {\n",
              "      background-color: #E2EBFA;\n",
              "      box-shadow: 0px 1px 2px rgba(60, 64, 67, 0.3), 0px 1px 3px 1px rgba(60, 64, 67, 0.15);\n",
              "      fill: #174EA6;\n",
              "    }\n",
              "\n",
              "    .colab-df-buttons div {\n",
              "      margin-bottom: 4px;\n",
              "    }\n",
              "\n",
              "    [theme=dark] .colab-df-convert {\n",
              "      background-color: #3B4455;\n",
              "      fill: #D2E3FC;\n",
              "    }\n",
              "\n",
              "    [theme=dark] .colab-df-convert:hover {\n",
              "      background-color: #434B5C;\n",
              "      box-shadow: 0px 1px 3px 1px rgba(0, 0, 0, 0.15);\n",
              "      filter: drop-shadow(0px 1px 2px rgba(0, 0, 0, 0.3));\n",
              "      fill: #FFFFFF;\n",
              "    }\n",
              "  </style>\n",
              "\n",
              "    <script>\n",
              "      const buttonEl =\n",
              "        document.querySelector('#df-a44bdb22-3ed3-434a-812c-eb08aaa8f4c8 button.colab-df-convert');\n",
              "      buttonEl.style.display =\n",
              "        google.colab.kernel.accessAllowed ? 'block' : 'none';\n",
              "\n",
              "      async function convertToInteractive(key) {\n",
              "        const element = document.querySelector('#df-a44bdb22-3ed3-434a-812c-eb08aaa8f4c8');\n",
              "        const dataTable =\n",
              "          await google.colab.kernel.invokeFunction('convertToInteractive',\n",
              "                                                    [key], {});\n",
              "        if (!dataTable) return;\n",
              "\n",
              "        const docLinkHtml = 'Like what you see? Visit the ' +\n",
              "          '<a target=\"_blank\" href=https://colab.research.google.com/notebooks/data_table.ipynb>data table notebook</a>'\n",
              "          + ' to learn more about interactive tables.';\n",
              "        element.innerHTML = '';\n",
              "        dataTable['output_type'] = 'display_data';\n",
              "        await google.colab.output.renderOutput(dataTable, element);\n",
              "        const docLink = document.createElement('div');\n",
              "        docLink.innerHTML = docLinkHtml;\n",
              "        element.appendChild(docLink);\n",
              "      }\n",
              "    </script>\n",
              "  </div>\n",
              "\n",
              "\n",
              "<div id=\"df-286e8402-c3e1-43f1-b1cc-de0d2100547e\">\n",
              "  <button class=\"colab-df-quickchart\" onclick=\"quickchart('df-286e8402-c3e1-43f1-b1cc-de0d2100547e')\"\n",
              "            title=\"Suggest charts.\"\n",
              "            style=\"display:none;\">\n",
              "\n",
              "<svg xmlns=\"http://www.w3.org/2000/svg\" height=\"24px\"viewBox=\"0 0 24 24\"\n",
              "     width=\"24px\">\n",
              "    <g>\n",
              "        <path d=\"M19 3H5c-1.1 0-2 .9-2 2v14c0 1.1.9 2 2 2h14c1.1 0 2-.9 2-2V5c0-1.1-.9-2-2-2zM9 17H7v-7h2v7zm4 0h-2V7h2v10zm4 0h-2v-4h2v4z\"/>\n",
              "    </g>\n",
              "</svg>\n",
              "  </button>\n",
              "\n",
              "<style>\n",
              "  .colab-df-quickchart {\n",
              "    background-color: #E8F0FE;\n",
              "    border: none;\n",
              "    border-radius: 50%;\n",
              "    cursor: pointer;\n",
              "    display: none;\n",
              "    fill: #1967D2;\n",
              "    height: 32px;\n",
              "    padding: 0 0 0 0;\n",
              "    width: 32px;\n",
              "  }\n",
              "\n",
              "  .colab-df-quickchart:hover {\n",
              "    background-color: #E2EBFA;\n",
              "    box-shadow: 0px 1px 2px rgba(60, 64, 67, 0.3), 0px 1px 3px 1px rgba(60, 64, 67, 0.15);\n",
              "    fill: #174EA6;\n",
              "  }\n",
              "\n",
              "  [theme=dark] .colab-df-quickchart {\n",
              "    background-color: #3B4455;\n",
              "    fill: #D2E3FC;\n",
              "  }\n",
              "\n",
              "  [theme=dark] .colab-df-quickchart:hover {\n",
              "    background-color: #434B5C;\n",
              "    box-shadow: 0px 1px 3px 1px rgba(0, 0, 0, 0.15);\n",
              "    filter: drop-shadow(0px 1px 2px rgba(0, 0, 0, 0.3));\n",
              "    fill: #FFFFFF;\n",
              "  }\n",
              "</style>\n",
              "\n",
              "  <script>\n",
              "    async function quickchart(key) {\n",
              "      const charts = await google.colab.kernel.invokeFunction(\n",
              "          'suggestCharts', [key], {});\n",
              "    }\n",
              "    (() => {\n",
              "      let quickchartButtonEl =\n",
              "        document.querySelector('#df-286e8402-c3e1-43f1-b1cc-de0d2100547e button');\n",
              "      quickchartButtonEl.style.display =\n",
              "        google.colab.kernel.accessAllowed ? 'block' : 'none';\n",
              "    })();\n",
              "  </script>\n",
              "</div>\n",
              "    </div>\n",
              "  </div>\n"
            ]
          },
          "metadata": {},
          "execution_count": 16
        }
      ]
    },
    {
      "cell_type": "code",
      "source": [
        "df_ac = df[(df['title_en'] == 'AC') | (df['title_en'] == 'MO') |  (df['title_en'] == 'IT')]"
      ],
      "metadata": {
        "id": "gm4dHFIh7tAp"
      },
      "execution_count": 17,
      "outputs": []
    },
    {
      "cell_type": "code",
      "source": [
        "df_ac.drop(['product_title','title_en','user_id','verification_status','title','advantages','disadvantages'], axis=1 ,inplace=True)"
      ],
      "metadata": {
        "id": "5g5i8YQF7wa2"
      },
      "execution_count": null,
      "outputs": []
    },
    {
      "cell_type": "code",
      "source": [
        "df_ac.head()"
      ],
      "metadata": {
        "colab": {
          "base_uri": "https://localhost:8080/",
          "height": 206
        },
        "id": "dXLdk3Oi8Vxe",
        "outputId": "84c4705b-4fdd-4a87-c891-f4a483145ce5"
      },
      "execution_count": 19,
      "outputs": [
        {
          "output_type": "execute_result",
          "data": {
            "text/plain": [
              "     recommend                                            comment\n",
              "0           \\N                  واقعا عالیه. من که ازش خیلی راضیم\n",
              "1  recommended  سلام، قبل اینکه نظرم رو بگم میخواستم به یک موض...\n",
              "3      no_idea  همه چیز در رابطه با ظاهر این گوشی بسیار خوب اس...\n",
              "4      no_idea  اگر ظرفیتش براتون کافیه حتما بخرید._x000D_\\nیه...\n",
              "5  recommended  سلام دوستان،،_x000D_\\nمنم مثه بعضی از دوستان ق..."
            ],
            "text/html": [
              "\n",
              "  <div id=\"df-fdea9f66-bd9d-47e2-ba45-84e347f15e67\" class=\"colab-df-container\">\n",
              "    <div>\n",
              "<style scoped>\n",
              "    .dataframe tbody tr th:only-of-type {\n",
              "        vertical-align: middle;\n",
              "    }\n",
              "\n",
              "    .dataframe tbody tr th {\n",
              "        vertical-align: top;\n",
              "    }\n",
              "\n",
              "    .dataframe thead th {\n",
              "        text-align: right;\n",
              "    }\n",
              "</style>\n",
              "<table border=\"1\" class=\"dataframe\">\n",
              "  <thead>\n",
              "    <tr style=\"text-align: right;\">\n",
              "      <th></th>\n",
              "      <th>recommend</th>\n",
              "      <th>comment</th>\n",
              "    </tr>\n",
              "  </thead>\n",
              "  <tbody>\n",
              "    <tr>\n",
              "      <th>0</th>\n",
              "      <td>\\N</td>\n",
              "      <td>واقعا عالیه. من که ازش خیلی راضیم</td>\n",
              "    </tr>\n",
              "    <tr>\n",
              "      <th>1</th>\n",
              "      <td>recommended</td>\n",
              "      <td>سلام، قبل اینکه نظرم رو بگم میخواستم به یک موض...</td>\n",
              "    </tr>\n",
              "    <tr>\n",
              "      <th>3</th>\n",
              "      <td>no_idea</td>\n",
              "      <td>همه چیز در رابطه با ظاهر این گوشی بسیار خوب اس...</td>\n",
              "    </tr>\n",
              "    <tr>\n",
              "      <th>4</th>\n",
              "      <td>no_idea</td>\n",
              "      <td>اگر ظرفیتش براتون کافیه حتما بخرید._x000D_\\nیه...</td>\n",
              "    </tr>\n",
              "    <tr>\n",
              "      <th>5</th>\n",
              "      <td>recommended</td>\n",
              "      <td>سلام دوستان،،_x000D_\\nمنم مثه بعضی از دوستان ق...</td>\n",
              "    </tr>\n",
              "  </tbody>\n",
              "</table>\n",
              "</div>\n",
              "    <div class=\"colab-df-buttons\">\n",
              "\n",
              "  <div class=\"colab-df-container\">\n",
              "    <button class=\"colab-df-convert\" onclick=\"convertToInteractive('df-fdea9f66-bd9d-47e2-ba45-84e347f15e67')\"\n",
              "            title=\"Convert this dataframe to an interactive table.\"\n",
              "            style=\"display:none;\">\n",
              "\n",
              "  <svg xmlns=\"http://www.w3.org/2000/svg\" height=\"24px\" viewBox=\"0 -960 960 960\">\n",
              "    <path d=\"M120-120v-720h720v720H120Zm60-500h600v-160H180v160Zm220 220h160v-160H400v160Zm0 220h160v-160H400v160ZM180-400h160v-160H180v160Zm440 0h160v-160H620v160ZM180-180h160v-160H180v160Zm440 0h160v-160H620v160Z\"/>\n",
              "  </svg>\n",
              "    </button>\n",
              "\n",
              "  <style>\n",
              "    .colab-df-container {\n",
              "      display:flex;\n",
              "      gap: 12px;\n",
              "    }\n",
              "\n",
              "    .colab-df-convert {\n",
              "      background-color: #E8F0FE;\n",
              "      border: none;\n",
              "      border-radius: 50%;\n",
              "      cursor: pointer;\n",
              "      display: none;\n",
              "      fill: #1967D2;\n",
              "      height: 32px;\n",
              "      padding: 0 0 0 0;\n",
              "      width: 32px;\n",
              "    }\n",
              "\n",
              "    .colab-df-convert:hover {\n",
              "      background-color: #E2EBFA;\n",
              "      box-shadow: 0px 1px 2px rgba(60, 64, 67, 0.3), 0px 1px 3px 1px rgba(60, 64, 67, 0.15);\n",
              "      fill: #174EA6;\n",
              "    }\n",
              "\n",
              "    .colab-df-buttons div {\n",
              "      margin-bottom: 4px;\n",
              "    }\n",
              "\n",
              "    [theme=dark] .colab-df-convert {\n",
              "      background-color: #3B4455;\n",
              "      fill: #D2E3FC;\n",
              "    }\n",
              "\n",
              "    [theme=dark] .colab-df-convert:hover {\n",
              "      background-color: #434B5C;\n",
              "      box-shadow: 0px 1px 3px 1px rgba(0, 0, 0, 0.15);\n",
              "      filter: drop-shadow(0px 1px 2px rgba(0, 0, 0, 0.3));\n",
              "      fill: #FFFFFF;\n",
              "    }\n",
              "  </style>\n",
              "\n",
              "    <script>\n",
              "      const buttonEl =\n",
              "        document.querySelector('#df-fdea9f66-bd9d-47e2-ba45-84e347f15e67 button.colab-df-convert');\n",
              "      buttonEl.style.display =\n",
              "        google.colab.kernel.accessAllowed ? 'block' : 'none';\n",
              "\n",
              "      async function convertToInteractive(key) {\n",
              "        const element = document.querySelector('#df-fdea9f66-bd9d-47e2-ba45-84e347f15e67');\n",
              "        const dataTable =\n",
              "          await google.colab.kernel.invokeFunction('convertToInteractive',\n",
              "                                                    [key], {});\n",
              "        if (!dataTable) return;\n",
              "\n",
              "        const docLinkHtml = 'Like what you see? Visit the ' +\n",
              "          '<a target=\"_blank\" href=https://colab.research.google.com/notebooks/data_table.ipynb>data table notebook</a>'\n",
              "          + ' to learn more about interactive tables.';\n",
              "        element.innerHTML = '';\n",
              "        dataTable['output_type'] = 'display_data';\n",
              "        await google.colab.output.renderOutput(dataTable, element);\n",
              "        const docLink = document.createElement('div');\n",
              "        docLink.innerHTML = docLinkHtml;\n",
              "        element.appendChild(docLink);\n",
              "      }\n",
              "    </script>\n",
              "  </div>\n",
              "\n",
              "\n",
              "<div id=\"df-a95d1832-77e3-4457-9e0b-f7774117c1e4\">\n",
              "  <button class=\"colab-df-quickchart\" onclick=\"quickchart('df-a95d1832-77e3-4457-9e0b-f7774117c1e4')\"\n",
              "            title=\"Suggest charts.\"\n",
              "            style=\"display:none;\">\n",
              "\n",
              "<svg xmlns=\"http://www.w3.org/2000/svg\" height=\"24px\"viewBox=\"0 0 24 24\"\n",
              "     width=\"24px\">\n",
              "    <g>\n",
              "        <path d=\"M19 3H5c-1.1 0-2 .9-2 2v14c0 1.1.9 2 2 2h14c1.1 0 2-.9 2-2V5c0-1.1-.9-2-2-2zM9 17H7v-7h2v7zm4 0h-2V7h2v10zm4 0h-2v-4h2v4z\"/>\n",
              "    </g>\n",
              "</svg>\n",
              "  </button>\n",
              "\n",
              "<style>\n",
              "  .colab-df-quickchart {\n",
              "    background-color: #E8F0FE;\n",
              "    border: none;\n",
              "    border-radius: 50%;\n",
              "    cursor: pointer;\n",
              "    display: none;\n",
              "    fill: #1967D2;\n",
              "    height: 32px;\n",
              "    padding: 0 0 0 0;\n",
              "    width: 32px;\n",
              "  }\n",
              "\n",
              "  .colab-df-quickchart:hover {\n",
              "    background-color: #E2EBFA;\n",
              "    box-shadow: 0px 1px 2px rgba(60, 64, 67, 0.3), 0px 1px 3px 1px rgba(60, 64, 67, 0.15);\n",
              "    fill: #174EA6;\n",
              "  }\n",
              "\n",
              "  [theme=dark] .colab-df-quickchart {\n",
              "    background-color: #3B4455;\n",
              "    fill: #D2E3FC;\n",
              "  }\n",
              "\n",
              "  [theme=dark] .colab-df-quickchart:hover {\n",
              "    background-color: #434B5C;\n",
              "    box-shadow: 0px 1px 3px 1px rgba(0, 0, 0, 0.15);\n",
              "    filter: drop-shadow(0px 1px 2px rgba(0, 0, 0, 0.3));\n",
              "    fill: #FFFFFF;\n",
              "  }\n",
              "</style>\n",
              "\n",
              "  <script>\n",
              "    async function quickchart(key) {\n",
              "      const charts = await google.colab.kernel.invokeFunction(\n",
              "          'suggestCharts', [key], {});\n",
              "    }\n",
              "    (() => {\n",
              "      let quickchartButtonEl =\n",
              "        document.querySelector('#df-a95d1832-77e3-4457-9e0b-f7774117c1e4 button');\n",
              "      quickchartButtonEl.style.display =\n",
              "        google.colab.kernel.accessAllowed ? 'block' : 'none';\n",
              "    })();\n",
              "  </script>\n",
              "</div>\n",
              "    </div>\n",
              "  </div>\n"
            ]
          },
          "metadata": {},
          "execution_count": 19
        }
      ]
    },
    {
      "cell_type": "code",
      "source": [
        "df_ac.shape"
      ],
      "metadata": {
        "colab": {
          "base_uri": "https://localhost:8080/"
        },
        "id": "XKahKaAn8Y8H",
        "outputId": "c6acc1df-f280-412d-c963-77263c37217f"
      },
      "execution_count": 20,
      "outputs": [
        {
          "output_type": "execute_result",
          "data": {
            "text/plain": [
              "(25629, 2)"
            ]
          },
          "metadata": {},
          "execution_count": 20
        }
      ]
    },
    {
      "cell_type": "code",
      "source": [
        "df_ac['recommend'].value_counts().sort_values()"
      ],
      "metadata": {
        "colab": {
          "base_uri": "https://localhost:8080/"
        },
        "id": "ctEr2N-r8cHN",
        "outputId": "eb37aa3a-0c5d-4f1b-eb94-d9fb4279b757"
      },
      "execution_count": 21,
      "outputs": [
        {
          "output_type": "execute_result",
          "data": {
            "text/plain": [
              "no_idea            2397\n",
              "not_recommended    4795\n",
              "\\N                 8783\n",
              "recommended        9654\n",
              "Name: recommend, dtype: int64"
            ]
          },
          "metadata": {},
          "execution_count": 21
        }
      ]
    },
    {
      "cell_type": "code",
      "source": [
        "df_ac = df_ac[(df_ac['recommend'] == 'not_recommended') | (df_ac['recommend'] =='recommended')]"
      ],
      "metadata": {
        "id": "PjPjhSSo82SB"
      },
      "execution_count": 22,
      "outputs": []
    },
    {
      "cell_type": "code",
      "source": [
        "df_ac.shape"
      ],
      "metadata": {
        "id": "-nJ6fhl2S90H",
        "outputId": "16809780-9e2a-4ab6-9580-918c6b211a88",
        "colab": {
          "base_uri": "https://localhost:8080/"
        }
      },
      "execution_count": 23,
      "outputs": [
        {
          "output_type": "execute_result",
          "data": {
            "text/plain": [
              "(14449, 2)"
            ]
          },
          "metadata": {},
          "execution_count": 23
        }
      ]
    },
    {
      "cell_type": "code",
      "source": [
        "df_ac.head()"
      ],
      "metadata": {
        "colab": {
          "base_uri": "https://localhost:8080/",
          "height": 206
        },
        "id": "HY7X-r55CMpZ",
        "outputId": "7f989de7-9c18-4ee9-b150-20e19b075b9d"
      },
      "execution_count": 24,
      "outputs": [
        {
          "output_type": "execute_result",
          "data": {
            "text/plain": [
              "      recommend                                            comment\n",
              "1   recommended  سلام، قبل اینکه نظرم رو بگم میخواستم به یک موض...\n",
              "5   recommended  سلام دوستان،،_x000D_\\nمنم مثه بعضی از دوستان ق...\n",
              "6   recommended  من چند سالی هست که این اسپیکرو خریدم و واقعا ح...\n",
              "10  recommended  نزدیک به دو ساله که این هارد رو خریدم. استفاده...\n",
              "13  recommended  من این پاور بانک رو حدود یک سال پیش از دیجی کا..."
            ],
            "text/html": [
              "\n",
              "  <div id=\"df-e78b9a60-1421-44bb-8c20-612a0a46508d\" class=\"colab-df-container\">\n",
              "    <div>\n",
              "<style scoped>\n",
              "    .dataframe tbody tr th:only-of-type {\n",
              "        vertical-align: middle;\n",
              "    }\n",
              "\n",
              "    .dataframe tbody tr th {\n",
              "        vertical-align: top;\n",
              "    }\n",
              "\n",
              "    .dataframe thead th {\n",
              "        text-align: right;\n",
              "    }\n",
              "</style>\n",
              "<table border=\"1\" class=\"dataframe\">\n",
              "  <thead>\n",
              "    <tr style=\"text-align: right;\">\n",
              "      <th></th>\n",
              "      <th>recommend</th>\n",
              "      <th>comment</th>\n",
              "    </tr>\n",
              "  </thead>\n",
              "  <tbody>\n",
              "    <tr>\n",
              "      <th>1</th>\n",
              "      <td>recommended</td>\n",
              "      <td>سلام، قبل اینکه نظرم رو بگم میخواستم به یک موض...</td>\n",
              "    </tr>\n",
              "    <tr>\n",
              "      <th>5</th>\n",
              "      <td>recommended</td>\n",
              "      <td>سلام دوستان،،_x000D_\\nمنم مثه بعضی از دوستان ق...</td>\n",
              "    </tr>\n",
              "    <tr>\n",
              "      <th>6</th>\n",
              "      <td>recommended</td>\n",
              "      <td>من چند سالی هست که این اسپیکرو خریدم و واقعا ح...</td>\n",
              "    </tr>\n",
              "    <tr>\n",
              "      <th>10</th>\n",
              "      <td>recommended</td>\n",
              "      <td>نزدیک به دو ساله که این هارد رو خریدم. استفاده...</td>\n",
              "    </tr>\n",
              "    <tr>\n",
              "      <th>13</th>\n",
              "      <td>recommended</td>\n",
              "      <td>من این پاور بانک رو حدود یک سال پیش از دیجی کا...</td>\n",
              "    </tr>\n",
              "  </tbody>\n",
              "</table>\n",
              "</div>\n",
              "    <div class=\"colab-df-buttons\">\n",
              "\n",
              "  <div class=\"colab-df-container\">\n",
              "    <button class=\"colab-df-convert\" onclick=\"convertToInteractive('df-e78b9a60-1421-44bb-8c20-612a0a46508d')\"\n",
              "            title=\"Convert this dataframe to an interactive table.\"\n",
              "            style=\"display:none;\">\n",
              "\n",
              "  <svg xmlns=\"http://www.w3.org/2000/svg\" height=\"24px\" viewBox=\"0 -960 960 960\">\n",
              "    <path d=\"M120-120v-720h720v720H120Zm60-500h600v-160H180v160Zm220 220h160v-160H400v160Zm0 220h160v-160H400v160ZM180-400h160v-160H180v160Zm440 0h160v-160H620v160ZM180-180h160v-160H180v160Zm440 0h160v-160H620v160Z\"/>\n",
              "  </svg>\n",
              "    </button>\n",
              "\n",
              "  <style>\n",
              "    .colab-df-container {\n",
              "      display:flex;\n",
              "      gap: 12px;\n",
              "    }\n",
              "\n",
              "    .colab-df-convert {\n",
              "      background-color: #E8F0FE;\n",
              "      border: none;\n",
              "      border-radius: 50%;\n",
              "      cursor: pointer;\n",
              "      display: none;\n",
              "      fill: #1967D2;\n",
              "      height: 32px;\n",
              "      padding: 0 0 0 0;\n",
              "      width: 32px;\n",
              "    }\n",
              "\n",
              "    .colab-df-convert:hover {\n",
              "      background-color: #E2EBFA;\n",
              "      box-shadow: 0px 1px 2px rgba(60, 64, 67, 0.3), 0px 1px 3px 1px rgba(60, 64, 67, 0.15);\n",
              "      fill: #174EA6;\n",
              "    }\n",
              "\n",
              "    .colab-df-buttons div {\n",
              "      margin-bottom: 4px;\n",
              "    }\n",
              "\n",
              "    [theme=dark] .colab-df-convert {\n",
              "      background-color: #3B4455;\n",
              "      fill: #D2E3FC;\n",
              "    }\n",
              "\n",
              "    [theme=dark] .colab-df-convert:hover {\n",
              "      background-color: #434B5C;\n",
              "      box-shadow: 0px 1px 3px 1px rgba(0, 0, 0, 0.15);\n",
              "      filter: drop-shadow(0px 1px 2px rgba(0, 0, 0, 0.3));\n",
              "      fill: #FFFFFF;\n",
              "    }\n",
              "  </style>\n",
              "\n",
              "    <script>\n",
              "      const buttonEl =\n",
              "        document.querySelector('#df-e78b9a60-1421-44bb-8c20-612a0a46508d button.colab-df-convert');\n",
              "      buttonEl.style.display =\n",
              "        google.colab.kernel.accessAllowed ? 'block' : 'none';\n",
              "\n",
              "      async function convertToInteractive(key) {\n",
              "        const element = document.querySelector('#df-e78b9a60-1421-44bb-8c20-612a0a46508d');\n",
              "        const dataTable =\n",
              "          await google.colab.kernel.invokeFunction('convertToInteractive',\n",
              "                                                    [key], {});\n",
              "        if (!dataTable) return;\n",
              "\n",
              "        const docLinkHtml = 'Like what you see? Visit the ' +\n",
              "          '<a target=\"_blank\" href=https://colab.research.google.com/notebooks/data_table.ipynb>data table notebook</a>'\n",
              "          + ' to learn more about interactive tables.';\n",
              "        element.innerHTML = '';\n",
              "        dataTable['output_type'] = 'display_data';\n",
              "        await google.colab.output.renderOutput(dataTable, element);\n",
              "        const docLink = document.createElement('div');\n",
              "        docLink.innerHTML = docLinkHtml;\n",
              "        element.appendChild(docLink);\n",
              "      }\n",
              "    </script>\n",
              "  </div>\n",
              "\n",
              "\n",
              "<div id=\"df-0055a6f2-b564-4d74-b3ee-a08231023595\">\n",
              "  <button class=\"colab-df-quickchart\" onclick=\"quickchart('df-0055a6f2-b564-4d74-b3ee-a08231023595')\"\n",
              "            title=\"Suggest charts.\"\n",
              "            style=\"display:none;\">\n",
              "\n",
              "<svg xmlns=\"http://www.w3.org/2000/svg\" height=\"24px\"viewBox=\"0 0 24 24\"\n",
              "     width=\"24px\">\n",
              "    <g>\n",
              "        <path d=\"M19 3H5c-1.1 0-2 .9-2 2v14c0 1.1.9 2 2 2h14c1.1 0 2-.9 2-2V5c0-1.1-.9-2-2-2zM9 17H7v-7h2v7zm4 0h-2V7h2v10zm4 0h-2v-4h2v4z\"/>\n",
              "    </g>\n",
              "</svg>\n",
              "  </button>\n",
              "\n",
              "<style>\n",
              "  .colab-df-quickchart {\n",
              "    background-color: #E8F0FE;\n",
              "    border: none;\n",
              "    border-radius: 50%;\n",
              "    cursor: pointer;\n",
              "    display: none;\n",
              "    fill: #1967D2;\n",
              "    height: 32px;\n",
              "    padding: 0 0 0 0;\n",
              "    width: 32px;\n",
              "  }\n",
              "\n",
              "  .colab-df-quickchart:hover {\n",
              "    background-color: #E2EBFA;\n",
              "    box-shadow: 0px 1px 2px rgba(60, 64, 67, 0.3), 0px 1px 3px 1px rgba(60, 64, 67, 0.15);\n",
              "    fill: #174EA6;\n",
              "  }\n",
              "\n",
              "  [theme=dark] .colab-df-quickchart {\n",
              "    background-color: #3B4455;\n",
              "    fill: #D2E3FC;\n",
              "  }\n",
              "\n",
              "  [theme=dark] .colab-df-quickchart:hover {\n",
              "    background-color: #434B5C;\n",
              "    box-shadow: 0px 1px 3px 1px rgba(0, 0, 0, 0.15);\n",
              "    filter: drop-shadow(0px 1px 2px rgba(0, 0, 0, 0.3));\n",
              "    fill: #FFFFFF;\n",
              "  }\n",
              "</style>\n",
              "\n",
              "  <script>\n",
              "    async function quickchart(key) {\n",
              "      const charts = await google.colab.kernel.invokeFunction(\n",
              "          'suggestCharts', [key], {});\n",
              "    }\n",
              "    (() => {\n",
              "      let quickchartButtonEl =\n",
              "        document.querySelector('#df-0055a6f2-b564-4d74-b3ee-a08231023595 button');\n",
              "      quickchartButtonEl.style.display =\n",
              "        google.colab.kernel.accessAllowed ? 'block' : 'none';\n",
              "    })();\n",
              "  </script>\n",
              "</div>\n",
              "    </div>\n",
              "  </div>\n"
            ]
          },
          "metadata": {},
          "execution_count": 24
        }
      ]
    },
    {
      "cell_type": "code",
      "source": [
        "plt.bar(['recommended','not_recommended'], df_ac['recommend'].value_counts())"
      ],
      "metadata": {
        "colab": {
          "base_uri": "https://localhost:8080/",
          "height": 448
        },
        "id": "4fvs3TDn_qSm",
        "outputId": "2efd9cd1-220b-4ecd-9cac-d0e60ad43afa"
      },
      "execution_count": 25,
      "outputs": [
        {
          "output_type": "execute_result",
          "data": {
            "text/plain": [
              "<BarContainer object of 2 artists>"
            ]
          },
          "metadata": {},
          "execution_count": 25
        },
        {
          "output_type": "display_data",
          "data": {
            "text/plain": [
              "<Figure size 640x480 with 1 Axes>"
            ],
            "image/png": "[encoded data removed]"
          },
          "metadata": {}
        }
      ]
    },
    {
      "cell_type": "code",
      "source": [
        "df_ac['comment'].iloc[11]"
      ],
      "metadata": {
        "colab": {
          "base_uri": "https://localhost:8080/",
          "height": 72
        },
        "id": "vnB4iBNQEHyj",
        "outputId": "ccbc4455-e11a-44f8-a84b-3c310011161f"
      },
      "execution_count": 26,
      "outputs": [
        {
          "output_type": "execute_result",
          "data": {
            "text/plain": [
              "'سلام. دوستان این هدست با توجه به قیمتش فوق العادست. درضمن من از فروشگاه اختصاصی  این دستگاه برنامه ای خیلی خوب و با کیفیتی رو به صورت رایگان دانلود کردم. اما اگر کیفیتش رو با هدست های چند میلیونی که با یک کامپیوتر گیمینک کار میکنند مقایسه کنیم قطعا این مدل که انرژی مورد نیازشو از یک گوشی میگیره کم تره. ولی با این حال اون قدر فوق العادست که این اصلا اهمیت نداره. در ضمن اگر یه نرم افزار رویه گوشیتون نصب کنید میتونید اجرای خودکار رو غیر فعال کنید و برنامه هایی رو هم که در فروشگاه اختصاصی این دستگاه نیست رو اجرا کنید.'"
            ],
            "application/vnd.google.colaboratory.intrinsic+json": {
              "type": "string"
            }
          },
          "metadata": {},
          "execution_count": 26
        }
      ]
    },
    {
      "cell_type": "markdown",
      "source": [
        "## hazm"
      ],
      "metadata": {
        "id": "3Z1lXLDVWPeC"
      }
    },
    {
      "cell_type": "code",
      "source": [
        "#hazm\n",
        "!pip install hazm\n",
        "from hazm import *"
      ],
      "metadata": {
        "id": "08y1szX2ERgL"
      },
      "execution_count": null,
      "outputs": []
    },
    {
      "cell_type": "code",
      "source": [
        "stemmer = Stemmer()\n",
        "lemma = Lemmatizer()\n",
        "normalizer = Normalizer()"
      ],
      "metadata": {
        "id": "gJm_5UPcFGgA"
      },
      "execution_count": 28,
      "outputs": []
    },
    {
      "cell_type": "code",
      "source": [
        "stopword = stopwords_list()\n",
        "unwanted_num = {'زیاد','هستند','عالی','نیستند','نبود','نمی شود', 'است', 'می شود', 'شد', 'شده', 'بود' ,'نیست', 'خوبی', 'خوب' ,'بهترین', 'بهتر', 'متاسفانه'}\n",
        "stopwords = [item for item in stopword if item not in unwanted_num]"
      ],
      "metadata": {
        "id": "ove3YlqGFGWB"
      },
      "execution_count": 29,
      "outputs": []
    },
    {
      "cell_type": "code",
      "source": [
        "stopword"
      ],
      "metadata": {
        "id": "Ay2SBtoQFO1V"
      },
      "execution_count": null,
      "outputs": []
    },
    {
      "cell_type": "markdown",
      "source": [
        "## preprocessing"
      ],
      "metadata": {
        "id": "DMjowwGzWUh-"
      }
    },
    {
      "cell_type": "code",
      "source": [
        "def preprocess(review_text):\n",
        "  review_text = re.sub('https\\S+','',review_text)\n",
        "  review_text = re.sub('[a-zA-z]','',review_text)\n",
        "  review_text = re.sub(r'[!”#$%&’()*٪+,-/:;<=>?@[\\]^_`{|}~0-9۱۲۳۴۵۶۷۸۹۰]','',review_text)\n",
        "  review_text = re.sub(r'[\\s]{2,}', ' ',review_text)\n",
        "  review_text = re.sub(r'(\\w)\\1{2,}', r'\\1',review_text)\n",
        "  review_text = normalizer.normalize(review_text)\n",
        "  # review_text = sent_tokenize(review_text)\n",
        "  review_text = word_tokenize(review_text)\n",
        "  review_text = [item for item in review_text if item not in stopwords]\n",
        "  review_text = [stemmer.stem(i) for i in review_text]\n",
        "  review_text = [lemma.lemmatize(word=w, pos='v') for w in review_text]\n",
        "  review_text = [i for i in review_text if len(i) > 1]\n",
        "  review_text = ' '.join(review_text)\n",
        "  if re.search(r'[\\u0600-\\u06FF]', review_text):\n",
        "    return review_text\n",
        "  else:\n",
        "    return None"
      ],
      "metadata": {
        "id": "4SxbrnF7FZSZ"
      },
      "execution_count": 31,
      "outputs": []
    },
    {
      "cell_type": "code",
      "source": [
        "tqdm.pandas()"
      ],
      "metadata": {
        "id": "P5RkhZLoFcGc"
      },
      "execution_count": 32,
      "outputs": []
    },
    {
      "cell_type": "code",
      "source": [
        "df_ac.isnull().sum()"
      ],
      "metadata": {
        "colab": {
          "base_uri": "https://localhost:8080/"
        },
        "id": "gv8lQFGFGQtB",
        "outputId": "ba6df838-3232-453c-b4a7-1f0b7b9f8a90"
      },
      "execution_count": 33,
      "outputs": [
        {
          "output_type": "execute_result",
          "data": {
            "text/plain": [
              "recommend    0\n",
              "comment      7\n",
              "dtype: int64"
            ]
          },
          "metadata": {},
          "execution_count": 33
        }
      ]
    },
    {
      "cell_type": "code",
      "source": [
        "df_ac = df_ac.dropna()"
      ],
      "metadata": {
        "id": "Vy4eeR1DGVmD"
      },
      "execution_count": 34,
      "outputs": []
    },
    {
      "cell_type": "code",
      "source": [
        "df_ac.info()"
      ],
      "metadata": {
        "colab": {
          "base_uri": "https://localhost:8080/"
        },
        "id": "vzhcOwrUGZNe",
        "outputId": "611020fb-5a89-4a69-f15b-e75475269696"
      },
      "execution_count": 35,
      "outputs": [
        {
          "output_type": "stream",
          "name": "stdout",
          "text": [
            "<class 'pandas.core.frame.DataFrame'>\n",
            "Int64Index: 14442 entries, 1 to 99983\n",
            "Data columns (total 2 columns):\n",
            " #   Column     Non-Null Count  Dtype \n",
            "---  ------     --------------  ----- \n",
            " 0   recommend  14442 non-null  object\n",
            " 1   comment    14442 non-null  object\n",
            "dtypes: object(2)\n",
            "memory usage: 338.5+ KB\n"
          ]
        }
      ]
    },
    {
      "cell_type": "code",
      "source": [
        "df_ac['CleanText'] = df_ac['comment'].progress_apply(preprocess)"
      ],
      "metadata": {
        "colab": {
          "base_uri": "https://localhost:8080/"
        },
        "id": "1TqiZPM3Gg8m",
        "outputId": "c4fd3169-8846-4719-f006-e459deb643d2"
      },
      "execution_count": 36,
      "outputs": [
        {
          "output_type": "stream",
          "name": "stderr",
          "text": [
            "100%|██████████| 14442/14442 [00:26<00:00, 553.91it/s]\n"
          ]
        }
      ]
    },
    {
      "cell_type": "code",
      "source": [
        "df_ac['CleanText'].iloc[11]"
      ],
      "metadata": {
        "colab": {
          "base_uri": "https://localhost:8080/",
          "height": 54
        },
        "id": "WJ7NoDglGt63",
        "outputId": "3b4f30f0-d6d9-449d-8ca2-0d324748dc49"
      },
      "execution_count": 37,
      "outputs": [
        {
          "output_type": "execute_result",
          "data": {
            "text/plain": [
              "'سلا دوس هدس توجه قیمت العادس درضمن فروشگاه اختصاص دستگاه برنامه خوب کیفیت صور رایگ دانلود کیفیت هدست میلیون کامپیو گیمینک کار مقایسه قطعا مدل انرژ نیازشو گوش میگیره تره اون قدر العادس اصلا اهم نداره یه نرم\\u200cافزار رویه گوشیتون نصب میتونید اجرا خودکار فعال برنامه فروشگاه اختصاص دستگاه نیس'"
            ],
            "application/vnd.google.colaboratory.intrinsic+json": {
              "type": "string"
            }
          },
          "metadata": {},
          "execution_count": 37
        }
      ]
    },
    {
      "cell_type": "code",
      "source": [
        "df_ac.head(5)"
      ],
      "metadata": {
        "colab": {
          "base_uri": "https://localhost:8080/",
          "height": 206
        },
        "id": "KMV6i3uxHEEF",
        "outputId": "21bcb9a4-356e-4f29-88b1-4380cfda3f5e"
      },
      "execution_count": 38,
      "outputs": [
        {
          "output_type": "execute_result",
          "data": {
            "text/plain": [
              "      recommend                                            comment  \\\n",
              "1   recommended  سلام، قبل اینکه نظرم رو بگم میخواستم به یک موض...   \n",
              "5   recommended  سلام دوستان،،_x000D_\\nمنم مثه بعضی از دوستان ق...   \n",
              "6   recommended  من چند سالی هست که این اسپیکرو خریدم و واقعا ح...   \n",
              "10  recommended  نزدیک به دو ساله که این هارد رو خریدم. استفاده...   \n",
              "13  recommended  من این پاور بانک رو حدود یک سال پیش از دیجی کا...   \n",
              "\n",
              "                                            CleanText  \n",
              "1   سلا نظر بگ می‌خواس موضوع اشاره نظرات کالا ثب ه...  \n",
              "5   سلا دوس من مثه دوس خرید تحقیق لپ‌تاپ عال انجا ...  \n",
              "6   سال هس اسپیکرو خرید واقعا حرف نداره برندا دیگه...  \n",
              "10  هارد خرید استفاده سنگین از ندا عنو یه بک آپ اط...  \n",
              "13  پاور بانک سال دیج کالا گرف واقعا از راض هس عال...  "
            ],
            "text/html": [
              "\n",
              "  <div id=\"df-3f6ed877-1013-4e8a-b0fa-93e44c7138ad\" class=\"colab-df-container\">\n",
              "    <div>\n",
              "<style scoped>\n",
              "    .dataframe tbody tr th:only-of-type {\n",
              "        vertical-align: middle;\n",
              "    }\n",
              "\n",
              "    .dataframe tbody tr th {\n",
              "        vertical-align: top;\n",
              "    }\n",
              "\n",
              "    .dataframe thead th {\n",
              "        text-align: right;\n",
              "    }\n",
              "</style>\n",
              "<table border=\"1\" class=\"dataframe\">\n",
              "  <thead>\n",
              "    <tr style=\"text-align: right;\">\n",
              "      <th></th>\n",
              "      <th>recommend</th>\n",
              "      <th>comment</th>\n",
              "      <th>CleanText</th>\n",
              "    </tr>\n",
              "  </thead>\n",
              "  <tbody>\n",
              "    <tr>\n",
              "      <th>1</th>\n",
              "      <td>recommended</td>\n",
              "      <td>سلام، قبل اینکه نظرم رو بگم میخواستم به یک موض...</td>\n",
              "      <td>سلا نظر بگ می‌خواس موضوع اشاره نظرات کالا ثب ه...</td>\n",
              "    </tr>\n",
              "    <tr>\n",
              "      <th>5</th>\n",
              "      <td>recommended</td>\n",
              "      <td>سلام دوستان،،_x000D_\\nمنم مثه بعضی از دوستان ق...</td>\n",
              "      <td>سلا دوس من مثه دوس خرید تحقیق لپ‌تاپ عال انجا ...</td>\n",
              "    </tr>\n",
              "    <tr>\n",
              "      <th>6</th>\n",
              "      <td>recommended</td>\n",
              "      <td>من چند سالی هست که این اسپیکرو خریدم و واقعا ح...</td>\n",
              "      <td>سال هس اسپیکرو خرید واقعا حرف نداره برندا دیگه...</td>\n",
              "    </tr>\n",
              "    <tr>\n",
              "      <th>10</th>\n",
              "      <td>recommended</td>\n",
              "      <td>نزدیک به دو ساله که این هارد رو خریدم. استفاده...</td>\n",
              "      <td>هارد خرید استفاده سنگین از ندا عنو یه بک آپ اط...</td>\n",
              "    </tr>\n",
              "    <tr>\n",
              "      <th>13</th>\n",
              "      <td>recommended</td>\n",
              "      <td>من این پاور بانک رو حدود یک سال پیش از دیجی کا...</td>\n",
              "      <td>پاور بانک سال دیج کالا گرف واقعا از راض هس عال...</td>\n",
              "    </tr>\n",
              "  </tbody>\n",
              "</table>\n",
              "</div>\n",
              "    <div class=\"colab-df-buttons\">\n",
              "\n",
              "  <div class=\"colab-df-container\">\n",
              "    <button class=\"colab-df-convert\" onclick=\"convertToInteractive('df-3f6ed877-1013-4e8a-b0fa-93e44c7138ad')\"\n",
              "            title=\"Convert this dataframe to an interactive table.\"\n",
              "            style=\"display:none;\">\n",
              "\n",
              "  <svg xmlns=\"http://www.w3.org/2000/svg\" height=\"24px\" viewBox=\"0 -960 960 960\">\n",
              "    <path d=\"M120-120v-720h720v720H120Zm60-500h600v-160H180v160Zm220 220h160v-160H400v160Zm0 220h160v-160H400v160ZM180-400h160v-160H180v160Zm440 0h160v-160H620v160ZM180-180h160v-160H180v160Zm440 0h160v-160H620v160Z\"/>\n",
              "  </svg>\n",
              "    </button>\n",
              "\n",
              "  <style>\n",
              "    .colab-df-container {\n",
              "      display:flex;\n",
              "      gap: 12px;\n",
              "    }\n",
              "\n",
              "    .colab-df-convert {\n",
              "      background-color: #E8F0FE;\n",
              "      border: none;\n",
              "      border-radius: 50%;\n",
              "      cursor: pointer;\n",
              "      display: none;\n",
              "      fill: #1967D2;\n",
              "      height: 32px;\n",
              "      padding: 0 0 0 0;\n",
              "      width: 32px;\n",
              "    }\n",
              "\n",
              "    .colab-df-convert:hover {\n",
              "      background-color: #E2EBFA;\n",
              "      box-shadow: 0px 1px 2px rgba(60, 64, 67, 0.3), 0px 1px 3px 1px rgba(60, 64, 67, 0.15);\n",
              "      fill: #174EA6;\n",
              "    }\n",
              "\n",
              "    .colab-df-buttons div {\n",
              "      margin-bottom: 4px;\n",
              "    }\n",
              "\n",
              "    [theme=dark] .colab-df-convert {\n",
              "      background-color: #3B4455;\n",
              "      fill: #D2E3FC;\n",
              "    }\n",
              "\n",
              "    [theme=dark] .colab-df-convert:hover {\n",
              "      background-color: #434B5C;\n",
              "      box-shadow: 0px 1px 3px 1px rgba(0, 0, 0, 0.15);\n",
              "      filter: drop-shadow(0px 1px 2px rgba(0, 0, 0, 0.3));\n",
              "      fill: #FFFFFF;\n",
              "    }\n",
              "  </style>\n",
              "\n",
              "    <script>\n",
              "      const buttonEl =\n",
              "        document.querySelector('#df-3f6ed877-1013-4e8a-b0fa-93e44c7138ad button.colab-df-convert');\n",
              "      buttonEl.style.display =\n",
              "        google.colab.kernel.accessAllowed ? 'block' : 'none';\n",
              "\n",
              "      async function convertToInteractive(key) {\n",
              "        const element = document.querySelector('#df-3f6ed877-1013-4e8a-b0fa-93e44c7138ad');\n",
              "        const dataTable =\n",
              "          await google.colab.kernel.invokeFunction('convertToInteractive',\n",
              "                                                    [key], {});\n",
              "        if (!dataTable) return;\n",
              "\n",
              "        const docLinkHtml = 'Like what you see? Visit the ' +\n",
              "          '<a target=\"_blank\" href=https://colab.research.google.com/notebooks/data_table.ipynb>data table notebook</a>'\n",
              "          + ' to learn more about interactive tables.';\n",
              "        element.innerHTML = '';\n",
              "        dataTable['output_type'] = 'display_data';\n",
              "        await google.colab.output.renderOutput(dataTable, element);\n",
              "        const docLink = document.createElement('div');\n",
              "        docLink.innerHTML = docLinkHtml;\n",
              "        element.appendChild(docLink);\n",
              "      }\n",
              "    </script>\n",
              "  </div>\n",
              "\n",
              "\n",
              "<div id=\"df-a472b373-fec7-467a-bb93-25b7d13b84c9\">\n",
              "  <button class=\"colab-df-quickchart\" onclick=\"quickchart('df-a472b373-fec7-467a-bb93-25b7d13b84c9')\"\n",
              "            title=\"Suggest charts.\"\n",
              "            style=\"display:none;\">\n",
              "\n",
              "<svg xmlns=\"http://www.w3.org/2000/svg\" height=\"24px\"viewBox=\"0 0 24 24\"\n",
              "     width=\"24px\">\n",
              "    <g>\n",
              "        <path d=\"M19 3H5c-1.1 0-2 .9-2 2v14c0 1.1.9 2 2 2h14c1.1 0 2-.9 2-2V5c0-1.1-.9-2-2-2zM9 17H7v-7h2v7zm4 0h-2V7h2v10zm4 0h-2v-4h2v4z\"/>\n",
              "    </g>\n",
              "</svg>\n",
              "  </button>\n",
              "\n",
              "<style>\n",
              "  .colab-df-quickchart {\n",
              "    background-color: #E8F0FE;\n",
              "    border: none;\n",
              "    border-radius: 50%;\n",
              "    cursor: pointer;\n",
              "    display: none;\n",
              "    fill: #1967D2;\n",
              "    height: 32px;\n",
              "    padding: 0 0 0 0;\n",
              "    width: 32px;\n",
              "  }\n",
              "\n",
              "  .colab-df-quickchart:hover {\n",
              "    background-color: #E2EBFA;\n",
              "    box-shadow: 0px 1px 2px rgba(60, 64, 67, 0.3), 0px 1px 3px 1px rgba(60, 64, 67, 0.15);\n",
              "    fill: #174EA6;\n",
              "  }\n",
              "\n",
              "  [theme=dark] .colab-df-quickchart {\n",
              "    background-color: #3B4455;\n",
              "    fill: #D2E3FC;\n",
              "  }\n",
              "\n",
              "  [theme=dark] .colab-df-quickchart:hover {\n",
              "    background-color: #434B5C;\n",
              "    box-shadow: 0px 1px 3px 1px rgba(0, 0, 0, 0.15);\n",
              "    filter: drop-shadow(0px 1px 2px rgba(0, 0, 0, 0.3));\n",
              "    fill: #FFFFFF;\n",
              "  }\n",
              "</style>\n",
              "\n",
              "  <script>\n",
              "    async function quickchart(key) {\n",
              "      const charts = await google.colab.kernel.invokeFunction(\n",
              "          'suggestCharts', [key], {});\n",
              "    }\n",
              "    (() => {\n",
              "      let quickchartButtonEl =\n",
              "        document.querySelector('#df-a472b373-fec7-467a-bb93-25b7d13b84c9 button');\n",
              "      quickchartButtonEl.style.display =\n",
              "        google.colab.kernel.accessAllowed ? 'block' : 'none';\n",
              "    })();\n",
              "  </script>\n",
              "</div>\n",
              "    </div>\n",
              "  </div>\n"
            ]
          },
          "metadata": {},
          "execution_count": 38
        }
      ]
    },
    {
      "cell_type": "code",
      "source": [
        "df_ac = df_ac.dropna()"
      ],
      "metadata": {
        "id": "Ja2Buf2nHL6W"
      },
      "execution_count": 39,
      "outputs": []
    },
    {
      "cell_type": "code",
      "source": [
        "df_ac.info()"
      ],
      "metadata": {
        "colab": {
          "base_uri": "https://localhost:8080/"
        },
        "id": "_rVo6UJeH4jt",
        "outputId": "667418f4-3e0a-4069-a660-0bcc38769c61"
      },
      "execution_count": 40,
      "outputs": [
        {
          "output_type": "stream",
          "name": "stdout",
          "text": [
            "<class 'pandas.core.frame.DataFrame'>\n",
            "Int64Index: 14436 entries, 1 to 99983\n",
            "Data columns (total 3 columns):\n",
            " #   Column     Non-Null Count  Dtype \n",
            "---  ------     --------------  ----- \n",
            " 0   recommend  14436 non-null  object\n",
            " 1   comment    14436 non-null  object\n",
            " 2   CleanText  14436 non-null  object\n",
            "dtypes: object(3)\n",
            "memory usage: 451.1+ KB\n"
          ]
        }
      ]
    },
    {
      "cell_type": "code",
      "source": [
        "from sklearn.preprocessing import LabelEncoder\n",
        "label_encoder = LabelEncoder()\n",
        "\n",
        "# Fit and transform the 'category' column\n",
        "df_ac['recommend'] = label_encoder.fit_transform(df_ac['recommend'])\n",
        "# 2 = recommended 1= not_recommended 0=no_idea"
      ],
      "metadata": {
        "id": "NIMLLFkmH8tM"
      },
      "execution_count": 41,
      "outputs": []
    },
    {
      "cell_type": "code",
      "source": [
        "df_ac.iloc[20:50:5,:]"
      ],
      "metadata": {
        "colab": {
          "base_uri": "https://localhost:8080/",
          "height": 237
        },
        "id": "n4DXaGTvJOQ9",
        "outputId": "7aa943ac-99c6-4b98-a598-3c596d110563"
      },
      "execution_count": 42,
      "outputs": [
        {
          "output_type": "execute_result",
          "data": {
            "text/plain": [
              "     recommend                                            comment  \\\n",
              "52           1  من نمیدونم چرا میگید صداش زیاده. به نظرم صداش ...   \n",
              "62           1  من دقیقا دو ساله این هارد رو خریدم و توی نظرات...   \n",
              "79           1  این موس خیلی قشنگ و خوش دست و البته باکیفیت هس...   \n",
              "93           0  نسبت به قیمت لپ تاپ خوبیه_x000D_\\nولی اگر کیفی...   \n",
              "117          1  بعد از ۳ سال استفاده در پخش خودرو به جرات میشه...   \n",
              "143          1  من این رو ۲.۵ سال پیش از دیجیکالا خریدم. بدون ...   \n",
              "\n",
              "                                             CleanText  \n",
              "52   نمیدون میگید صدا زیاده نظر صدا طبیعیه زیاد نیس...  \n",
              "62   دقیقا هارد خرید تو نظر جزو کسا هس داد برید نظر...  \n",
              "79   موس قشنگ خوش‌دس باکیف هس بنظر بدرد گیمر میخوره...  \n",
              "93   قیم لپ‌تاپ خوبیه کیف ساخ طراح ظاهر براتون مهمه...  \n",
              "117  سال استفاده خودرو جر میشه یک‌کلا فوق‌العاده خر...  \n",
              "143  سال دیجیکالا خرید مشکل خرا خط آسیب‌دیدگ هیچ دس...  "
            ],
            "text/html": [
              "\n",
              "  <div id=\"df-ae45b6de-9a45-4ec2-ad2c-3ed3f88e89e9\" class=\"colab-df-container\">\n",
              "    <div>\n",
              "<style scoped>\n",
              "    .dataframe tbody tr th:only-of-type {\n",
              "        vertical-align: middle;\n",
              "    }\n",
              "\n",
              "    .dataframe tbody tr th {\n",
              "        vertical-align: top;\n",
              "    }\n",
              "\n",
              "    .dataframe thead th {\n",
              "        text-align: right;\n",
              "    }\n",
              "</style>\n",
              "<table border=\"1\" class=\"dataframe\">\n",
              "  <thead>\n",
              "    <tr style=\"text-align: right;\">\n",
              "      <th></th>\n",
              "      <th>recommend</th>\n",
              "      <th>comment</th>\n",
              "      <th>CleanText</th>\n",
              "    </tr>\n",
              "  </thead>\n",
              "  <tbody>\n",
              "    <tr>\n",
              "      <th>52</th>\n",
              "      <td>1</td>\n",
              "      <td>من نمیدونم چرا میگید صداش زیاده. به نظرم صداش ...</td>\n",
              "      <td>نمیدون میگید صدا زیاده نظر صدا طبیعیه زیاد نیس...</td>\n",
              "    </tr>\n",
              "    <tr>\n",
              "      <th>62</th>\n",
              "      <td>1</td>\n",
              "      <td>من دقیقا دو ساله این هارد رو خریدم و توی نظرات...</td>\n",
              "      <td>دقیقا هارد خرید تو نظر جزو کسا هس داد برید نظر...</td>\n",
              "    </tr>\n",
              "    <tr>\n",
              "      <th>79</th>\n",
              "      <td>1</td>\n",
              "      <td>این موس خیلی قشنگ و خوش دست و البته باکیفیت هس...</td>\n",
              "      <td>موس قشنگ خوش‌دس باکیف هس بنظر بدرد گیمر میخوره...</td>\n",
              "    </tr>\n",
              "    <tr>\n",
              "      <th>93</th>\n",
              "      <td>0</td>\n",
              "      <td>نسبت به قیمت لپ تاپ خوبیه_x000D_\\nولی اگر کیفی...</td>\n",
              "      <td>قیم لپ‌تاپ خوبیه کیف ساخ طراح ظاهر براتون مهمه...</td>\n",
              "    </tr>\n",
              "    <tr>\n",
              "      <th>117</th>\n",
              "      <td>1</td>\n",
              "      <td>بعد از ۳ سال استفاده در پخش خودرو به جرات میشه...</td>\n",
              "      <td>سال استفاده خودرو جر میشه یک‌کلا فوق‌العاده خر...</td>\n",
              "    </tr>\n",
              "    <tr>\n",
              "      <th>143</th>\n",
              "      <td>1</td>\n",
              "      <td>من این رو ۲.۵ سال پیش از دیجیکالا خریدم. بدون ...</td>\n",
              "      <td>سال دیجیکالا خرید مشکل خرا خط آسیب‌دیدگ هیچ دس...</td>\n",
              "    </tr>\n",
              "  </tbody>\n",
              "</table>\n",
              "</div>\n",
              "    <div class=\"colab-df-buttons\">\n",
              "\n",
              "  <div class=\"colab-df-container\">\n",
              "    <button class=\"colab-df-convert\" onclick=\"convertToInteractive('df-ae45b6de-9a45-4ec2-ad2c-3ed3f88e89e9')\"\n",
              "            title=\"Convert this dataframe to an interactive table.\"\n",
              "            style=\"display:none;\">\n",
              "\n",
              "  <svg xmlns=\"http://www.w3.org/2000/svg\" height=\"24px\" viewBox=\"0 -960 960 960\">\n",
              "    <path d=\"M120-120v-720h720v720H120Zm60-500h600v-160H180v160Zm220 220h160v-160H400v160Zm0 220h160v-160H400v160ZM180-400h160v-160H180v160Zm440 0h160v-160H620v160ZM180-180h160v-160H180v160Zm440 0h160v-160H620v160Z\"/>\n",
              "  </svg>\n",
              "    </button>\n",
              "\n",
              "  <style>\n",
              "    .colab-df-container {\n",
              "      display:flex;\n",
              "      gap: 12px;\n",
              "    }\n",
              "\n",
              "    .colab-df-convert {\n",
              "      background-color: #E8F0FE;\n",
              "      border: none;\n",
              "      border-radius: 50%;\n",
              "      cursor: pointer;\n",
              "      display: none;\n",
              "      fill: #1967D2;\n",
              "      height: 32px;\n",
              "      padding: 0 0 0 0;\n",
              "      width: 32px;\n",
              "    }\n",
              "\n",
              "    .colab-df-convert:hover {\n",
              "      background-color: #E2EBFA;\n",
              "      box-shadow: 0px 1px 2px rgba(60, 64, 67, 0.3), 0px 1px 3px 1px rgba(60, 64, 67, 0.15);\n",
              "      fill: #174EA6;\n",
              "    }\n",
              "\n",
              "    .colab-df-buttons div {\n",
              "      margin-bottom: 4px;\n",
              "    }\n",
              "\n",
              "    [theme=dark] .colab-df-convert {\n",
              "      background-color: #3B4455;\n",
              "      fill: #D2E3FC;\n",
              "    }\n",
              "\n",
              "    [theme=dark] .colab-df-convert:hover {\n",
              "      background-color: #434B5C;\n",
              "      box-shadow: 0px 1px 3px 1px rgba(0, 0, 0, 0.15);\n",
              "      filter: drop-shadow(0px 1px 2px rgba(0, 0, 0, 0.3));\n",
              "      fill: #FFFFFF;\n",
              "    }\n",
              "  </style>\n",
              "\n",
              "    <script>\n",
              "      const buttonEl =\n",
              "        document.querySelector('#df-ae45b6de-9a45-4ec2-ad2c-3ed3f88e89e9 button.colab-df-convert');\n",
              "      buttonEl.style.display =\n",
              "        google.colab.kernel.accessAllowed ? 'block' : 'none';\n",
              "\n",
              "      async function convertToInteractive(key) {\n",
              "        const element = document.querySelector('#df-ae45b6de-9a45-4ec2-ad2c-3ed3f88e89e9');\n",
              "        const dataTable =\n",
              "          await google.colab.kernel.invokeFunction('convertToInteractive',\n",
              "                                                    [key], {});\n",
              "        if (!dataTable) return;\n",
              "\n",
              "        const docLinkHtml = 'Like what you see? Visit the ' +\n",
              "          '<a target=\"_blank\" href=https://colab.research.google.com/notebooks/data_table.ipynb>data table notebook</a>'\n",
              "          + ' to learn more about interactive tables.';\n",
              "        element.innerHTML = '';\n",
              "        dataTable['output_type'] = 'display_data';\n",
              "        await google.colab.output.renderOutput(dataTable, element);\n",
              "        const docLink = document.createElement('div');\n",
              "        docLink.innerHTML = docLinkHtml;\n",
              "        element.appendChild(docLink);\n",
              "      }\n",
              "    </script>\n",
              "  </div>\n",
              "\n",
              "\n",
              "<div id=\"df-1a93a1e0-e315-4304-89ca-0f1313145d7f\">\n",
              "  <button class=\"colab-df-quickchart\" onclick=\"quickchart('df-1a93a1e0-e315-4304-89ca-0f1313145d7f')\"\n",
              "            title=\"Suggest charts.\"\n",
              "            style=\"display:none;\">\n",
              "\n",
              "<svg xmlns=\"http://www.w3.org/2000/svg\" height=\"24px\"viewBox=\"0 0 24 24\"\n",
              "     width=\"24px\">\n",
              "    <g>\n",
              "        <path d=\"M19 3H5c-1.1 0-2 .9-2 2v14c0 1.1.9 2 2 2h14c1.1 0 2-.9 2-2V5c0-1.1-.9-2-2-2zM9 17H7v-7h2v7zm4 0h-2V7h2v10zm4 0h-2v-4h2v4z\"/>\n",
              "    </g>\n",
              "</svg>\n",
              "  </button>\n",
              "\n",
              "<style>\n",
              "  .colab-df-quickchart {\n",
              "    background-color: #E8F0FE;\n",
              "    border: none;\n",
              "    border-radius: 50%;\n",
              "    cursor: pointer;\n",
              "    display: none;\n",
              "    fill: #1967D2;\n",
              "    height: 32px;\n",
              "    padding: 0 0 0 0;\n",
              "    width: 32px;\n",
              "  }\n",
              "\n",
              "  .colab-df-quickchart:hover {\n",
              "    background-color: #E2EBFA;\n",
              "    box-shadow: 0px 1px 2px rgba(60, 64, 67, 0.3), 0px 1px 3px 1px rgba(60, 64, 67, 0.15);\n",
              "    fill: #174EA6;\n",
              "  }\n",
              "\n",
              "  [theme=dark] .colab-df-quickchart {\n",
              "    background-color: #3B4455;\n",
              "    fill: #D2E3FC;\n",
              "  }\n",
              "\n",
              "  [theme=dark] .colab-df-quickchart:hover {\n",
              "    background-color: #434B5C;\n",
              "    box-shadow: 0px 1px 3px 1px rgba(0, 0, 0, 0.15);\n",
              "    filter: drop-shadow(0px 1px 2px rgba(0, 0, 0, 0.3));\n",
              "    fill: #FFFFFF;\n",
              "  }\n",
              "</style>\n",
              "\n",
              "  <script>\n",
              "    async function quickchart(key) {\n",
              "      const charts = await google.colab.kernel.invokeFunction(\n",
              "          'suggestCharts', [key], {});\n",
              "    }\n",
              "    (() => {\n",
              "      let quickchartButtonEl =\n",
              "        document.querySelector('#df-1a93a1e0-e315-4304-89ca-0f1313145d7f button');\n",
              "      quickchartButtonEl.style.display =\n",
              "        google.colab.kernel.accessAllowed ? 'block' : 'none';\n",
              "    })();\n",
              "  </script>\n",
              "</div>\n",
              "    </div>\n",
              "  </div>\n"
            ]
          },
          "metadata": {},
          "execution_count": 42
        }
      ]
    },
    {
      "cell_type": "markdown",
      "source": [
        "## TF/IDF"
      ],
      "metadata": {
        "id": "S_uYvMRMWwgL"
      }
    },
    {
      "cell_type": "code",
      "source": [
        "from sklearn.feature_extraction.text import TfidfVectorizer\n",
        "tf = TfidfVectorizer(min_df=2, max_features= 7000)\n",
        "X_tfidf = tf.fit_transform(df_ac['CleanText']).todense()"
      ],
      "metadata": {
        "id": "dCVM2uX3K2ix"
      },
      "execution_count": 43,
      "outputs": []
    },
    {
      "cell_type": "code",
      "source": [
        "labels = df_ac['recommend'].values"
      ],
      "metadata": {
        "id": "w27_ivbgWQHh"
      },
      "execution_count": 44,
      "outputs": []
    },
    {
      "cell_type": "code",
      "source": [
        "X_tfidf = np.squeeze(np.asarray(X_tfidf))"
      ],
      "metadata": {
        "id": "36ppAN0LWaoA"
      },
      "execution_count": 45,
      "outputs": []
    },
    {
      "cell_type": "code",
      "source": [
        "#balancing data\n",
        "from imblearn.over_sampling import SMOTE\n",
        "\n",
        "# X is your text data and y is the corresponding labels\n",
        "smote = SMOTE()\n",
        "X, y = smote.fit_resample(X_tfidf, labels)"
      ],
      "metadata": {
        "id": "OhGBP4Q0lNGI"
      },
      "execution_count": null,
      "outputs": []
    },
    {
      "cell_type": "markdown",
      "source": [
        "## train test split"
      ],
      "metadata": {
        "id": "EEKD0drpW0ML"
      }
    },
    {
      "cell_type": "code",
      "source": [
        "X_train, X_test, y_train, y_test = train_test_split(X, y, test_size=0.2, random_state=42)"
      ],
      "metadata": {
        "id": "-rZdXLUyWeEx"
      },
      "execution_count": 47,
      "outputs": []
    },
    {
      "cell_type": "code",
      "source": [
        "X_train.shape, X_test.shape, y_train.shape, y_test.shape"
      ],
      "metadata": {
        "colab": {
          "base_uri": "https://localhost:8080/"
        },
        "id": "7Nl4Mat-WtuR",
        "outputId": "b3448a46-1abc-479b-8601-f007ae46e3e6"
      },
      "execution_count": 48,
      "outputs": [
        {
          "output_type": "execute_result",
          "data": {
            "text/plain": [
              "((15432, 6412), (3858, 6412), (15432,), (3858,))"
            ]
          },
          "metadata": {},
          "execution_count": 48
        }
      ]
    },
    {
      "cell_type": "code",
      "source": [
        "import warnings\n",
        "warnings.filterwarnings(\"ignore\")"
      ],
      "metadata": {
        "id": "Ytxh8OlRXGtu"
      },
      "execution_count": 49,
      "outputs": []
    },
    {
      "cell_type": "markdown",
      "source": [
        "## Logistic regression"
      ],
      "metadata": {
        "id": "_jehgl0oX66c"
      }
    },
    {
      "cell_type": "code",
      "source": [
        "from sklearn.model_selection import GridSearchCV"
      ],
      "metadata": {
        "id": "Vwt31etssn2N"
      },
      "execution_count": 50,
      "outputs": []
    },
    {
      "cell_type": "code",
      "source": [
        "# hyperparameters tuning\n",
        "# LR = LogisticRegression()\n",
        "# grid = {'C': [0.001, 0.01, 0.1, 1, 10, 100],\n",
        "#         'penalty': ['l1', 'l2'],\n",
        "#         'solver': ['lbfgs', 'liblinear']}\n",
        "\n",
        "# # perform grid search cross-validation to find the best hyperparameters\n",
        "# grid_search = GridSearchCV(estimator=LR, param_grid=grid, cv=5, n_jobs=-1, scoring='accuracy',verbose=4)\n",
        "# grid_search.fit(X_train, y_train)\n",
        "\n",
        "# # print the best hyperparameters and the corresponding mean cross-validation score\n",
        "# print(\"Best Hyperparameters: \", grid_search.best_params_)\n",
        "# print(\"Best Accuracy Score: \", grid_search.best_score_)"
      ],
      "metadata": {
        "id": "-JkIQv8Gp78a"
      },
      "execution_count": 51,
      "outputs": []
    },
    {
      "cell_type": "code",
      "source": [
        "#logisticregression\n",
        "from time import perf_counter\n",
        "start_tra = perf_counter()\n",
        "\n",
        "LR = LogisticRegression(C=10, penalty='l2', solver='liblinear', random_state=42)\n",
        "LR.fit(X_train,y_train)\n",
        "\n",
        "end_tra = perf_counter()\n",
        "print(f'train phase time: ', round((end_tra-start_tra), 1))\n",
        "\n",
        "score = LR.score(X_test, y_test)\n",
        "print(\"Accuracy:\", score)\n",
        "y_pred = LR.predict(X_test)\n",
        "print(classification_report(y_test, y_pred))"
      ],
      "metadata": {
        "colab": {
          "base_uri": "https://localhost:8080/"
        },
        "id": "C3oiSQa5XOQI",
        "outputId": "6d3877c2-77bb-4029-dd6d-753b10006578"
      },
      "execution_count": 52,
      "outputs": [
        {
          "output_type": "stream",
          "name": "stdout",
          "text": [
            "train phase time:  0.7\n",
            "Accuracy: 0.9126490409538621\n",
            "              precision    recall  f1-score   support\n",
            "\n",
            "           0       0.89      0.94      0.91      1900\n",
            "           1       0.94      0.89      0.91      1958\n",
            "\n",
            "    accuracy                           0.91      3858\n",
            "   macro avg       0.91      0.91      0.91      3858\n",
            "weighted avg       0.91      0.91      0.91      3858\n",
            "\n"
          ]
        }
      ]
    },
    {
      "cell_type": "markdown",
      "source": [
        "## Naive bayes"
      ],
      "metadata": {
        "id": "GALwCZUhX0RE"
      }
    },
    {
      "cell_type": "code",
      "source": [
        "# hyperparameters tuning\n",
        "# params = {'alpha': [0.01, 0.1, 0.5, 1.0, 10.0],\n",
        "#           'fit_prior': [True, False],\n",
        "#          }\n",
        "\n",
        "# nb_grid = GridSearchCV(MultinomialNB(), param_grid=params, n_jobs=-1, cv=5, verbose=5)\n",
        "# nb_grid.fit(X_train,y_train)\n",
        "\n",
        "# print('Best Parameters : {}'.format(nb_grid.best_params_))\n",
        "# print('Best Accuracy Through Grid Search : {:.3f}\\n'.format(nb_grid.best_score_))"
      ],
      "metadata": {
        "id": "AidzXXfesjyl",
        "colab": {
          "base_uri": "https://localhost:8080/"
        },
        "outputId": "08309fb2-4dbb-471d-bab8-c64347546199"
      },
      "execution_count": 53,
      "outputs": [
        {
          "output_type": "stream",
          "name": "stdout",
          "text": [
            "Fitting 5 folds for each of 10 candidates, totalling 50 fits\n",
            "Best Parameters : {'alpha': 0.5, 'fit_prior': True}\n",
            "Best Accuracy Through Grid Search : 0.898\n",
            "\n"
          ]
        }
      ]
    },
    {
      "cell_type": "code",
      "source": [
        "start_tra = perf_counter()\n",
        "\n",
        "NB = MultinomialNB(alpha=0.5, fit_prior= True)\n",
        "NB.fit(X_train,y_train)\n",
        "\n",
        "end_tra = perf_counter()\n",
        "print(f'train phase time: ', round((end_tra-start_tra), 1))\n",
        "\n",
        "\n",
        "score = NB.score(X_test, y_test)\n",
        "print(\"Accuracy:\", score)\n",
        "y_pred_NB = NB.predict(X_test)\n",
        "print(classification_report(y_test, y_pred_NB))"
      ],
      "metadata": {
        "colab": {
          "base_uri": "https://localhost:8080/"
        },
        "id": "M2jhdZGkXxet",
        "outputId": "b5e07bdd-5a2a-4da1-d55c-04e596c0dd8d"
      },
      "execution_count": 54,
      "outputs": [
        {
          "output_type": "stream",
          "name": "stdout",
          "text": [
            "train phase time:  0.5\n",
            "Accuracy: 0.897874546397097\n",
            "              precision    recall  f1-score   support\n",
            "\n",
            "           0       0.89      0.90      0.90      1900\n",
            "           1       0.91      0.89      0.90      1958\n",
            "\n",
            "    accuracy                           0.90      3858\n",
            "   macro avg       0.90      0.90      0.90      3858\n",
            "weighted avg       0.90      0.90      0.90      3858\n",
            "\n"
          ]
        }
      ]
    },
    {
      "cell_type": "markdown",
      "source": [
        "## testing model"
      ],
      "metadata": {
        "id": "RWID8FzcXPb9"
      }
    },
    {
      "cell_type": "code",
      "source": [
        "# LogisticRegression\n",
        "X_pred = tf.transform([preprocess('چقددد خفنننن بود')]).todense()\n",
        "X_pred = np.asarray(X_pred)\n",
        "y_new = LR.predict(X_pred)\n",
        "if y_new[0] == 1:\n",
        "  print('Positive')\n",
        "else:\n",
        "  print('Negative')"
      ],
      "metadata": {
        "colab": {
          "base_uri": "https://localhost:8080/"
        },
        "id": "rNN-BbiOkK9a",
        "outputId": "747d6b6b-4d5d-4b33-f980-065988091829"
      },
      "execution_count": 55,
      "outputs": [
        {
          "output_type": "stream",
          "name": "stdout",
          "text": [
            "Negative\n"
          ]
        }
      ]
    },
    {
      "cell_type": "code",
      "source": [
        "# Naive Bayes\n",
        "X_pred = tf.transform([preprocess('خیلی بد بود')]).todense()\n",
        "X_pred = np.asarray(X_pred)\n",
        "y_new = NB.predict(X_pred)\n",
        "if y_new[0] == 1:\n",
        "  print('Positive')\n",
        "else:\n",
        "    print('Negative')"
      ],
      "metadata": {
        "colab": {
          "base_uri": "https://localhost:8080/"
        },
        "id": "sR2bhWIzqXw3",
        "outputId": "020a364d-1e99-4735-f7b6-42c53a35cac6"
      },
      "execution_count": 56,
      "outputs": [
        {
          "output_type": "stream",
          "name": "stdout",
          "text": [
            "Negative\n"
          ]
        }
      ]
    }
  ]
}